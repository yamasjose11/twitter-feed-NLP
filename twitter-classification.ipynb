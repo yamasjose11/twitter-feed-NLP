{
 "cells": [
  {
   "cell_type": "code",
   "execution_count": 1,
   "metadata": {},
   "outputs": [
    {
     "name": "stderr",
     "output_type": "stream",
     "text": [
      "[nltk_data] Downloading package wordnet to\n",
      "[nltk_data]     /home/yamasjose/nltk_data...\n",
      "[nltk_data]   Package wordnet is already up-to-date!\n",
      "[nltk_data] Downloading package stopwords to\n",
      "[nltk_data]     /home/yamasjose/nltk_data...\n",
      "[nltk_data]   Package stopwords is already up-to-date!\n",
      "[nltk_data] Downloading package punkt to /home/yamasjose/nltk_data...\n",
      "[nltk_data]   Package punkt is already up-to-date!\n"
     ]
    },
    {
     "data": {
      "application/javascript": [
       "IPython.notebook.set_autosave_interval(120000)"
      ]
     },
     "metadata": {},
     "output_type": "display_data"
    },
    {
     "name": "stdout",
     "output_type": "stream",
     "text": [
      "Autosaving every 120 seconds\n"
     ]
    }
   ],
   "source": [
    "import unicodedata\n",
    "import pandas as pd\n",
    "import numpy as np\n",
    "import string\n",
    "import sys\n",
    "import re\n",
    "import sklearn\n",
    "import nltk\n",
    "\n",
    "from nltk import FreqDist\n",
    "from nltk.util import ngrams\n",
    "from nltk.tokenize import sent_tokenize\n",
    "from nltk.tokenize import word_tokenize\n",
    "from nltk.corpus import stopwords\n",
    "from nltk.stem.snowball import  SnowballStemmer\n",
    "from nltk.stem import WordNetLemmatizer\n",
    "from nltk.stem.porter import PorterStemmer\n",
    "from nltk.stem.snowball import SnowballStemmer\n",
    "from nltk.stem.wordnet import WordNetLemmatizer\n",
    "# from nltk.classify.scikitlearn import  #SKlearnClassifier\n",
    "from nltk.classify import SklearnClassifier\n",
    "\n",
    "from sklearn import model_selection\n",
    "from sklearn.preprocessing import LabelEncoder\n",
    "from sklearn.neighbors import KNeighborsClassifier\n",
    "from sklearn.tree import DecisionTreeClassifier\n",
    "from sklearn.ensemble import RandomForestClassifier\n",
    "from sklearn.linear_model import  LogisticRegression\n",
    "from sklearn.linear_model import SGDClassifier\n",
    "from sklearn.naive_bayes import MultinomialNB\n",
    "from sklearn.svm import SVC\n",
    "from sklearn.metrics import classification_report, accuracy_score, confusion_matrix\n",
    "from sklearn.feature_extraction.text import CountVectorizer, TfidfVectorizer, TfidfTransformer\n",
    "from sklearn.model_selection import train_test_split\n",
    "\n",
    "from sklearn.model_selection import cross_val_score, GridSearchCV\n",
    "from sklearn.pipeline import Pipeline\n",
    "from sklearn.metrics import classification_report\n",
    "from sklearn.linear_model import SGDClassifier\n",
    "from sklearn.ensemble import RandomForestRegressor\n",
    "from sklearn.ensemble import RandomForestClassifier\n",
    "from sklearn.feature_selection import SelectKBest, chi2\n",
    "\n",
    "\n",
    "import seaborn as sn\n",
    "import matplotlib.pyplot as plt\n",
    "%matplotlib inline\n",
    "\n",
    "nltk.download('wordnet')\n",
    "nltk.download('stopwords')\n",
    "nltk.download('punkt')\n",
    "\n",
    "np.set_printoptions(linewidth=100)\n",
    "\n",
    "%autosave 120"
   ]
  },
  {
   "cell_type": "markdown",
   "metadata": {},
   "source": [
    "###  Importing Data"
   ]
  },
  {
   "cell_type": "code",
   "execution_count": 2,
   "metadata": {},
   "outputs": [],
   "source": [
    "# if on google colab\n",
    "\n",
    "# import io\n",
    "# from google.colab import files \n",
    "# uploaded = files.upload()\n",
    "\n",
    "# twitter = pd.read_csv(io.StringIO(uploaded['data/gender-classifier-DFE-791531.csv'].decode('utf-8')))"
   ]
  },
  {
   "cell_type": "code",
   "execution_count": 3,
   "metadata": {},
   "outputs": [],
   "source": [
    "twitter = pd.read_csv('data/gender-classifier-DFE-791531.csv', encoding='latin-1' )"
   ]
  },
  {
   "cell_type": "markdown",
   "metadata": {},
   "source": [
    "The dataset contains the following fields:\n",
    "\n",
    "**unit_id:** a unique id for user\n",
    "\n",
    "**golden:** whether the user was included in the gold standard for the model; TRUE or FALSE\n",
    "\n",
    "**unit_state:** state of the observation; one of finalized (for contributor-judged) or golden (for gold standard observations)\n",
    "\n",
    "**trusted_judgments:** number of trusted judgments (int); always 3 for non-golden, and what may be a unique id for gold standard observations\n",
    "\n",
    "**last_judgment_at:** date and time of last contributor judgment; blank for gold standard observations\n",
    "\n",
    "**gender:** one of male, female, or brand (for non-human profiles)\n",
    "\n",
    "**gender:confidence:** a float representing confidence in the provided gender\n",
    "\n",
    "**profile_yn:** \"no\" here seems to mean that the profile was meant to be part of the dataset but was not available when contributors went to judge it\n",
    "\n",
    "**profile_yn:confidence:** confidence in the existence/non-existence of the profile\n",
    "\n",
    "**created:** date and time when the profile was created\n",
    "\n",
    "**description:** the user's profile description\n",
    "\n",
    "**fav_number:** number of tweets the user has favorited\n",
    "\n",
    "**gender_gold:** if the profile is golden, what is the gender?\n",
    "\n",
    "**link_color:** the link color on the profile, as a hex value\n",
    "\n",
    "**name:** the user's name\n",
    "\n",
    "**profile_yn_gold:** whether the profile y/n value is golden\n",
    "\n",
    "**profileimage:** a link to the profile image\n",
    "\n",
    "**retweet_count:** number of times the user has retweeted (or possibly, been retweeted)\n",
    "\n",
    "**sidebar_color:** color of the profile sidebar, as a hex value\n",
    "\n",
    "**text:** text of a random one of the user's tweets\n",
    "\n",
    "**tweet_coord:** if the user has location turned on, the coordinates as a string with the format \"[latitude, longitude]\"\n",
    "\n",
    "**tweet_count:** number of tweets that the user has posted\n",
    "\n",
    "**tweet_created:** when the random tweet (in the text column) was created\n",
    "\n",
    "**tweet_id:** the tweet id of the random tweet\n",
    "\n",
    "**tweet_location:** location of the tweet; seems to not be particularly normalized\n",
    "\n",
    "**user_timezone:** the timezone of the user"
   ]
  },
  {
   "cell_type": "code",
   "execution_count": 4,
   "metadata": {},
   "outputs": [
    {
     "data": {
      "text/html": [
       "<div>\n",
       "<style scoped>\n",
       "    .dataframe tbody tr th:only-of-type {\n",
       "        vertical-align: middle;\n",
       "    }\n",
       "\n",
       "    .dataframe tbody tr th {\n",
       "        vertical-align: top;\n",
       "    }\n",
       "\n",
       "    .dataframe thead th {\n",
       "        text-align: right;\n",
       "    }\n",
       "</style>\n",
       "<table border=\"1\" class=\"dataframe\">\n",
       "  <thead>\n",
       "    <tr style=\"text-align: right;\">\n",
       "      <th></th>\n",
       "      <th>_unit_id</th>\n",
       "      <th>_golden</th>\n",
       "      <th>_unit_state</th>\n",
       "      <th>_trusted_judgments</th>\n",
       "      <th>_last_judgment_at</th>\n",
       "      <th>gender</th>\n",
       "      <th>gender:confidence</th>\n",
       "      <th>profile_yn</th>\n",
       "      <th>profile_yn:confidence</th>\n",
       "      <th>created</th>\n",
       "      <th>description</th>\n",
       "      <th>fav_number</th>\n",
       "      <th>gender_gold</th>\n",
       "      <th>link_color</th>\n",
       "      <th>name</th>\n",
       "      <th>profile_yn_gold</th>\n",
       "      <th>profileimage</th>\n",
       "      <th>retweet_count</th>\n",
       "      <th>sidebar_color</th>\n",
       "      <th>text</th>\n",
       "      <th>tweet_coord</th>\n",
       "      <th>tweet_count</th>\n",
       "      <th>tweet_created</th>\n",
       "      <th>tweet_id</th>\n",
       "      <th>tweet_location</th>\n",
       "      <th>user_timezone</th>\n",
       "    </tr>\n",
       "  </thead>\n",
       "  <tbody>\n",
       "    <tr>\n",
       "      <th>0</th>\n",
       "      <td>815719226</td>\n",
       "      <td>False</td>\n",
       "      <td>finalized</td>\n",
       "      <td>3</td>\n",
       "      <td>10/26/15 23:24</td>\n",
       "      <td>male</td>\n",
       "      <td>1.0000</td>\n",
       "      <td>yes</td>\n",
       "      <td>1.0</td>\n",
       "      <td>12/5/13 1:48</td>\n",
       "      <td>i sing my own rhythm.</td>\n",
       "      <td>0</td>\n",
       "      <td>NaN</td>\n",
       "      <td>08C2C2</td>\n",
       "      <td>sheezy0</td>\n",
       "      <td>NaN</td>\n",
       "      <td>https://pbs.twimg.com/profile_images/414342229...</td>\n",
       "      <td>0</td>\n",
       "      <td>FFFFFF</td>\n",
       "      <td>Robbie E Responds To Critics After Win Against...</td>\n",
       "      <td>NaN</td>\n",
       "      <td>110964</td>\n",
       "      <td>10/26/15 12:40</td>\n",
       "      <td>6.587300e+17</td>\n",
       "      <td>main; @Kan1shk3</td>\n",
       "      <td>Chennai</td>\n",
       "    </tr>\n",
       "    <tr>\n",
       "      <th>1</th>\n",
       "      <td>815719227</td>\n",
       "      <td>False</td>\n",
       "      <td>finalized</td>\n",
       "      <td>3</td>\n",
       "      <td>10/26/15 23:30</td>\n",
       "      <td>male</td>\n",
       "      <td>1.0000</td>\n",
       "      <td>yes</td>\n",
       "      <td>1.0</td>\n",
       "      <td>10/1/12 13:51</td>\n",
       "      <td>I'm the author of novels filled with family dr...</td>\n",
       "      <td>68</td>\n",
       "      <td>NaN</td>\n",
       "      <td>0084B4</td>\n",
       "      <td>DavdBurnett</td>\n",
       "      <td>NaN</td>\n",
       "      <td>https://pbs.twimg.com/profile_images/539604221...</td>\n",
       "      <td>0</td>\n",
       "      <td>C0DEED</td>\n",
       "      <td>ÛÏIt felt like they were my friends and I was...</td>\n",
       "      <td>NaN</td>\n",
       "      <td>7471</td>\n",
       "      <td>10/26/15 12:40</td>\n",
       "      <td>6.587300e+17</td>\n",
       "      <td>NaN</td>\n",
       "      <td>Eastern Time (US &amp; Canada)</td>\n",
       "    </tr>\n",
       "    <tr>\n",
       "      <th>2</th>\n",
       "      <td>815719228</td>\n",
       "      <td>False</td>\n",
       "      <td>finalized</td>\n",
       "      <td>3</td>\n",
       "      <td>10/26/15 23:33</td>\n",
       "      <td>male</td>\n",
       "      <td>0.6625</td>\n",
       "      <td>yes</td>\n",
       "      <td>1.0</td>\n",
       "      <td>11/28/14 11:30</td>\n",
       "      <td>louis whining and squealing and all</td>\n",
       "      <td>7696</td>\n",
       "      <td>NaN</td>\n",
       "      <td>ABB8C2</td>\n",
       "      <td>lwtprettylaugh</td>\n",
       "      <td>NaN</td>\n",
       "      <td>https://pbs.twimg.com/profile_images/657330418...</td>\n",
       "      <td>1</td>\n",
       "      <td>C0DEED</td>\n",
       "      <td>i absolutely adore when louis starts the songs...</td>\n",
       "      <td>NaN</td>\n",
       "      <td>5617</td>\n",
       "      <td>10/26/15 12:40</td>\n",
       "      <td>6.587300e+17</td>\n",
       "      <td>clcncl</td>\n",
       "      <td>Belgrade</td>\n",
       "    </tr>\n",
       "    <tr>\n",
       "      <th>3</th>\n",
       "      <td>815719229</td>\n",
       "      <td>False</td>\n",
       "      <td>finalized</td>\n",
       "      <td>3</td>\n",
       "      <td>10/26/15 23:10</td>\n",
       "      <td>male</td>\n",
       "      <td>1.0000</td>\n",
       "      <td>yes</td>\n",
       "      <td>1.0</td>\n",
       "      <td>6/11/09 22:39</td>\n",
       "      <td>Mobile guy.  49ers, Shazam, Google, Kleiner Pe...</td>\n",
       "      <td>202</td>\n",
       "      <td>NaN</td>\n",
       "      <td>0084B4</td>\n",
       "      <td>douggarland</td>\n",
       "      <td>NaN</td>\n",
       "      <td>https://pbs.twimg.com/profile_images/259703936...</td>\n",
       "      <td>0</td>\n",
       "      <td>C0DEED</td>\n",
       "      <td>Hi @JordanSpieth - Looking at the url - do you...</td>\n",
       "      <td>NaN</td>\n",
       "      <td>1693</td>\n",
       "      <td>10/26/15 12:40</td>\n",
       "      <td>6.587300e+17</td>\n",
       "      <td>Palo Alto, CA</td>\n",
       "      <td>Pacific Time (US &amp; Canada)</td>\n",
       "    </tr>\n",
       "    <tr>\n",
       "      <th>4</th>\n",
       "      <td>815719230</td>\n",
       "      <td>False</td>\n",
       "      <td>finalized</td>\n",
       "      <td>3</td>\n",
       "      <td>10/27/15 1:15</td>\n",
       "      <td>female</td>\n",
       "      <td>1.0000</td>\n",
       "      <td>yes</td>\n",
       "      <td>1.0</td>\n",
       "      <td>4/16/14 13:23</td>\n",
       "      <td>Ricky Wilson The Best FRONTMAN/Kaiser Chiefs T...</td>\n",
       "      <td>37318</td>\n",
       "      <td>NaN</td>\n",
       "      <td>3B94D9</td>\n",
       "      <td>WilfordGemma</td>\n",
       "      <td>NaN</td>\n",
       "      <td>https://pbs.twimg.com/profile_images/564094871...</td>\n",
       "      <td>0</td>\n",
       "      <td>0</td>\n",
       "      <td>Watching Neighbours on Sky+ catching up with t...</td>\n",
       "      <td>NaN</td>\n",
       "      <td>31462</td>\n",
       "      <td>10/26/15 12:40</td>\n",
       "      <td>6.587300e+17</td>\n",
       "      <td>NaN</td>\n",
       "      <td>NaN</td>\n",
       "    </tr>\n",
       "  </tbody>\n",
       "</table>\n",
       "</div>"
      ],
      "text/plain": [
       "    _unit_id  _golden _unit_state  _trusted_judgments _last_judgment_at  \\\n",
       "0  815719226    False   finalized                   3    10/26/15 23:24   \n",
       "1  815719227    False   finalized                   3    10/26/15 23:30   \n",
       "2  815719228    False   finalized                   3    10/26/15 23:33   \n",
       "3  815719229    False   finalized                   3    10/26/15 23:10   \n",
       "4  815719230    False   finalized                   3     10/27/15 1:15   \n",
       "\n",
       "   gender  gender:confidence profile_yn  profile_yn:confidence  \\\n",
       "0    male             1.0000        yes                    1.0   \n",
       "1    male             1.0000        yes                    1.0   \n",
       "2    male             0.6625        yes                    1.0   \n",
       "3    male             1.0000        yes                    1.0   \n",
       "4  female             1.0000        yes                    1.0   \n",
       "\n",
       "          created                                        description  \\\n",
       "0    12/5/13 1:48                              i sing my own rhythm.   \n",
       "1   10/1/12 13:51  I'm the author of novels filled with family dr...   \n",
       "2  11/28/14 11:30                louis whining and squealing and all   \n",
       "3   6/11/09 22:39  Mobile guy.  49ers, Shazam, Google, Kleiner Pe...   \n",
       "4   4/16/14 13:23  Ricky Wilson The Best FRONTMAN/Kaiser Chiefs T...   \n",
       "\n",
       "   fav_number gender_gold link_color            name profile_yn_gold  \\\n",
       "0           0         NaN     08C2C2         sheezy0             NaN   \n",
       "1          68         NaN     0084B4     DavdBurnett             NaN   \n",
       "2        7696         NaN     ABB8C2  lwtprettylaugh             NaN   \n",
       "3         202         NaN     0084B4     douggarland             NaN   \n",
       "4       37318         NaN     3B94D9    WilfordGemma             NaN   \n",
       "\n",
       "                                        profileimage  retweet_count  \\\n",
       "0  https://pbs.twimg.com/profile_images/414342229...              0   \n",
       "1  https://pbs.twimg.com/profile_images/539604221...              0   \n",
       "2  https://pbs.twimg.com/profile_images/657330418...              1   \n",
       "3  https://pbs.twimg.com/profile_images/259703936...              0   \n",
       "4  https://pbs.twimg.com/profile_images/564094871...              0   \n",
       "\n",
       "  sidebar_color                                               text  \\\n",
       "0        FFFFFF  Robbie E Responds To Critics After Win Against...   \n",
       "1        C0DEED  ÛÏIt felt like they were my friends and I was...   \n",
       "2        C0DEED  i absolutely adore when louis starts the songs...   \n",
       "3        C0DEED  Hi @JordanSpieth - Looking at the url - do you...   \n",
       "4             0  Watching Neighbours on Sky+ catching up with t...   \n",
       "\n",
       "  tweet_coord  tweet_count   tweet_created      tweet_id   tweet_location  \\\n",
       "0         NaN       110964  10/26/15 12:40  6.587300e+17  main; @Kan1shk3   \n",
       "1         NaN         7471  10/26/15 12:40  6.587300e+17              NaN   \n",
       "2         NaN         5617  10/26/15 12:40  6.587300e+17           clcncl   \n",
       "3         NaN         1693  10/26/15 12:40  6.587300e+17    Palo Alto, CA   \n",
       "4         NaN        31462  10/26/15 12:40  6.587300e+17              NaN   \n",
       "\n",
       "                user_timezone  \n",
       "0                     Chennai  \n",
       "1  Eastern Time (US & Canada)  \n",
       "2                    Belgrade  \n",
       "3  Pacific Time (US & Canada)  \n",
       "4                         NaN  "
      ]
     },
     "execution_count": 4,
     "metadata": {},
     "output_type": "execute_result"
    }
   ],
   "source": [
    "pd.set_option('display.max_columns', None)\n",
    "\n",
    "twitter.head()"
   ]
  },
  {
   "cell_type": "code",
   "execution_count": 5,
   "metadata": {},
   "outputs": [
    {
     "name": "stdout",
     "output_type": "stream",
     "text": [
      "<class 'pandas.core.frame.DataFrame'>\n",
      "RangeIndex: 20050 entries, 0 to 20049\n",
      "Data columns (total 26 columns):\n",
      " #   Column                 Non-Null Count  Dtype  \n",
      "---  ------                 --------------  -----  \n",
      " 0   _unit_id               20050 non-null  int64  \n",
      " 1   _golden                20050 non-null  bool   \n",
      " 2   _unit_state            20050 non-null  object \n",
      " 3   _trusted_judgments     20050 non-null  int64  \n",
      " 4   _last_judgment_at      20000 non-null  object \n",
      " 5   gender                 19953 non-null  object \n",
      " 6   gender:confidence      20024 non-null  float64\n",
      " 7   profile_yn             20050 non-null  object \n",
      " 8   profile_yn:confidence  20050 non-null  float64\n",
      " 9   created                20050 non-null  object \n",
      " 10  description            16306 non-null  object \n",
      " 11  fav_number             20050 non-null  int64  \n",
      " 12  gender_gold            50 non-null     object \n",
      " 13  link_color             20050 non-null  object \n",
      " 14  name                   20050 non-null  object \n",
      " 15  profile_yn_gold        50 non-null     object \n",
      " 16  profileimage           20050 non-null  object \n",
      " 17  retweet_count          20050 non-null  int64  \n",
      " 18  sidebar_color          20050 non-null  object \n",
      " 19  text                   20050 non-null  object \n",
      " 20  tweet_coord            159 non-null    object \n",
      " 21  tweet_count            20050 non-null  int64  \n",
      " 22  tweet_created          20050 non-null  object \n",
      " 23  tweet_id               20050 non-null  float64\n",
      " 24  tweet_location         12566 non-null  object \n",
      " 25  user_timezone          12252 non-null  object \n",
      "dtypes: bool(1), float64(3), int64(5), object(17)\n",
      "memory usage: 3.8+ MB\n"
     ]
    }
   ],
   "source": [
    "twitter.info()"
   ]
  },
  {
   "cell_type": "code",
   "execution_count": null,
   "metadata": {},
   "outputs": [],
   "source": []
  },
  {
   "cell_type": "markdown",
   "metadata": {},
   "source": [
    "### Exploring data and cleaning it\n"
   ]
  },
  {
   "cell_type": "code",
   "execution_count": 6,
   "metadata": {},
   "outputs": [],
   "source": [
    "twitter = twitter.drop(['_golden', '_unit_state', '_trusted_judgments', 'profile_yn', 'gender_gold', 'profile_yn_gold', 'tweet_coord', 'tweet_location', 'user_timezone'], axis = 1) \n",
    "# clean_df"
   ]
  },
  {
   "cell_type": "code",
   "execution_count": 7,
   "metadata": {},
   "outputs": [
    {
     "name": "stdout",
     "output_type": "stream",
     "text": [
      "<class 'pandas.core.frame.DataFrame'>\n",
      "RangeIndex: 20050 entries, 0 to 20049\n",
      "Data columns (total 17 columns):\n",
      " #   Column                 Non-Null Count  Dtype  \n",
      "---  ------                 --------------  -----  \n",
      " 0   _unit_id               20050 non-null  int64  \n",
      " 1   _last_judgment_at      20000 non-null  object \n",
      " 2   gender                 19953 non-null  object \n",
      " 3   gender:confidence      20024 non-null  float64\n",
      " 4   profile_yn:confidence  20050 non-null  float64\n",
      " 5   created                20050 non-null  object \n",
      " 6   description            16306 non-null  object \n",
      " 7   fav_number             20050 non-null  int64  \n",
      " 8   link_color             20050 non-null  object \n",
      " 9   name                   20050 non-null  object \n",
      " 10  profileimage           20050 non-null  object \n",
      " 11  retweet_count          20050 non-null  int64  \n",
      " 12  sidebar_color          20050 non-null  object \n",
      " 13  text                   20050 non-null  object \n",
      " 14  tweet_count            20050 non-null  int64  \n",
      " 15  tweet_created          20050 non-null  object \n",
      " 16  tweet_id               20050 non-null  float64\n",
      "dtypes: float64(3), int64(4), object(10)\n",
      "memory usage: 2.6+ MB\n"
     ]
    }
   ],
   "source": [
    "twitter.info()"
   ]
  },
  {
   "cell_type": "code",
   "execution_count": 8,
   "metadata": {},
   "outputs": [],
   "source": [
    "# fill in missing data\n",
    "twitter.fillna(value = 'unknown',  \n",
    "          inplace = True) "
   ]
  },
  {
   "cell_type": "code",
   "execution_count": 9,
   "metadata": {},
   "outputs": [
    {
     "name": "stdout",
     "output_type": "stream",
     "text": [
      "<class 'pandas.core.frame.DataFrame'>\n",
      "RangeIndex: 20050 entries, 0 to 20049\n",
      "Data columns (total 17 columns):\n",
      " #   Column                 Non-Null Count  Dtype  \n",
      "---  ------                 --------------  -----  \n",
      " 0   _unit_id               20050 non-null  int64  \n",
      " 1   _last_judgment_at      20050 non-null  object \n",
      " 2   gender                 20050 non-null  object \n",
      " 3   gender:confidence      20050 non-null  object \n",
      " 4   profile_yn:confidence  20050 non-null  float64\n",
      " 5   created                20050 non-null  object \n",
      " 6   description            20050 non-null  object \n",
      " 7   fav_number             20050 non-null  int64  \n",
      " 8   link_color             20050 non-null  object \n",
      " 9   name                   20050 non-null  object \n",
      " 10  profileimage           20050 non-null  object \n",
      " 11  retweet_count          20050 non-null  int64  \n",
      " 12  sidebar_color          20050 non-null  object \n",
      " 13  text                   20050 non-null  object \n",
      " 14  tweet_count            20050 non-null  int64  \n",
      " 15  tweet_created          20050 non-null  object \n",
      " 16  tweet_id               20050 non-null  float64\n",
      "dtypes: float64(2), int64(4), object(11)\n",
      "memory usage: 2.6+ MB\n"
     ]
    }
   ],
   "source": [
    "twitter.info()"
   ]
  },
  {
   "cell_type": "code",
   "execution_count": 10,
   "metadata": {},
   "outputs": [
    {
     "data": {
      "text/plain": [
       "female     6700\n",
       "male       6194\n",
       "brand      5942\n",
       "unknown    1214\n",
       "Name: gender, dtype: int64"
      ]
     },
     "execution_count": 10,
     "metadata": {},
     "output_type": "execute_result"
    }
   ],
   "source": [
    "twitter.gender.value_counts()"
   ]
  },
  {
   "cell_type": "code",
   "execution_count": null,
   "metadata": {},
   "outputs": [],
   "source": []
  },
  {
   "cell_type": "code",
   "execution_count": null,
   "metadata": {},
   "outputs": [],
   "source": []
  },
  {
   "cell_type": "markdown",
   "metadata": {},
   "source": [
    "## NLP Pipeline \n",
    "\n",
    "Below is a to do list when converting text into vector form: \n",
    "\n",
    "**Clean text and Create a Bag of Words (BoW)**\n",
    ">1. Lowercase the text\n",
    "2. Tokenize \n",
    "3. Strip out punctuation or undesirable text\n",
    "4. Remove Stopwords \n",
    "5. Stemming or Lemmatizing\n",
    "6. Compute N-Grams\n",
    "7. Use this to create BoW\n",
    "\n",
    "**Vectorize BoW**\n",
    ">8. Term Frequencies\n",
    "9. Document Frequencies\n",
    "10. TF-IDF\n",
    "11. Normalize vectors\n",
    "\n"
   ]
  },
  {
   "cell_type": "code",
   "execution_count": 11,
   "metadata": {},
   "outputs": [],
   "source": [
    "# twitter"
   ]
  },
  {
   "cell_type": "code",
   "execution_count": 12,
   "metadata": {},
   "outputs": [
    {
     "data": {
      "text/plain": [
       "(pandas.core.series.Series, pandas.core.series.Series)"
      ]
     },
     "execution_count": 12,
     "metadata": {},
     "output_type": "execute_result"
    }
   ],
   "source": [
    "type(twitter.gender), type(twitter.text)"
   ]
  },
  {
   "cell_type": "code",
   "execution_count": 13,
   "metadata": {},
   "outputs": [
    {
     "name": "stdout",
     "output_type": "stream",
     "text": [
      "female     6700\n",
      "male       6194\n",
      "brand      5942\n",
      "unknown    1214\n",
      "Name: gender, dtype: int64\n"
     ]
    }
   ],
   "source": [
    "classes = twitter['gender']\n",
    "print(classes.value_counts())"
   ]
  },
  {
   "cell_type": "code",
   "execution_count": 14,
   "metadata": {},
   "outputs": [
    {
     "data": {
      "image/png": "[encoded data removed]",
      "text/plain": [
       "<Figure size 432x288 with 1 Axes>"
      ]
     },
     "metadata": {
      "needs_background": "light"
     },
     "output_type": "display_data"
    }
   ],
   "source": [
    "# tweets per gender per data\n",
    "twitter.groupby('gender').text.count().plot.bar(ylim=0)\n",
    "plt.show()"
   ]
  },
  {
   "cell_type": "code",
   "execution_count": 15,
   "metadata": {},
   "outputs": [],
   "source": [
    "# plot of \"words\" per gender?\n"
   ]
  },
  {
   "cell_type": "markdown",
   "metadata": {},
   "source": [
    "###  Consider dropping unknown to reduce uncertainty for more accuracy?\n"
   ]
  },
  {
   "cell_type": "code",
   "execution_count": null,
   "metadata": {},
   "outputs": [],
   "source": []
  },
  {
   "cell_type": "code",
   "execution_count": 16,
   "metadata": {},
   "outputs": [
    {
     "name": "stdout",
     "output_type": "stream",
     "text": [
      "[2 2 2 2 1 1 0 2 1 1 0 0 1 0 1]\n"
     ]
    }
   ],
   "source": [
    "encoder = LabelEncoder()\n",
    "Y = encoder.fit_transform(classes)\n",
    "\n",
    "# print(classes[:15])\n",
    "print(Y[:15])"
   ]
  },
  {
   "cell_type": "code",
   "execution_count": 17,
   "metadata": {},
   "outputs": [
    {
     "data": {
      "text/plain": [
       "0     Robbie E Responds To Critics After Win Against...\n",
       "1     ÛÏIt felt like they were my friends and I was...\n",
       "2     i absolutely adore when louis starts the songs...\n",
       "3     Hi @JordanSpieth - Looking at the url - do you...\n",
       "4     Watching Neighbours on Sky+ catching up with t...\n",
       "5     Ive seen people on the train with lamps, chair...\n",
       "6     @BpackEngineer Thank you for your patience whi...\n",
       "7     Gala Bingo clubs bought for å£241m: The UK's l...\n",
       "8     @_Aphmau_ the pic defines all mcd fangirls/fan...\n",
       "9     @Evielady just how lovely is the tree this yea...\n",
       "10    how are you taking care of yourself? https://t...\n",
       "11    MTG Deals 1x Rank-Up-Magic - The Seventh One -...\n",
       "12    Just put my ass on the line for you and this i...\n",
       "13    https://t.co/z4sbWUugd8 What the Nation Will B...\n",
       "14    will i even need sound effects for the diviner...\n",
       "Name: text, dtype: object"
      ]
     },
     "execution_count": 17,
     "metadata": {},
     "output_type": "execute_result"
    }
   ],
   "source": [
    "twitter.text[:15]"
   ]
  },
  {
   "cell_type": "code",
   "execution_count": null,
   "metadata": {},
   "outputs": [],
   "source": []
  },
  {
   "cell_type": "code",
   "execution_count": 18,
   "metadata": {},
   "outputs": [
    {
     "data": {
      "text/plain": [
       "0        Robbie E Responds To Critics After Win Against...\n",
       "1        ÛÏIt felt like they were my friends and I was...\n",
       "2        i absolutely adore when louis starts the songs...\n",
       "3        Hi @JordanSpieth - Looking at the url - do you...\n",
       "4        Watching Neighbours on Sky+ catching up with t...\n",
       "                               ...                        \n",
       "20045    @lookupondeath ...Fine, and I'll drink tea too...\n",
       "20046    Greg Hardy you a good player and all but don't...\n",
       "20047    You can miss people and still never want to se...\n",
       "20048    @bitemyapp i had noticed your tendency to pee ...\n",
       "20049    I think for my APUSH creative project I'm goin...\n",
       "Name: text, Length: 20050, dtype: object"
      ]
     },
     "execution_count": 18,
     "metadata": {},
     "output_type": "execute_result"
    }
   ],
   "source": [
    "tweets = twitter.text\n",
    "tweets"
   ]
  },
  {
   "cell_type": "markdown",
   "metadata": {},
   "source": [
    "###   Cleaning  text "
   ]
  },
  {
   "cell_type": "code",
   "execution_count": 19,
   "metadata": {},
   "outputs": [
    {
     "data": {
      "text/plain": [
       "'!\"#$%&\\'()*+,-./:;<=>?@[\\\\]^_`{|}~'"
      ]
     },
     "execution_count": 19,
     "metadata": {},
     "output_type": "execute_result"
    }
   ],
   "source": [
    "pt = string.punctuation\n",
    "pt"
   ]
  },
  {
   "cell_type": "code",
   "execution_count": null,
   "metadata": {},
   "outputs": [],
   "source": []
  },
  {
   "cell_type": "code",
   "execution_count": 20,
   "metadata": {},
   "outputs": [],
   "source": [
    "# # removing @s and links\n",
    "# for i,doc in enumerate(tweets):\n",
    "#     tweets[i] = re.sub(r\"(?:\\@|https?\\://)\\S+\", \"\", doc)\n",
    "#     tweets[i] = \" \".join(tweets[i].split())\n",
    "# # tweets[:15]"
   ]
  },
  {
   "cell_type": "code",
   "execution_count": 21,
   "metadata": {},
   "outputs": [],
   "source": [
    "# # We will analyze not using emojis and re iterate through the same data with emojis\n",
    "\n",
    "# # let's start by removing emojis and other special characters\n",
    "# for i,doc in enumerate(tweets):\n",
    "#     tweets[i] = unicodedata.normalize('NFKD', doc).encode('ASCII', 'ignore').decode('utf8')\n",
    "\n",
    "# # tweets, len(tweets)"
   ]
  },
  {
   "cell_type": "code",
   "execution_count": 22,
   "metadata": {},
   "outputs": [],
   "source": [
    "# # clean punctuation\n",
    "# tweets = tweets.str.replace(r'[^\\w\\d\\s]', ' ')\n",
    "# # clean_tweets[:20]"
   ]
  },
  {
   "cell_type": "code",
   "execution_count": 23,
   "metadata": {},
   "outputs": [],
   "source": [
    "# clean numbers\n",
    "# tweets = tweets.str.replace(r'\\d+(\\.\\d+)?', ' ')\n",
    "# tweets[:20]"
   ]
  },
  {
   "cell_type": "code",
   "execution_count": 24,
   "metadata": {},
   "outputs": [],
   "source": [
    "# clean whitespaces\n",
    "# tweets = tweets.str.replace(r'\\s+', ' ')\n",
    "# tweets[:20]"
   ]
  },
  {
   "cell_type": "code",
   "execution_count": 25,
   "metadata": {},
   "outputs": [],
   "source": [
    "# clean extra whitespaces\n",
    "# tweets = tweets.str.replace(r'^\\s+|\\s+?$', '')\n",
    "# tweets[:20]"
   ]
  },
  {
   "cell_type": "code",
   "execution_count": 26,
   "metadata": {},
   "outputs": [],
   "source": [
    "# lower\n",
    "# tweets = tweets.str.lower()\n",
    "# tweets[:20]"
   ]
  },
  {
   "cell_type": "code",
   "execution_count": null,
   "metadata": {},
   "outputs": [],
   "source": []
  },
  {
   "cell_type": "markdown",
   "metadata": {},
   "source": [
    "### reconsider what stopwords are meaningful to not remove, "
   ]
  },
  {
   "cell_type": "code",
   "execution_count": 27,
   "metadata": {},
   "outputs": [
    {
     "data": {
      "text/plain": [
       "0     Robbie E Responds To Critics After Win Against...\n",
       "1     ÛÏIt felt like friends I living story themÛ...\n",
       "2     absolutely adore louis starts songs hits hard ...\n",
       "3     Hi @JordanSpieth - Looking url - use @IFTTT?! ...\n",
       "4     Watching Neighbours Sky+ catching Neighbs!! Xx...\n",
       "5     Ive seen people train lamps, chairs, tvs etc h...\n",
       "6        @BpackEngineer Thank patience take care issue!\n",
       "7     Gala Bingo clubs bought å£241m: The UK's large...\n",
       "8     @_Aphmau_ pic defines mcd fangirls/fanboys mcd...\n",
       "9     @Evielady lovely tree year! Never seen gorgeou...\n",
       "10    taking care yourself? https://t.co/OrL9u1P8YI ...\n",
       "11    MTG Deals 1x Rank-Up-Magic - The Seventh One -...\n",
       "12                          Just put ass line repay me.\n",
       "13    https://t.co/z4sbWUugd8 What Nation Will Be Ta...\n",
       "14             even need sound effects diviners tonight\n",
       "Name: text, dtype: object"
      ]
     },
     "execution_count": 27,
     "metadata": {},
     "output_type": "execute_result"
    }
   ],
   "source": [
    "# remove stop words\n",
    "stop_words = set(stopwords.words('english'))\n",
    "\n",
    "tweets = tweets.apply(lambda x: ' '.join(word for word in x.split() if word not in stop_words))\n",
    "tweets[:15]"
   ]
  },
  {
   "cell_type": "code",
   "execution_count": null,
   "metadata": {},
   "outputs": [],
   "source": []
  },
  {
   "cell_type": "code",
   "execution_count": null,
   "metadata": {},
   "outputs": [],
   "source": []
  },
  {
   "cell_type": "markdown",
   "metadata": {},
   "source": [
    "### Creating a Bag of Words (BoW)"
   ]
  },
  {
   "cell_type": "code",
   "execution_count": 28,
   "metadata": {},
   "outputs": [],
   "source": [
    "# # Stemming and lemmatizing\n",
    "# porter = PorterStemmer()\n",
    "# snowball = SnowballStemmer('english')\n",
    "# wordnet = WordNetLemmatizer()\n",
    "\n",
    "# porter_tweets = tweets.apply(lambda x: ' '.join(porter.stem(word) for word in x.split()))\n",
    "# snowball_tweets = tweets.apply(lambda x: ' '.join(snowball.stem(word) for word in x.split()))\n",
    "# wordnet_tweets = tweets.apply(lambda x: ' '.join(wordnet.lemmatize(word) for word in x.split()))\n",
    "\n",
    "# # porter_tweets"
   ]
  },
  {
   "cell_type": "code",
   "execution_count": null,
   "metadata": {},
   "outputs": [],
   "source": []
  },
  {
   "cell_type": "code",
   "execution_count": 29,
   "metadata": {},
   "outputs": [],
   "source": [
    "# # create function to call on snowball and wordnet\n",
    "# bow_fd = []\n",
    "# for x in porter_tweets:\n",
    "#     words = word_tokenize(x)\n",
    "#     for w in words:\n",
    "#         bow_fd.append(w)\n",
    "        \n",
    "# bow_fd = nltk.FreqDist(bow_fd)\n",
    "# bow_fd"
   ]
  },
  {
   "cell_type": "code",
   "execution_count": 30,
   "metadata": {},
   "outputs": [],
   "source": [
    "# print('{}'.format(len(bow_fd)))\n",
    "# print('{}'.format(bow_fd.most_common(20)))"
   ]
  },
  {
   "cell_type": "code",
   "execution_count": 31,
   "metadata": {},
   "outputs": [],
   "source": [
    "# bow_fd"
   ]
  },
  {
   "cell_type": "code",
   "execution_count": 32,
   "metadata": {},
   "outputs": [],
   "source": [
    "# word_lim_1000 = list(bow_fd.keys())[:1000]\n",
    "# word_lim_1000"
   ]
  },
  {
   "cell_type": "code",
   "execution_count": 33,
   "metadata": {},
   "outputs": [],
   "source": [
    "# word_lim_5000 = list(bow_fd.keys())[:5000]\n",
    "# word_lim_5000"
   ]
  },
  {
   "cell_type": "code",
   "execution_count": 34,
   "metadata": {},
   "outputs": [],
   "source": [
    "# def features_(x, word_lim):\n",
    "#     words = word_tokenize(x)\n",
    "#     features = {}\n",
    "#     for y in word_lim:\n",
    "#         features[x] = (x in words)\n",
    "        \n",
    "#     return features"
   ]
  },
  {
   "cell_type": "code",
   "execution_count": null,
   "metadata": {},
   "outputs": [],
   "source": []
  },
  {
   "cell_type": "code",
   "execution_count": null,
   "metadata": {},
   "outputs": [],
   "source": []
  },
  {
   "cell_type": "code",
   "execution_count": null,
   "metadata": {},
   "outputs": [],
   "source": []
  },
  {
   "cell_type": "code",
   "execution_count": null,
   "metadata": {},
   "outputs": [],
   "source": []
  },
  {
   "cell_type": "markdown",
   "metadata": {},
   "source": [
    "### Porter"
   ]
  },
  {
   "cell_type": "code",
   "execution_count": 35,
   "metadata": {},
   "outputs": [],
   "source": [
    "# tweet_features = list(zip(porter_tweets, Y))\n",
    "\n",
    "# seed = 1\n",
    "# np.random.seed = seed\n",
    "# np.random.shuffle(tweet_features)\n",
    "\n",
    "# features = [(features_(x, word_lim_5000), marker) for (text, marker) in tweet_features]"
   ]
  },
  {
   "cell_type": "code",
   "execution_count": 36,
   "metadata": {},
   "outputs": [],
   "source": [
    "# training, testing = model_selection.train_test_split(features, test_size=0.2)\n",
    "\n",
    "# len(training), len(testing)"
   ]
  },
  {
   "cell_type": "code",
   "execution_count": null,
   "metadata": {},
   "outputs": [],
   "source": []
  },
  {
   "cell_type": "code",
   "execution_count": 37,
   "metadata": {},
   "outputs": [],
   "source": [
    "# names = ['K Nearest Neighbors', 'Decision Tree', 'Random Forest', 'Naive Bayes']\n",
    "\n",
    "# classifiers = [KNeighborsClassifier(), \n",
    "#               DecisionTreeClassifier(), \n",
    "#               RandomForestClassifier(), \n",
    "#               MultinomialNB() \n",
    "#               ]\n",
    "\n",
    "# models = list(zip(names, classifiers))"
   ]
  },
  {
   "cell_type": "code",
   "execution_count": 38,
   "metadata": {},
   "outputs": [],
   "source": [
    "# for name, model in models:\n",
    "#     nltk_model = SklearnClassifier(model)\n",
    "#     nltk_model.train(training)\n",
    "#     acc = nltk.classify.accuracy(nltk_model, testing)\n",
    "#     print('{}: {}'.format(name, acc))"
   ]
  },
  {
   "cell_type": "code",
   "execution_count": null,
   "metadata": {},
   "outputs": [],
   "source": []
  },
  {
   "cell_type": "markdown",
   "metadata": {},
   "source": [
    "## Snow"
   ]
  },
  {
   "cell_type": "code",
   "execution_count": 39,
   "metadata": {},
   "outputs": [],
   "source": [
    "# # create function to call on snowball and wordnet\n",
    "# bow_fd_snow = []\n",
    "# for x in snowball_tweets:\n",
    "#     words = word_tokenize(x)\n",
    "#     for w in words:\n",
    "#         bow_fd_snow.append(w)\n",
    "        \n",
    "# bow_fd_snow = nltk.FreqDist(bow_fd)\n",
    "\n",
    "# print('{}'.format(len(bow_fd_snow)))\n",
    "# print('{}'.format(bow_fd_snow.most_common(20)))"
   ]
  },
  {
   "cell_type": "code",
   "execution_count": 40,
   "metadata": {},
   "outputs": [],
   "source": [
    "# tweet_features_snow = list(zip(snowball_tweets, Y))\n",
    "\n",
    "# seed = 1\n",
    "# np.random.seed = seed\n",
    "# np.random.shuffle(tweet_features_snow)\n",
    "\n",
    "# features_snow = [(features_(x, word_lim_5000), marker) for (text, marker) in tweet_features_snow]"
   ]
  },
  {
   "cell_type": "code",
   "execution_count": 41,
   "metadata": {},
   "outputs": [],
   "source": [
    "# training_snow, testing_snow = model_selection.train_test_split(features_snow, test_size=0.2)\n",
    "\n",
    "# len(training_snow), len(testing_snow)"
   ]
  },
  {
   "cell_type": "code",
   "execution_count": 42,
   "metadata": {},
   "outputs": [],
   "source": [
    "# for name, model in models:\n",
    "#     nltk_model_snow = SklearnClassifier(model)\n",
    "#     nltk_model_snow.train(training_snow)\n",
    "#     acc_snow = nltk.classify.accuracy(nltk_model_snow, testing_snow)\n",
    "#     print('{}: {}'.format(name, acc_snow))"
   ]
  },
  {
   "cell_type": "code",
   "execution_count": null,
   "metadata": {},
   "outputs": [],
   "source": []
  },
  {
   "cell_type": "markdown",
   "metadata": {},
   "source": [
    "### Wordnet"
   ]
  },
  {
   "cell_type": "code",
   "execution_count": 43,
   "metadata": {},
   "outputs": [],
   "source": [
    "# create function to call on snowball and wordnet\n",
    "# bow_fd_wordnet = []\n",
    "# for x in wordnet_tweets:\n",
    "#     words = word_tokenize(x)\n",
    "#     for w in words:\n",
    "#         bow_fd_wordnet.append(w)\n",
    "        \n",
    "# bow_fd_wordnet = nltk.FreqDist(bow_fd)\n",
    "\n",
    "# print(len(bow_fd_wordnet))\n",
    "# print(bow_fd_wordnet.most_common(20))"
   ]
  },
  {
   "cell_type": "code",
   "execution_count": 44,
   "metadata": {},
   "outputs": [],
   "source": [
    "# tweet_features_wordnet = list(zip(wordnet_tweets, Y))\n",
    "\n",
    "# seed = 1\n",
    "# np.random.seed = seed\n",
    "# np.random.shuffle(tweet_features_wordnet)\n",
    "\n",
    "# features_wordnet = [(features_(x, word_lim_5000), marker) for (text, marker) in tweet_features_wordnet]"
   ]
  },
  {
   "cell_type": "code",
   "execution_count": 45,
   "metadata": {},
   "outputs": [],
   "source": [
    "# training_wordnet, testing_wordnet = model_selection.train_test_split(features_wordnet, test_size=0.2)\n",
    "\n",
    "# len(training_wordnet), len(testing_wordnet)"
   ]
  },
  {
   "cell_type": "code",
   "execution_count": 46,
   "metadata": {},
   "outputs": [],
   "source": [
    "# for name, model in models:\n",
    "#     nltk_model_wordnet = SklearnClassifier(model)\n",
    "#     nltk_model_wordnet.train(training_wordnet)\n",
    "#     acc_wordnet = nltk.classify.accuracy(nltk_model_wordnet, testing_wordnet)\n",
    "#     print('{}: ACC: {}'.format(name, acc_wordnet))"
   ]
  },
  {
   "cell_type": "code",
   "execution_count": null,
   "metadata": {},
   "outputs": [],
   "source": []
  },
  {
   "cell_type": "code",
   "execution_count": null,
   "metadata": {},
   "outputs": [],
   "source": []
  },
  {
   "cell_type": "code",
   "execution_count": 47,
   "metadata": {},
   "outputs": [],
   "source": [
    "# Stemming and lemmatizing\n",
    "# porter = PorterStemmer()\n",
    "# snowball = SnowballStemmer('english')\n",
    "# wordnet = WordNetLemmatizer()\n",
    "\n",
    "# # changes tweets\n",
    "# porter_tweets = tweets.apply(lambda x: ' '.join(porter.stem(word) for word in x.split()))\n",
    "# snowball_tweets = tweets.apply(lambda x: ' '.join(snowball.stem(word) for word in x.split()))\n",
    "# wordnet_tweets = tweets.apply(lambda x: ' '.join(wordnet.lemmatize(word) for word in x.split()))\n",
    "\n",
    "# porter_tweets"
   ]
  },
  {
   "cell_type": "markdown",
   "metadata": {},
   "source": [
    "## Seperation of Genders ATMP 2"
   ]
  },
  {
   "cell_type": "code",
   "execution_count": 48,
   "metadata": {},
   "outputs": [],
   "source": [
    "# twitter.info()"
   ]
  },
  {
   "cell_type": "code",
   "execution_count": 49,
   "metadata": {},
   "outputs": [],
   "source": [
    "# twitter.gender.value_counts()"
   ]
  },
  {
   "cell_type": "code",
   "execution_count": 50,
   "metadata": {},
   "outputs": [],
   "source": [
    "# male = [twitter['gender'] ==  'Male']\n",
    "# male"
   ]
  },
  {
   "cell_type": "code",
   "execution_count": 51,
   "metadata": {},
   "outputs": [],
   "source": [
    "# classes = twitter['gender']\n",
    "# print(classes.value_counts())"
   ]
  },
  {
   "cell_type": "code",
   "execution_count": 52,
   "metadata": {},
   "outputs": [],
   "source": [
    "# tweets"
   ]
  },
  {
   "cell_type": "code",
   "execution_count": 53,
   "metadata": {},
   "outputs": [],
   "source": [
    "# X = tweets\n",
    "# y = twitter.gender\n",
    "\n",
    "# X, y"
   ]
  },
  {
   "cell_type": "code",
   "execution_count": 54,
   "metadata": {},
   "outputs": [],
   "source": [
    "# X_train, X_test, y_train, y_test = train_test_split(X, y, test_size=0.2, random_state=1)\n",
    "# # X_train, X_test, y_train, y_test"
   ]
  },
  {
   "cell_type": "code",
   "execution_count": 55,
   "metadata": {},
   "outputs": [],
   "source": [
    "# from sklearn.pipeline import Pipeline\n",
    "# from sklearn.metrics import classification_report\n",
    "\n",
    "# pipel = Pipeline([('vect', CountVectorizer()), \n",
    "#                   ('tfidf', TfidfTransformer()), \n",
    "#                   ('clf', MultinomialNB())])\n",
    "\n",
    "# pipel.fit(X_train, y_train)"
   ]
  },
  {
   "cell_type": "code",
   "execution_count": 56,
   "metadata": {},
   "outputs": [],
   "source": [
    "# y_pred = pipel.predict(X_test)\n",
    "# # y_pred"
   ]
  },
  {
   "cell_type": "code",
   "execution_count": 57,
   "metadata": {},
   "outputs": [],
   "source": [
    "# print('accuracy: %s' % accuracy_score(y_pred, y_test))\n",
    "# print(classification_report(y_test, y_pred))"
   ]
  },
  {
   "cell_type": "code",
   "execution_count": 58,
   "metadata": {},
   "outputs": [],
   "source": [
    "# print('accuracy: %s' % accuracy_score(y_pred, y_test))\n",
    "# print(classification_report(y_test, y_pred, target_names=twitter.gender.unique()))"
   ]
  },
  {
   "cell_type": "code",
   "execution_count": null,
   "metadata": {},
   "outputs": [],
   "source": []
  },
  {
   "cell_type": "code",
   "execution_count": null,
   "metadata": {},
   "outputs": [],
   "source": []
  },
  {
   "cell_type": "code",
   "execution_count": null,
   "metadata": {},
   "outputs": [],
   "source": []
  },
  {
   "cell_type": "markdown",
   "metadata": {},
   "source": [
    "### restructure tweets without unknown gender and run model again - new_df1"
   ]
  },
  {
   "cell_type": "code",
   "execution_count": 59,
   "metadata": {
    "scrolled": true
   },
   "outputs": [],
   "source": [
    "# twitter.info()"
   ]
  },
  {
   "cell_type": "code",
   "execution_count": 60,
   "metadata": {},
   "outputs": [
    {
     "data": {
      "text/html": [
       "<div>\n",
       "<style scoped>\n",
       "    .dataframe tbody tr th:only-of-type {\n",
       "        vertical-align: middle;\n",
       "    }\n",
       "\n",
       "    .dataframe tbody tr th {\n",
       "        vertical-align: top;\n",
       "    }\n",
       "\n",
       "    .dataframe thead th {\n",
       "        text-align: right;\n",
       "    }\n",
       "</style>\n",
       "<table border=\"1\" class=\"dataframe\">\n",
       "  <thead>\n",
       "    <tr style=\"text-align: right;\">\n",
       "      <th></th>\n",
       "      <th>_unit_id</th>\n",
       "      <th>_last_judgment_at</th>\n",
       "      <th>gender</th>\n",
       "      <th>gender:confidence</th>\n",
       "      <th>profile_yn:confidence</th>\n",
       "      <th>created</th>\n",
       "      <th>description</th>\n",
       "      <th>fav_number</th>\n",
       "      <th>link_color</th>\n",
       "      <th>name</th>\n",
       "      <th>profileimage</th>\n",
       "      <th>retweet_count</th>\n",
       "      <th>sidebar_color</th>\n",
       "      <th>text</th>\n",
       "      <th>tweet_count</th>\n",
       "      <th>tweet_created</th>\n",
       "      <th>tweet_id</th>\n",
       "    </tr>\n",
       "  </thead>\n",
       "  <tbody>\n",
       "    <tr>\n",
       "      <th>0</th>\n",
       "      <td>815719226</td>\n",
       "      <td>10/26/15 23:24</td>\n",
       "      <td>male</td>\n",
       "      <td>1</td>\n",
       "      <td>1.0</td>\n",
       "      <td>12/5/13 1:48</td>\n",
       "      <td>i sing my own rhythm.</td>\n",
       "      <td>0</td>\n",
       "      <td>08C2C2</td>\n",
       "      <td>sheezy0</td>\n",
       "      <td>https://pbs.twimg.com/profile_images/414342229...</td>\n",
       "      <td>0</td>\n",
       "      <td>FFFFFF</td>\n",
       "      <td>Robbie E Responds To Critics After Win Against...</td>\n",
       "      <td>110964</td>\n",
       "      <td>10/26/15 12:40</td>\n",
       "      <td>6.587300e+17</td>\n",
       "    </tr>\n",
       "    <tr>\n",
       "      <th>1</th>\n",
       "      <td>815719227</td>\n",
       "      <td>10/26/15 23:30</td>\n",
       "      <td>male</td>\n",
       "      <td>1</td>\n",
       "      <td>1.0</td>\n",
       "      <td>10/1/12 13:51</td>\n",
       "      <td>I'm the author of novels filled with family dr...</td>\n",
       "      <td>68</td>\n",
       "      <td>0084B4</td>\n",
       "      <td>DavdBurnett</td>\n",
       "      <td>https://pbs.twimg.com/profile_images/539604221...</td>\n",
       "      <td>0</td>\n",
       "      <td>C0DEED</td>\n",
       "      <td>ÛÏIt felt like they were my friends and I was...</td>\n",
       "      <td>7471</td>\n",
       "      <td>10/26/15 12:40</td>\n",
       "      <td>6.587300e+17</td>\n",
       "    </tr>\n",
       "    <tr>\n",
       "      <th>2</th>\n",
       "      <td>815719228</td>\n",
       "      <td>10/26/15 23:33</td>\n",
       "      <td>male</td>\n",
       "      <td>0.6625</td>\n",
       "      <td>1.0</td>\n",
       "      <td>11/28/14 11:30</td>\n",
       "      <td>louis whining and squealing and all</td>\n",
       "      <td>7696</td>\n",
       "      <td>ABB8C2</td>\n",
       "      <td>lwtprettylaugh</td>\n",
       "      <td>https://pbs.twimg.com/profile_images/657330418...</td>\n",
       "      <td>1</td>\n",
       "      <td>C0DEED</td>\n",
       "      <td>i absolutely adore when louis starts the songs...</td>\n",
       "      <td>5617</td>\n",
       "      <td>10/26/15 12:40</td>\n",
       "      <td>6.587300e+17</td>\n",
       "    </tr>\n",
       "    <tr>\n",
       "      <th>3</th>\n",
       "      <td>815719229</td>\n",
       "      <td>10/26/15 23:10</td>\n",
       "      <td>male</td>\n",
       "      <td>1</td>\n",
       "      <td>1.0</td>\n",
       "      <td>6/11/09 22:39</td>\n",
       "      <td>Mobile guy.  49ers, Shazam, Google, Kleiner Pe...</td>\n",
       "      <td>202</td>\n",
       "      <td>0084B4</td>\n",
       "      <td>douggarland</td>\n",
       "      <td>https://pbs.twimg.com/profile_images/259703936...</td>\n",
       "      <td>0</td>\n",
       "      <td>C0DEED</td>\n",
       "      <td>Hi @JordanSpieth - Looking at the url - do you...</td>\n",
       "      <td>1693</td>\n",
       "      <td>10/26/15 12:40</td>\n",
       "      <td>6.587300e+17</td>\n",
       "    </tr>\n",
       "    <tr>\n",
       "      <th>4</th>\n",
       "      <td>815719230</td>\n",
       "      <td>10/27/15 1:15</td>\n",
       "      <td>female</td>\n",
       "      <td>1</td>\n",
       "      <td>1.0</td>\n",
       "      <td>4/16/14 13:23</td>\n",
       "      <td>Ricky Wilson The Best FRONTMAN/Kaiser Chiefs T...</td>\n",
       "      <td>37318</td>\n",
       "      <td>3B94D9</td>\n",
       "      <td>WilfordGemma</td>\n",
       "      <td>https://pbs.twimg.com/profile_images/564094871...</td>\n",
       "      <td>0</td>\n",
       "      <td>0</td>\n",
       "      <td>Watching Neighbours on Sky+ catching up with t...</td>\n",
       "      <td>31462</td>\n",
       "      <td>10/26/15 12:40</td>\n",
       "      <td>6.587300e+17</td>\n",
       "    </tr>\n",
       "  </tbody>\n",
       "</table>\n",
       "</div>"
      ],
      "text/plain": [
       "    _unit_id _last_judgment_at  gender gender:confidence  \\\n",
       "0  815719226    10/26/15 23:24    male                 1   \n",
       "1  815719227    10/26/15 23:30    male                 1   \n",
       "2  815719228    10/26/15 23:33    male            0.6625   \n",
       "3  815719229    10/26/15 23:10    male                 1   \n",
       "4  815719230     10/27/15 1:15  female                 1   \n",
       "\n",
       "   profile_yn:confidence         created  \\\n",
       "0                    1.0    12/5/13 1:48   \n",
       "1                    1.0   10/1/12 13:51   \n",
       "2                    1.0  11/28/14 11:30   \n",
       "3                    1.0   6/11/09 22:39   \n",
       "4                    1.0   4/16/14 13:23   \n",
       "\n",
       "                                         description  fav_number link_color  \\\n",
       "0                              i sing my own rhythm.           0     08C2C2   \n",
       "1  I'm the author of novels filled with family dr...          68     0084B4   \n",
       "2                louis whining and squealing and all        7696     ABB8C2   \n",
       "3  Mobile guy.  49ers, Shazam, Google, Kleiner Pe...         202     0084B4   \n",
       "4  Ricky Wilson The Best FRONTMAN/Kaiser Chiefs T...       37318     3B94D9   \n",
       "\n",
       "             name                                       profileimage  \\\n",
       "0         sheezy0  https://pbs.twimg.com/profile_images/414342229...   \n",
       "1     DavdBurnett  https://pbs.twimg.com/profile_images/539604221...   \n",
       "2  lwtprettylaugh  https://pbs.twimg.com/profile_images/657330418...   \n",
       "3     douggarland  https://pbs.twimg.com/profile_images/259703936...   \n",
       "4    WilfordGemma  https://pbs.twimg.com/profile_images/564094871...   \n",
       "\n",
       "   retweet_count sidebar_color  \\\n",
       "0              0        FFFFFF   \n",
       "1              0        C0DEED   \n",
       "2              1        C0DEED   \n",
       "3              0        C0DEED   \n",
       "4              0             0   \n",
       "\n",
       "                                                text  tweet_count  \\\n",
       "0  Robbie E Responds To Critics After Win Against...       110964   \n",
       "1  ÛÏIt felt like they were my friends and I was...         7471   \n",
       "2  i absolutely adore when louis starts the songs...         5617   \n",
       "3  Hi @JordanSpieth - Looking at the url - do you...         1693   \n",
       "4  Watching Neighbours on Sky+ catching up with t...        31462   \n",
       "\n",
       "    tweet_created      tweet_id  \n",
       "0  10/26/15 12:40  6.587300e+17  \n",
       "1  10/26/15 12:40  6.587300e+17  \n",
       "2  10/26/15 12:40  6.587300e+17  \n",
       "3  10/26/15 12:40  6.587300e+17  \n",
       "4  10/26/15 12:40  6.587300e+17  "
      ]
     },
     "execution_count": 60,
     "metadata": {},
     "output_type": "execute_result"
    }
   ],
   "source": [
    "twitter.head()"
   ]
  },
  {
   "cell_type": "code",
   "execution_count": 61,
   "metadata": {},
   "outputs": [],
   "source": [
    "# twitter_wo_uk = twitter[twitter['gender'] != 'unknown']\n",
    "# twitter_wo_uk"
   ]
  },
  {
   "cell_type": "code",
   "execution_count": 62,
   "metadata": {},
   "outputs": [],
   "source": [
    "# twitter_backup = twitter.copy()"
   ]
  },
  {
   "cell_type": "code",
   "execution_count": 63,
   "metadata": {},
   "outputs": [],
   "source": [
    "# twitter.gender.value_counts()"
   ]
  },
  {
   "cell_type": "code",
   "execution_count": 64,
   "metadata": {},
   "outputs": [],
   "source": [
    "# twitter_wo_uk = twitter.copy()"
   ]
  },
  {
   "cell_type": "code",
   "execution_count": 65,
   "metadata": {},
   "outputs": [],
   "source": [
    "# twitter_wo_uk.head()"
   ]
  },
  {
   "cell_type": "code",
   "execution_count": 66,
   "metadata": {},
   "outputs": [],
   "source": [
    "# twitter_wo_uk = twitter.drop(twitter[twitter['gender'] != 'unknown'].index, inplace = True) \n",
    "# twitter_wo_uk"
   ]
  },
  {
   "cell_type": "code",
   "execution_count": 67,
   "metadata": {},
   "outputs": [],
   "source": [
    "# new_df = twitter[twitter['gender'] != 'unknown']\n",
    "# new_df.info()"
   ]
  },
  {
   "cell_type": "code",
   "execution_count": 68,
   "metadata": {},
   "outputs": [],
   "source": [
    "# new_df1 = new_df.reset_index()\n",
    "# new_df1.info()"
   ]
  },
  {
   "cell_type": "code",
   "execution_count": 69,
   "metadata": {},
   "outputs": [],
   "source": [
    "# len(new_df1.gender), len(new_df1.text)"
   ]
  },
  {
   "cell_type": "code",
   "execution_count": 70,
   "metadata": {},
   "outputs": [],
   "source": [
    "# new_df1.text"
   ]
  },
  {
   "cell_type": "code",
   "execution_count": 71,
   "metadata": {},
   "outputs": [],
   "source": [
    "# len(clean_data(new_df1.text))"
   ]
  },
  {
   "cell_type": "code",
   "execution_count": 72,
   "metadata": {},
   "outputs": [],
   "source": [
    "# tweets_newdf = clean_data(new_df1.text)"
   ]
  },
  {
   "cell_type": "code",
   "execution_count": 73,
   "metadata": {},
   "outputs": [],
   "source": [
    "# X = tweets_newdf\n",
    "# y = new_df1.gender\n",
    "\n",
    "# X, y"
   ]
  },
  {
   "cell_type": "code",
   "execution_count": 74,
   "metadata": {},
   "outputs": [],
   "source": [
    "# X_train, X_test, y_train, y_test = train_test_split(X, y, test_size=0.2, random_state=1)\n",
    "# X_train, X_test, y_train, y_test"
   ]
  },
  {
   "cell_type": "code",
   "execution_count": 75,
   "metadata": {},
   "outputs": [],
   "source": [
    "# from sklearn.pipeline import Pipeline\n",
    "# from sklearn.metrics import classification_report\n",
    "\n",
    "# pipel = Pipeline([('vect', CountVectorizer()), \n",
    "#                   ('tfidf', TfidfTransformer()), \n",
    "#                   ('clf', MultinomialNB())])\n",
    "\n",
    "# pipel.fit(X_train, y_train)"
   ]
  },
  {
   "cell_type": "code",
   "execution_count": 76,
   "metadata": {},
   "outputs": [],
   "source": [
    "# y_pred = pipel.predict(X_test)\n",
    "# y_pred"
   ]
  },
  {
   "cell_type": "code",
   "execution_count": 77,
   "metadata": {},
   "outputs": [],
   "source": [
    "# print('accuracy: %s' % accuracy_score(y_pred, y_test))\n",
    "# print(classification_report(y_test, y_pred))"
   ]
  },
  {
   "cell_type": "code",
   "execution_count": 78,
   "metadata": {},
   "outputs": [],
   "source": [
    "# print('accuracy: %s' % accuracy_score(y_pred, y_test))\n",
    "# print(classification_report(y_test, y_pred, target_names=new_df1.gender.unique()))"
   ]
  },
  {
   "cell_type": "markdown",
   "metadata": {},
   "source": [
    "## Again now without unknown and brand "
   ]
  },
  {
   "cell_type": "code",
   "execution_count": 79,
   "metadata": {
    "scrolled": true
   },
   "outputs": [],
   "source": [
    "# twitter.info()"
   ]
  },
  {
   "cell_type": "code",
   "execution_count": 80,
   "metadata": {},
   "outputs": [],
   "source": [
    "# twitter.head()"
   ]
  },
  {
   "cell_type": "code",
   "execution_count": 81,
   "metadata": {},
   "outputs": [],
   "source": [
    "# twitter.gender.value_counts()"
   ]
  },
  {
   "cell_type": "code",
   "execution_count": 82,
   "metadata": {},
   "outputs": [],
   "source": [
    "# df_b_uk = twitter[twitter['gender'] != 'unknown']\n",
    "# df_b_uk.info()"
   ]
  },
  {
   "cell_type": "code",
   "execution_count": 83,
   "metadata": {},
   "outputs": [],
   "source": [
    "# df_b_uk = df_b_uk.reset_index()\n",
    "# df_b_uk.info()"
   ]
  },
  {
   "cell_type": "code",
   "execution_count": 84,
   "metadata": {},
   "outputs": [],
   "source": [
    "# df_b_uk = df_b_uk[df_b_uk['gender'] != 'brand']\n",
    "# df_b_uk.info()"
   ]
  },
  {
   "cell_type": "code",
   "execution_count": 85,
   "metadata": {},
   "outputs": [],
   "source": [
    "# df_b_uk = df_b_uk.reset_index()\n",
    "# df_b_uk.info()"
   ]
  },
  {
   "cell_type": "code",
   "execution_count": 86,
   "metadata": {},
   "outputs": [],
   "source": [
    "# len(df_b_uk.gender), len(df_b_uk.text)"
   ]
  },
  {
   "cell_type": "code",
   "execution_count": 87,
   "metadata": {},
   "outputs": [],
   "source": [
    "# df_b_uk.text"
   ]
  },
  {
   "cell_type": "code",
   "execution_count": 88,
   "metadata": {},
   "outputs": [],
   "source": [
    "# len(clean_data(df_b_uk.text))"
   ]
  },
  {
   "cell_type": "code",
   "execution_count": 89,
   "metadata": {},
   "outputs": [],
   "source": [
    "# tweets_df_b_uk = clean_data(df_b_uk.text)\n",
    "# tweets_df_b_uk"
   ]
  },
  {
   "cell_type": "code",
   "execution_count": 90,
   "metadata": {},
   "outputs": [],
   "source": [
    "# X = tweets_newdf\n",
    "# y = new_df1.gender\n"
   ]
  },
  {
   "cell_type": "code",
   "execution_count": 91,
   "metadata": {},
   "outputs": [],
   "source": [
    "# X_train, X_test, y_train, y_test = train_test_split(X, y, test_size=0.2, random_state=1)\n",
    "# X_train, X_test, y_train, y_test"
   ]
  },
  {
   "cell_type": "code",
   "execution_count": 92,
   "metadata": {},
   "outputs": [],
   "source": [
    "# from sklearn.pipeline import Pipeline\n",
    "# from sklearn.metrics import classification_report\n"
   ]
  },
  {
   "cell_type": "code",
   "execution_count": 93,
   "metadata": {},
   "outputs": [],
   "source": [
    "# from sklearn.pipeline import Pipeline\n",
    "# from sklearn.metrics import classification_report\n",
    "# from sklearn.linear_model import SGDClassifier\n",
    "# from sklearn.ensemble import RandomForestRegressor\n",
    "# from sklearn.feature_selection import SelectKBest, chi2\n",
    "\n",
    "# pipel = Pipeline([('vect', CountVectorizer()), \n",
    "#                   ('tfidf', TfidfTransformer()), \n",
    "#                   ('clf', MultinomialNB())])\n",
    "\n",
    "# pipel.fit(X_train, y_train)"
   ]
  },
  {
   "cell_type": "code",
   "execution_count": 94,
   "metadata": {},
   "outputs": [],
   "source": [
    "# y_pred = pipel.predict(X_test)\n",
    "# y_pred"
   ]
  },
  {
   "cell_type": "code",
   "execution_count": 95,
   "metadata": {},
   "outputs": [],
   "source": [
    "# print('accuracy: %s' % accuracy_score(y_pred, y_test))\n",
    "# print(classification_report(y_test, y_pred))"
   ]
  },
  {
   "cell_type": "code",
   "execution_count": 96,
   "metadata": {},
   "outputs": [],
   "source": [
    "# print('accuracy: %s' % accuracy_score(y_pred, y_test))\n",
    "# print(classification_report(y_test, y_pred, target_names=df_b_uk.gender.unique()))"
   ]
  },
  {
   "cell_type": "code",
   "execution_count": null,
   "metadata": {},
   "outputs": [],
   "source": []
  },
  {
   "cell_type": "code",
   "execution_count": null,
   "metadata": {},
   "outputs": [],
   "source": []
  },
  {
   "cell_type": "markdown",
   "metadata": {},
   "source": [
    "## New method - Approach"
   ]
  },
  {
   "cell_type": "code",
   "execution_count": 97,
   "metadata": {},
   "outputs": [],
   "source": [
    "# from sklearn.linear_model import SGDClassifier\n",
    "# from sklearn.ensemble import RandomForestRegressor\n",
    "# from sklearn.feature_selection import SelectKBest, chi2"
   ]
  },
  {
   "cell_type": "code",
   "execution_count": 98,
   "metadata": {},
   "outputs": [],
   "source": [
    "# pipel2 = Pipeline([('vect', CountVectorizer()), \n",
    "#                   ('tfidf', TfidfTransformer()), \n",
    "#                   ('clf', SGDClassifier())])\n",
    "\n",
    "# pipel2.fit(X_train, y_train)"
   ]
  },
  {
   "cell_type": "code",
   "execution_count": 99,
   "metadata": {},
   "outputs": [],
   "source": [
    "# y_pred = pipel2.predict(X_test)\n",
    "# # y_pred"
   ]
  },
  {
   "cell_type": "code",
   "execution_count": 100,
   "metadata": {},
   "outputs": [],
   "source": [
    "# print('accuracy: %s' % accuracy_score(y_pred, y_test))\n",
    "# print(classification_report(y_test, y_pred))"
   ]
  },
  {
   "cell_type": "code",
   "execution_count": 101,
   "metadata": {},
   "outputs": [],
   "source": [
    "# pipel.get_params().keys()"
   ]
  },
  {
   "cell_type": "code",
   "execution_count": 102,
   "metadata": {},
   "outputs": [],
   "source": [
    "# pipel2.get_params().keys()"
   ]
  },
  {
   "cell_type": "markdown",
   "metadata": {},
   "source": [
    "## Another New approach"
   ]
  },
  {
   "cell_type": "code",
   "execution_count": 103,
   "metadata": {},
   "outputs": [],
   "source": [
    "# from sklearn.ensemble import RandomForestRegressor\n",
    "# from sklearn.feature_selection import SelectKBest, chi2"
   ]
  },
  {
   "cell_type": "code",
   "execution_count": 104,
   "metadata": {},
   "outputs": [],
   "source": [
    "# classes = twitter['gender']\n",
    "# print(classes.value_counts())"
   ]
  },
  {
   "cell_type": "code",
   "execution_count": 105,
   "metadata": {},
   "outputs": [],
   "source": [
    "# X = tweets_newdf\n",
    "# y = new_df1.gender\n",
    "\n",
    "# tweets_newdf\n",
    "# new_df1\n",
    "# df_b_uk\n",
    "# X, y"
   ]
  },
  {
   "cell_type": "code",
   "execution_count": 106,
   "metadata": {},
   "outputs": [],
   "source": [
    "# X = tweets_df_b_uk\n",
    "# y = df_b_uk.gender\n",
    "# #\n",
    "# print(X, y)"
   ]
  },
  {
   "cell_type": "code",
   "execution_count": 107,
   "metadata": {},
   "outputs": [],
   "source": [
    "# encoder = LabelEncoder()\n",
    "# Y = encoder.fit_transform(y)\n",
    "# Y = Y.astype('int')\n",
    "# # print(classes[:15])\n",
    "# print(Y[:25])\n",
    "# type(Y)"
   ]
  },
  {
   "cell_type": "code",
   "execution_count": 108,
   "metadata": {},
   "outputs": [],
   "source": [
    "# X_train, X_test, y_train, y_test = train_test_split(X, Y, test_size=0.2, random_state=1)\n",
    "# # X_train, X_test, y_train, y_test"
   ]
  },
  {
   "cell_type": "code",
   "execution_count": 109,
   "metadata": {},
   "outputs": [],
   "source": [
    "# vect = CountVectorizer()\n",
    "# X = vect.fit_transform(tweets_df_b_uk)"
   ]
  },
  {
   "cell_type": "code",
   "execution_count": 110,
   "metadata": {},
   "outputs": [],
   "source": [
    "# pipel3 = Pipeline([('vect', CountVectorizer()), \n",
    "#                   ('tfidf', TfidfTransformer()), \n",
    "#                   ('clf', RandomForestRegressor())])\n",
    "\n",
    "# pipel3.fit(X_train, y_train)\n",
    "# ytest = np.array(y_test)"
   ]
  },
  {
   "cell_type": "code",
   "execution_count": 111,
   "metadata": {},
   "outputs": [],
   "source": [
    "# y_pred = pipel3.predict(X_test)\n",
    "# y_pred"
   ]
  },
  {
   "cell_type": "markdown",
   "metadata": {},
   "source": [
    "## pipel4  \n"
   ]
  },
  {
   "cell_type": "code",
   "execution_count": null,
   "metadata": {},
   "outputs": [],
   "source": []
  },
  {
   "cell_type": "code",
   "execution_count": null,
   "metadata": {},
   "outputs": [],
   "source": []
  },
  {
   "cell_type": "code",
   "execution_count": null,
   "metadata": {},
   "outputs": [],
   "source": []
  },
  {
   "cell_type": "code",
   "execution_count": null,
   "metadata": {},
   "outputs": [],
   "source": []
  },
  {
   "cell_type": "code",
   "execution_count": null,
   "metadata": {},
   "outputs": [],
   "source": []
  },
  {
   "cell_type": "code",
   "execution_count": null,
   "metadata": {},
   "outputs": [],
   "source": []
  },
  {
   "cell_type": "markdown",
   "metadata": {},
   "source": [
    "## pipel4  "
   ]
  },
  {
   "cell_type": "code",
   "execution_count": 112,
   "metadata": {},
   "outputs": [],
   "source": [
    "from sklearn.feature_selection import SelectKBest, chi2"
   ]
  },
  {
   "cell_type": "code",
   "execution_count": 113,
   "metadata": {},
   "outputs": [],
   "source": [
    "def  clean_data(tweets1):\n",
    "\n",
    "    # removing @s and links\n",
    "    for i,doc in enumerate(tweets1):\n",
    "        tweets1[i] = re.sub(r\"(?:\\@|https?\\://)\\S+\", \"\", doc)\n",
    "        tweets1[i] = \" \".join(tweets1[i].split())\n",
    "\n",
    "    ### We will analyze not using emojis and re iterate through the same data with emojis\n",
    "\n",
    "    # let's start by removing emojis and other special characters\n",
    "    for i,doc in enumerate(tweets1):\n",
    "        tweets1[i] = unicodedata.normalize('NFKD', doc).encode('ASCII', 'ignore').decode('utf8')\n",
    "\n",
    "    # clean punctuation\n",
    "    tweets1 = tweets1.str.replace(r'[^\\w\\d\\s]', ' ')\n",
    "\n",
    "    # clean numbers\n",
    "    tweets1 = tweets1.str.replace(r'\\d+(\\.\\d+)?', ' ')\n",
    "    \n",
    "    # remove underscores \n",
    "    #tweets1 = tweets1.str.replace(r'[^_',  '')\n",
    "    tweets1 = tweets1.str.replace(r\"(\\.\\d+)_\\d+\", ' ')\n",
    "    \n",
    "    # clean whitespaces\n",
    "    tweets1 = tweets1.str.replace(r'\\s+', ' ')\n",
    "\n",
    "    # clean extra whitespaces\n",
    "    tweets1 = tweets1.str.replace(r'^\\s+|\\s+?$', '')\n",
    "    \n",
    "    # lower\n",
    "    tweets1 = tweets1.str.lower()\n",
    "    \n",
    "    # remove stop words\n",
    "    stop_words = set(stopwords.words('english'))\n",
    "    tweets1 = tweets1.apply(lambda x: ' '.join(word for word in x.split() if word not in stop_words))\n",
    "    \n",
    "    \n",
    "    return tweets1\n",
    "    \n"
   ]
  },
  {
   "cell_type": "code",
   "execution_count": 114,
   "metadata": {},
   "outputs": [],
   "source": [
    "# # Stemming and lemmatizing\n",
    "# porter = PorterStemmer()\n",
    "# snowball = SnowballStemmer('english')\n",
    "# wordnet = WordNetLemmatizer()\n",
    "\n",
    "# # changes tweets\n",
    "# porter_tweets = tweets.apply(lambda x: ' '.join(porter.stem(word) for word in x.split()))\n",
    "# snowball_tweets = tweets.apply(lambda x: ' '.join(snowball.stem(word) for word in x.split()))\n",
    "# wordnet_tweets = tweets.apply(lambda x: ' '.join(wordnet.lemmatize(word) for word in x.split()))\n",
    "\n",
    "# # porter_tweets"
   ]
  },
  {
   "cell_type": "code",
   "execution_count": null,
   "metadata": {},
   "outputs": [],
   "source": []
  },
  {
   "cell_type": "code",
   "execution_count": null,
   "metadata": {},
   "outputs": [],
   "source": []
  },
  {
   "cell_type": "code",
   "execution_count": null,
   "metadata": {},
   "outputs": [],
   "source": []
  },
  {
   "cell_type": "markdown",
   "metadata": {},
   "source": [
    "#  pipel4 without unknown"
   ]
  },
  {
   "cell_type": "code",
   "execution_count": null,
   "metadata": {},
   "outputs": [],
   "source": []
  },
  {
   "cell_type": "code",
   "execution_count": 115,
   "metadata": {},
   "outputs": [],
   "source": [
    "new_df = twitter[twitter['gender'] != 'unknown']\n",
    "# new_df.info()\n",
    "\n",
    "new_df1 = new_df.reset_index()\n",
    "# new_df1.info()\n"
   ]
  },
  {
   "cell_type": "code",
   "execution_count": 116,
   "metadata": {},
   "outputs": [
    {
     "data": {
      "text/plain": [
       "(18836, 18836)"
      ]
     },
     "execution_count": 116,
     "metadata": {},
     "output_type": "execute_result"
    }
   ],
   "source": [
    "len(new_df1.gender), len(new_df1.text)\n",
    "\n",
    "# new_df1.text\n",
    "# len(clean_data(new_df1.text))"
   ]
  },
  {
   "cell_type": "code",
   "execution_count": 117,
   "metadata": {
    "scrolled": false
   },
   "outputs": [
    {
     "name": "stderr",
     "output_type": "stream",
     "text": [
      "/home/yamasjose/anaconda3/lib/python3.7/site-packages/ipykernel_launcher.py:5: SettingWithCopyWarning: \n",
      "A value is trying to be set on a copy of a slice from a DataFrame\n",
      "\n",
      "See the caveats in the documentation: https://pandas.pydata.org/pandas-docs/stable/user_guide/indexing.html#returning-a-view-versus-a-copy\n",
      "  \"\"\"\n",
      "/home/yamasjose/anaconda3/lib/python3.7/site-packages/ipykernel_launcher.py:6: SettingWithCopyWarning: \n",
      "A value is trying to be set on a copy of a slice from a DataFrame\n",
      "\n",
      "See the caveats in the documentation: https://pandas.pydata.org/pandas-docs/stable/user_guide/indexing.html#returning-a-view-versus-a-copy\n",
      "  \n",
      "/home/yamasjose/anaconda3/lib/python3.7/site-packages/ipykernel_launcher.py:12: SettingWithCopyWarning: \n",
      "A value is trying to be set on a copy of a slice from a DataFrame\n",
      "\n",
      "See the caveats in the documentation: https://pandas.pydata.org/pandas-docs/stable/user_guide/indexing.html#returning-a-view-versus-a-copy\n",
      "  if sys.path[0] == '':\n"
     ]
    }
   ],
   "source": [
    "tweets_new_df1 = clean_data(new_df1.text)"
   ]
  },
  {
   "cell_type": "code",
   "execution_count": 118,
   "metadata": {},
   "outputs": [
    {
     "data": {
      "text/plain": [
       "(0        robbie e responds critics win eddie edwards wo...\n",
       " 1        uiit felt like friends living story themu reti...\n",
       " 2        absolutely adore louis starts songs hits hard ...\n",
       " 3           hi looking url use typically see advanced user\n",
       " 4        watching neighbours sky catching neighbs xxx _...\n",
       "                                ...                        \n",
       " 18831                                  fine drink tea love\n",
       " 18832    greg hardy good player get face dez bryant lea...\n",
       " 18833                     miss people still never want see\n",
       " 18834      noticed tendency pee carpet want say anything p\n",
       " 18835    think apush creative project going bring bacon...\n",
       " Name: text, Length: 18836, dtype: object,\n",
       " 0          male\n",
       " 1          male\n",
       " 2          male\n",
       " 3          male\n",
       " 4        female\n",
       "           ...  \n",
       " 18831    female\n",
       " 18832      male\n",
       " 18833      male\n",
       " 18834    female\n",
       " 18835    female\n",
       " Name: gender, Length: 18836, dtype: object)"
      ]
     },
     "execution_count": 118,
     "metadata": {},
     "output_type": "execute_result"
    }
   ],
   "source": [
    "X = tweets_new_df1\n",
    "y = new_df1.gender\n",
    "X, y"
   ]
  },
  {
   "cell_type": "code",
   "execution_count": 119,
   "metadata": {},
   "outputs": [
    {
     "name": "stdout",
     "output_type": "stream",
     "text": [
      "[2 2 2 2 1 1 0 2 1 1 0 0 1 0 1 1 1 2 2 1 1 1 2 2 1]\n"
     ]
    }
   ],
   "source": [
    "encoder = LabelEncoder()\n",
    "Y = encoder.fit_transform(y)\n",
    "# Y = Y.astype('int')\n",
    "# print(classes[:15])\n",
    "# type(Y)\n",
    "print(Y[:25])\n"
   ]
  },
  {
   "cell_type": "code",
   "execution_count": 120,
   "metadata": {},
   "outputs": [],
   "source": [
    "X_train, X_test, y_train, y_test = train_test_split(X, Y, test_size=0.2, random_state=1)\n",
    "# X_train, X_test, y_train, y_test"
   ]
  },
  {
   "cell_type": "code",
   "execution_count": 121,
   "metadata": {},
   "outputs": [],
   "source": [
    "# wrong pipeline \n",
    "# pipel4 = Pipeline([('vect', CountVectorizer()), \n",
    "#                   ('chi',  SelectKBest(chi2, k=1200)), \n",
    "#                   ('clf', RandomForestRegressor(n_estimators=100))])\n",
    "\n",
    "# pipel4.fit(X_train, y_train)\n"
   ]
  },
  {
   "cell_type": "code",
   "execution_count": null,
   "metadata": {},
   "outputs": [],
   "source": []
  },
  {
   "cell_type": "code",
   "execution_count": 122,
   "metadata": {},
   "outputs": [
    {
     "data": {
      "text/plain": [
       "Pipeline(steps=[('vect', CountVectorizer()), ('tfidf', TfidfTransformer()),\n",
       "                ('clf',\n",
       "                 RandomForestClassifier(max_depth=500, n_estimators=500))])"
      ]
     },
     "execution_count": 122,
     "metadata": {},
     "output_type": "execute_result"
    }
   ],
   "source": [
    "## right pipeline - tfdifvectorizer use\n",
    "pipel4 = Pipeline([('vect', CountVectorizer()), \n",
    "                  ('tfidf', TfidfTransformer()),\n",
    "                  ('clf', RandomForestClassifier(n_estimators=500, max_depth=500 ))])\n",
    "\n",
    "pipel4.fit(X_train, y_train)\n"
   ]
  },
  {
   "cell_type": "code",
   "execution_count": null,
   "metadata": {},
   "outputs": [],
   "source": []
  },
  {
   "cell_type": "code",
   "execution_count": null,
   "metadata": {},
   "outputs": [],
   "source": []
  },
  {
   "cell_type": "code",
   "execution_count": 123,
   "metadata": {},
   "outputs": [],
   "source": [
    "from sklearn.feature_extraction.text import TfidfVectorizer\n"
   ]
  },
  {
   "cell_type": "code",
   "execution_count": 124,
   "metadata": {},
   "outputs": [
    {
     "data": {
      "text/plain": [
       "(15068, 22690)"
      ]
     },
     "execution_count": 124,
     "metadata": {},
     "output_type": "execute_result"
    }
   ],
   "source": [
    "## right pipeline - tfdifvectorizer use\n",
    "# pipel4 = Pipeline([('tfidf', TfidfTransformer()),\n",
    "#                   ('clf', RandomForestClassifier(n_estimators=500, max_depth=500 ))])\n",
    "\n",
    "\n",
    "tf_vec = TfidfVectorizer()\n",
    "\n",
    "tf_vec_ft = tf_vec.fit_transform(X_train)\n",
    "tf_vec_ft.shape"
   ]
  },
  {
   "cell_type": "code",
   "execution_count": 125,
   "metadata": {
    "scrolled": true
   },
   "outputs": [
    {
     "data": {
      "text/plain": [
       "{'ever': 6864,\n",
       " 'go': 8386,\n",
       " 'youtube': 22573,\n",
       " 'watch': 21775,\n",
       " 'music': 13242,\n",
       " 'video': 21464,\n",
       " 'hours': 9570,\n",
       " 'later': 11299,\n",
       " 'find': 7414,\n",
       " 'watching': 21779,\n",
       " 'tutorial': 20696,\n",
       " 'talk': 19575,\n",
       " 'giraffes': 8302,\n",
       " 'going': 8413,\n",
       " 'need': 13465,\n",
       " 'young': 22560,\n",
       " 'priest': 15543,\n",
       " 'old': 14091,\n",
       " 'winchesters': 22099,\n",
       " 'reasons': 16260,\n",
       " 'possesedbaby': 15319,\n",
       " 'orphan': 14297,\n",
       " 'drug': 6146,\n",
       " 'interpretive': 10265,\n",
       " 'rule': 17085,\n",
       " 'struck': 19147,\n",
       " 'district': 5814,\n",
       " 'court': 4676,\n",
       " 'hhs': 9264,\n",
       " 'hrsa': 9610,\n",
       " 'lose': 11872,\n",
       " 'overwrought': 14418,\n",
       " 'media': 12529,\n",
       " 'scare': 17358,\n",
       " 'campaigns': 3236,\n",
       " 'internet': 10257,\n",
       " 'really': 16245,\n",
       " 'enjoyed': 6662,\n",
       " 'redoaks': 16343,\n",
       " 'took': 20312,\n",
       " 'back': 1724,\n",
       " 'awesome': 1674,\n",
       " 'decade': 5244,\n",
       " 'big': 2269,\n",
       " 'hair': 8858,\n",
       " 'short': 17920,\n",
       " 'shorts': 17927,\n",
       " 'least': 11413,\n",
       " 'fave': 7211,\n",
       " 'self': 17589,\n",
       " 'titled': 20205,\n",
       " 'easy': 6311,\n",
       " 'idk': 9806,\n",
       " 'fearless': 7244,\n",
       " 'speak': 18622,\n",
       " 'red': 16325,\n",
       " 'got': 8492,\n",
       " 'car': 3321,\n",
       " 'smell': 18326,\n",
       " 'foulest': 7761,\n",
       " 'stench': 18951,\n",
       " 'smells': 18328,\n",
       " 'like': 11624,\n",
       " 'cross': 4862,\n",
       " 'dead': 5204,\n",
       " 'fish': 7469,\n",
       " 'someone': 18498,\n",
       " 'serious': 17673,\n",
       " 'case': 3415,\n",
       " 'diarrhea': 5588,\n",
       " 'one': 14135,\n",
       " 'days': 5178,\n",
       " 'flash': 7520,\n",
       " 'get': 8229,\n",
       " 'put': 15899,\n",
       " 'bear': 1991,\n",
       " 'jail': 10497,\n",
       " 'connect': 4388,\n",
       " 'pc': 14710,\n",
       " 'tv': 20700,\n",
       " 'amp': 1039,\n",
       " 'free': 7821,\n",
       " 'movies': 13127,\n",
       " 'andaemore': 1073,\n",
       " 'playing': 15127,\n",
       " 'new': 13560,\n",
       " 'daily': 5065,\n",
       " 'fantasy': 7156,\n",
       " 'leagues': 11389,\n",
       " 'come': 4196,\n",
       " 'join': 10688,\n",
       " 'dog': 5889,\n",
       " 'walked': 21681,\n",
       " 'chip': 3797,\n",
       " 'shop': 17910,\n",
       " 'eaten': 6314,\n",
       " 'onto': 14166,\n",
       " 'ironing': 10368,\n",
       " 'standardmonday': 18853,\n",
       " 'womenswork': 22222,\n",
       " 'changing': 3624,\n",
       " 'pissed': 15041,\n",
       " 'doha': 5902,\n",
       " 'map': 12238,\n",
       " 'play': 15119,\n",
       " 'game': 8054,\n",
       " 'weather': 21828,\n",
       " 'updates': 21179,\n",
       " 'channel': 3625,\n",
       " 'broke': 2912,\n",
       " 'feed': 7264,\n",
       " 'cat': 3431,\n",
       " 'noodles': 13749,\n",
       " 'rest': 16662,\n",
       " 'year': 22482,\n",
       " '_ua_ua_ua': 154,\n",
       " 'innovation': 10139,\n",
       " 'fund': 7967,\n",
       " 'billion': 2304,\n",
       " 'annual': 1153,\n",
       " 'budget': 2997,\n",
       " 'well': 21906,\n",
       " 'ottawa': 14327,\n",
       " 'spends': 18664,\n",
       " 'programs': 15656,\n",
       " 'ppl': 15383,\n",
       " 'annually': 1154,\n",
       " 'naylorreport': 13418,\n",
       " 'conducted': 4347,\n",
       " 'study': 19164,\n",
       " 'enjoying': 6663,\n",
       " 'life': 11589,\n",
       " 'living': 11732,\n",
       " 'longer': 11825,\n",
       " 'could': 4639,\n",
       " 'lead': 11372,\n",
       " 'higher': 9283,\n",
       " 'rate': 16164,\n",
       " 'cancer': 3251,\n",
       " 'maidstone': 12101,\n",
       " 'united': 21073,\n",
       " 'gillingham': 8282,\n",
       " 'dover': 6015,\n",
       " 'athletic': 1514,\n",
       " 'learn': 11402,\n",
       " 'face': 7059,\n",
       " 'round': 17029,\n",
       " 'fa': 7051,\n",
       " 'cup': 4962,\n",
       " 'maidst': 12100,\n",
       " 'gfc': 8240,\n",
       " 'lost': 11880,\n",
       " 'videos': 21468,\n",
       " 'pics': 14971,\n",
       " 'fireplace': 7451,\n",
       " 'tomo': 20284,\n",
       " 'sofa': 18458,\n",
       " 'arriving': 1370,\n",
       " 'next': 13591,\n",
       " 'couple': 4665,\n",
       " 'weeks': 21878,\n",
       " 'happyhome': 8966,\n",
       " 'thanks': 19873,\n",
       " 'motivational': 13090,\n",
       " 'monday': 12980,\n",
       " 'worse': 22308,\n",
       " 'dagenham': 5059,\n",
       " 'redbridge': 16328,\n",
       " 'leave': 11416,\n",
       " 'tower': 20383,\n",
       " 'last': 11292,\n",
       " 'night': 13654,\n",
       " 'started': 18884,\n",
       " 'dancing': 5097,\n",
       " 'calling': 3203,\n",
       " 'black': 2379,\n",
       " 'writers': 22352,\n",
       " 'lovers': 11930,\n",
       " 'books': 2622,\n",
       " 'york': 22541,\n",
       " 'city': 3912,\n",
       " 'tri': 20528,\n",
       " 'state': 18898,\n",
       " 'area': 1308,\n",
       " 'blkoutqueen': 2459,\n",
       " 'true': 20598,\n",
       " 'journalism': 10728,\n",
       " 'view': 21474,\n",
       " 'report': 16571,\n",
       " 'angles': 1111,\n",
       " 'especially': 6788,\n",
       " 'outlets': 14356,\n",
       " 'gushing': 8786,\n",
       " 'making': 12139,\n",
       " 'sweet': 19460,\n",
       " 'love': 11911,\n",
       " 'baby': 1713,\n",
       " 'ahead': 786,\n",
       " 'take': 19559,\n",
       " 'let': 11507,\n",
       " 'naked': 13334,\n",
       " '_ue_uo_': 245,\n",
       " 'hell': 9192,\n",
       " 'october': 13996,\n",
       " 'halloween': 8881,\n",
       " 'already': 953,\n",
       " 'weekend': 21868,\n",
       " '_u': 28,\n",
       " 'run': 17093,\n",
       " 'across': 536,\n",
       " 'campus': 3241,\n",
       " 'speed': 18652,\n",
       " 'sound': 18556,\n",
       " 'class': 3943,\n",
       " 'time': 20154,\n",
       " '_uai_uai_uai': 211,\n",
       " 'beef': 2051,\n",
       " 'lobbyists': 11773,\n",
       " 'scream': 17458,\n",
       " 'bloody': 2485,\n",
       " 'murder': 13222,\n",
       " 'propaganada': 15697,\n",
       " 'offensive': 14031,\n",
       " 'kate': 10861,\n",
       " 'harris': 9013,\n",
       " 'spoke': 18722,\n",
       " 'word': 22258,\n",
       " 'portland': 15298,\n",
       " 'week': 21864,\n",
       " 'able': 419,\n",
       " 'lines': 11662,\n",
       " 'post': 15326,\n",
       " 'event': 6859,\n",
       " 'email': 6525,\n",
       " 'record': 16308,\n",
       " 'hit': 9360,\n",
       " 'clips': 4014,\n",
       " 'pretty': 15522,\n",
       " 'alright': 956,\n",
       " 'team': 19696,\n",
       " 'intrested': 10289,\n",
       " 'gateway': 8107,\n",
       " 'teams': 19706,\n",
       " 'artist': 1390,\n",
       " 'amas': 987,\n",
       " 'counting': 4655,\n",
       " 'fingers': 7429,\n",
       " 'vincent': 21493,\n",
       " 'photog': 14927,\n",
       " 'follow': 7649,\n",
       " 'way': 21797,\n",
       " 'words': 22263,\n",
       " 'lmao': 11748,\n",
       " 'sorry': 18539,\n",
       " 'fun': 7962,\n",
       " 'dudes': 6187,\n",
       " 'wearing': 21825,\n",
       " 'coats': 4072,\n",
       " 'popped': 15266,\n",
       " 'bit': 2354,\n",
       " 'know': 11085,\n",
       " 'yayaya': 22471,\n",
       " 'deepest': 5293,\n",
       " 'fucking': 7932,\n",
       " 'shit': 17880,\n",
       " 'read': 16215,\n",
       " 'entire': 6693,\n",
       " 'cri': 4815,\n",
       " 'marquei': 12305,\n",
       " 'como': 4259,\n",
       " 'visto': 21538,\n",
       " 'walking': 21685,\n",
       " 'jss': 10746,\n",
       " 'bancodeseries': 1823,\n",
       " 'deal': 5211,\n",
       " 'sometimes': 18501,\n",
       " 'gives': 8319,\n",
       " 'respect': 16645,\n",
       " 'everydayiloveyou': 6875,\n",
       " 'forevermore': 7708,\n",
       " 'makes': 12135,\n",
       " 'pushawardslizquens': 15884,\n",
       " 'buy': 3131,\n",
       " 'sell': 17598,\n",
       " 'signal': 18030,\n",
       " 'eur': 6839,\n",
       " 'aud': 1572,\n",
       " 'pair': 14482,\n",
       " 'identified': 9792,\n",
       " 'listed': 11695,\n",
       " 'money': 12991,\n",
       " 'senators': 17616,\n",
       " 'congressmen': 4387,\n",
       " 'must': 13260,\n",
       " 'bernie': 2182,\n",
       " 'sanders': 17241,\n",
       " 'want': 21719,\n",
       " 'votes': 21612,\n",
       " 'catching': 3439,\n",
       " 'tfifriday': 19859,\n",
       " 'see': 17560,\n",
       " 'macklemore': 12050,\n",
       " 'live': 11720,\n",
       " 'badly': 1758,\n",
       " 'wow': 22327,\n",
       " 'match': 12379,\n",
       " 'boy': 2729,\n",
       " 'rafa': 16054,\n",
       " 'fought': 7759,\n",
       " 'kept': 10931,\n",
       " 'nerve': 13521,\n",
       " 'rosol': 17013,\n",
       " 'answers': 1165,\n",
       " 'end': 6611,\n",
       " 'low': 11938,\n",
       " 'light': 11612,\n",
       " 'photography': 14933,\n",
       " 'best': 2193,\n",
       " 'man': 12174,\n",
       " 'insane': 10148,\n",
       " 'legit': 11459,\n",
       " 'zahir': 22622,\n",
       " 'ud': 20827,\n",
       " 'din': 5653,\n",
       " 'active': 547,\n",
       " 'member': 12578,\n",
       " 'muslim': 13255,\n",
       " 'conference': 4352,\n",
       " 'peerzada': 14755,\n",
       " 'tayab': 19661,\n",
       " 'shah': 17759,\n",
       " 'many': 12234,\n",
       " 'others': 14316,\n",
       " 'dismayed': 5768,\n",
       " 'better': 2225,\n",
       " 'club': 4039,\n",
       " 'attached': 1534,\n",
       " 'course': 4674,\n",
       " 'top': 20324,\n",
       " 'try': 20620,\n",
       " 'thru': 20088,\n",
       " 'pray': 15411,\n",
       " 'rent': 16536,\n",
       " 'moscone': 13068,\n",
       " 'permit': 14832,\n",
       " 'shut': 17984,\n",
       " 'street': 19096,\n",
       " 'different': 5622,\n",
       " 'buildings': 3017,\n",
       " 'fill': 7386,\n",
       " 'people': 14788,\n",
       " 'gala': 8042,\n",
       " 'bingo': 2317,\n",
       " 'clubs': 4041,\n",
       " 'bought': 2691,\n",
       " 'uk': 20926,\n",
       " 'largest': 11280,\n",
       " 'high': 9282,\n",
       " 'operator': 14208,\n",
       " 'taken': 19562,\n",
       " 'byu_': 3150,\n",
       " 'jake': 10503,\n",
       " 'kilroy': 11003,\n",
       " 'yawn': 22467,\n",
       " 'check': 3689,\n",
       " 'phone': 14923,\n",
       " 'babbled': 1708,\n",
       " 'incessantly': 9982,\n",
       " 'mysteries': 13299,\n",
       " 'initiated': 10118,\n",
       " 'knocking': 11079,\n",
       " 'ky': 11177,\n",
       " 'never': 13555,\n",
       " 'nice': 13615,\n",
       " 'folks': 7646,\n",
       " 'odd': 14001,\n",
       " 'imaikalani': 9891,\n",
       " 'devault': 5536,\n",
       " 'maui': 12417,\n",
       " 'summer': 19289,\n",
       " 'school': 17398,\n",
       " 'appear': 1237,\n",
       " 'surf': 19370,\n",
       " 'liked': 11625,\n",
       " 'josh': 10720,\n",
       " 'daniel': 5105,\n",
       " 'takes': 19564,\n",
       " 'taylor': 19664,\n",
       " 'swift': 19469,\n",
       " 'smash': 18320,\n",
       " 'judges': 10754,\n",
       " 'houses': 9579,\n",
       " 'factor': 7073,\n",
       " 'blue': 2500,\n",
       " 'fingerprint': 7428,\n",
       " 'wine': 22109,\n",
       " 'bottle': 2685,\n",
       " 'stopper': 19040,\n",
       " 'prizmatic': 15589,\n",
       " 'usdwhy': 21229,\n",
       " 'use': 21230,\n",
       " 'cork': 4572,\n",
       " 'wh': 21949,\n",
       " 'etsy': 6831,\n",
       " 'etsybot': 6832,\n",
       " 'deletes': 5353,\n",
       " 'dvr': 6251,\n",
       " 'recording': 16311,\n",
       " 'twd': 20710,\n",
       " 'bad': 1751,\n",
       " 'cable': 3158,\n",
       " 'box': 2722,\n",
       " 'marvin': 12332,\n",
       " 'gaye': 8126,\n",
       " 'gave': 8118,\n",
       " 'key': 10939,\n",
       " 'door': 5970,\n",
       " 'open': 14189,\n",
       " 'admit': 625,\n",
       " 'edition': 6369,\n",
       " 'examines': 6902,\n",
       " 'data': 5143,\n",
       " 'reporting': 16577,\n",
       " 'requirements': 16607,\n",
       " 'cybersecurity': 5031,\n",
       " 'risks': 16860,\n",
       " 'likewise': 11630,\n",
       " 'challenges': 3597,\n",
       " 'thu_': 20095,\n",
       " 'adventure': 653,\n",
       " '_uai_uai_u': 210,\n",
       " 'aeaeae': 676,\n",
       " 'photo': 14925,\n",
       " 'happiness': 8956,\n",
       " '_tag': 27,\n",
       " 'friend_uoa': 7875,\n",
       " 'dogsu_': 5899,\n",
       " 'coming': 4219,\n",
       " 'soon': 18521,\n",
       " 'awh': 1679,\n",
       " 'omg': 14121,\n",
       " '_u_u_u': 103,\n",
       " 'say': 17323,\n",
       " 'bitch': 2355,\n",
       " 'tried': 20547,\n",
       " 'still': 18988,\n",
       " 'failed': 7093,\n",
       " 'winter': 22129,\n",
       " 'grind': 8660,\n",
       " 'brings': 2873,\n",
       " 'shynenu': 17994,\n",
       " 'finally': 7406,\n",
       " 'breaking': 2812,\n",
       " 'away': 1667,\n",
       " 'daytime': 5183,\n",
       " 'stigma': 18986,\n",
       " 'wish': 22150,\n",
       " 'damn': 5086,\n",
       " 'eat': 6313,\n",
       " 'bacon': 1748,\n",
       " 'opened': 14192,\n",
       " 'dads': 5058,\n",
       " 'house': 9571,\n",
       " 'little': 11714,\n",
       " 'sister': 18122,\n",
       " 'ran': 16112,\n",
       " 'towards': 20380,\n",
       " 'screaming': 17462,\n",
       " 'naya': 13417,\n",
       " 'told': 20270,\n",
       " 'much': 13172,\n",
       " 'missed': 12856,\n",
       " 'cookies': 4523,\n",
       " 'look': 11832,\n",
       " 'amazing': 991,\n",
       " '_ua': 139,\n",
       " 'yeah': 22479,\n",
       " 'draw': 6073,\n",
       " 'line': 11656,\n",
       " 'dolphin': 5917,\n",
       " 'starving': 18895,\n",
       " 'make': 12127,\n",
       " 'believe': 2107,\n",
       " 'overthrow': 14408,\n",
       " 'heart': 9134,\n",
       " 'beats': 2008,\n",
       " 'leading': 11376,\n",
       " 'purpose': 15872,\n",
       " 'developing': 5540,\n",
       " 'servant': 17680,\n",
       " 'leaders': 11374,\n",
       " 'tomorrow': 20285,\n",
       " 'business': 3100,\n",
       " 'talkradio': 19582,\n",
       " 'mujtaba': 13190,\n",
       " 'stories': 19048,\n",
       " 'via': 21439,\n",
       " 'biz': 2370,\n",
       " 'advisor': 671,\n",
       " 'help': 9201,\n",
       " 'middle': 12722,\n",
       " 'market': 12284,\n",
       " 'succeed': 19235,\n",
       " 'rsm': 17056,\n",
       " 'gauntlet': 8116,\n",
       " 'mess': 12644,\n",
       " 'around': 1356,\n",
       " 'thumb': 20100,\n",
       " 'namibia': 13343,\n",
       " 'fuck': 7921,\n",
       " 'wake': 21666,\n",
       " 'crocodile': 4849,\n",
       " 'boyfriend': 2736,\n",
       " 'ones': 14148,\n",
       " 'held': 9189,\n",
       " 'oh': 14059,\n",
       " 'please': 15140,\n",
       " 'publicrelations': 15800,\n",
       " 'information': 10096,\n",
       " 'happy': 8958,\n",
       " 'imma': 9900,\n",
       " 'keep': 10898,\n",
       " 'gonna': 8436,\n",
       " 'lucky': 11977,\n",
       " 'penny': 14780,\n",
       " 'non_': 13739,\n",
       " 'rockin': 16932,\n",
       " 'cupcake': 4963,\n",
       " 'earrings': 6288,\n",
       " 'hot': 9549,\n",
       " 'pink': 15011,\n",
       " 'sassy': 17274,\n",
       " 'etsyshops': 6835,\n",
       " 'cupcakes': 4964,\n",
       " 'asked': 1435,\n",
       " 'vitamins': 21547,\n",
       " 'prenatal': 15465,\n",
       " 'yes': 22504,\n",
       " 'ah': 778,\n",
       " 'thought': 20050,\n",
       " 'arguing': 1323,\n",
       " 'reverse': 16731,\n",
       " 'wrong': 22358,\n",
       " 'skulking': 18197,\n",
       " 'gin': 8289,\n",
       " 'tonic': 20299,\n",
       " '_uu': 370,\n",
       " 'follower': 7653,\n",
       " 'day': 5174,\n",
       " 'stats': 18910,\n",
       " 'growing': 8700,\n",
       " 'account': 491,\n",
       " 'supposed': 19359,\n",
       " 'move': 13119,\n",
       " 'things': 20000,\n",
       " 'everyone': 6877,\n",
       " 'everything': 6880,\n",
       " 'constant': 4428,\n",
       " 'reminder': 16508,\n",
       " 'poor': 15258,\n",
       " 'woman': 22217,\n",
       " 'god': 8402,\n",
       " 'came': 3220,\n",
       " 'home': 9441,\n",
       " 'tuesday': 20645,\n",
       " 'wtf': 22369,\n",
       " 'enough': 6668,\n",
       " 'squirting': 18792,\n",
       " 'spooning': 18736,\n",
       " 'fiddling': 7363,\n",
       " 'cheeky': 3700,\n",
       " 'dinner': 5661,\n",
       " 'date': 5149,\n",
       " 'fvck': 8006,\n",
       " 'fvcking': 8007,\n",
       " 'noisy': 13725,\n",
       " 'christian': 3847,\n",
       " 'non': 13738,\n",
       " 'religious': 16486,\n",
       " 'unitarian': 21072,\n",
       " 'scottish': 17441,\n",
       " 'poet': 15183,\n",
       " 'james': 10509,\n",
       " 'beattie': 2009,\n",
       " 'tragic': 20427,\n",
       " 'wife': 22059,\n",
       " 'sons': 18518,\n",
       " 'died': 5608,\n",
       " 'early': 6280,\n",
       " 'outcry': 14341,\n",
       " 'slave': 18232,\n",
       " 'trade': 20409,\n",
       " 'metal': 12655,\n",
       " 'scarce': 17357,\n",
       " 'oscars': 14306,\n",
       " 'given': 8318,\n",
       " 'world': 22291,\n",
       " 'war': 21727,\n",
       " 'ii': 9839,\n",
       " 'made': 12061,\n",
       " 'wood': 22239,\n",
       " 'rita': 16863,\n",
       " 'ora': 14241,\n",
       " 'recalls': 16275,\n",
       " 'journey': 10731,\n",
       " 'refugee': 16388,\n",
       " 'becoming': 2034,\n",
       " 'biggest': 2277,\n",
       " 'stars': 18881,\n",
       " 'raspberry': 16159,\n",
       " 'tech': 19721,\n",
       " 'pi': 14950,\n",
       " 'raspbian': 16160,\n",
       " 'install': 10186,\n",
       " 'lxde': 12012,\n",
       " 'rasbian': 16156,\n",
       " 'lxu_': 12013,\n",
       " 'girl': 8303,\n",
       " 'feels': 7279,\n",
       " 'esto': 6813,\n",
       " 'gusta': 8788,\n",
       " '_u_': 29,\n",
       " 'build': 3014,\n",
       " 'transforming': 20452,\n",
       " 'workbench': 22269,\n",
       " 'desk': 5493,\n",
       " 'storage': 19044,\n",
       " 'unit': 21071,\n",
       " 'donuat': 5959,\n",
       " 'lot': 11884,\n",
       " 'space': 18587,\n",
       " 'lifehacker': 11595,\n",
       " 'website': 21844,\n",
       " 'brochure': 2904,\n",
       " 'full': 7956,\n",
       " 'errors': 6770,\n",
       " 'remember': 16501,\n",
       " 'written': 22357,\n",
       " 'proofreader': 15694,\n",
       " 'moved': 13121,\n",
       " 'cut': 5008,\n",
       " 'grass': 8586,\n",
       " 'primerealstate': 15551,\n",
       " 'votegeoff': 21607,\n",
       " 'votechange': 21605,\n",
       " 'taxpayers': 19660,\n",
       " 'paid': 14470,\n",
       " 'public': 15793,\n",
       " 'records': 16312,\n",
       " 'tuition': 20651,\n",
       " 'used': 21231,\n",
       " 'expenses': 6975,\n",
       " 'according': 490,\n",
       " 'unc': 20971,\n",
       " 'nah': 13324,\n",
       " 'guys': 8800,\n",
       " 'nothing': 13802,\n",
       " 'annoyed': 1149,\n",
       " 'interview': 10271,\n",
       " 'contact': 4447,\n",
       " 'interviewer': 10274,\n",
       " 'sexy': 17734,\n",
       " 'asian': 1429,\n",
       " 'london': 11819,\n",
       " 'keyes': 10941,\n",
       " 'wears': 21826,\n",
       " 'lingerie': 11666,\n",
       " 'work': 22268,\n",
       " 'without': 22172,\n",
       " 'getting': 8236,\n",
       " 'mad': 12057,\n",
       " 'emitiinalriadshiw': 6565,\n",
       " 'might': 12739,\n",
       " 'attending': 1551,\n",
       " 'dying': 6259,\n",
       " 'inside': 10159,\n",
       " 'sign': 18029,\n",
       " 'series': 17671,\n",
       " 'children': 3775,\n",
       " 'deaf': 5210,\n",
       " 'hearing': 9132,\n",
       " 'set': 17695,\n",
       " 'comprises': 4306,\n",
       " 'ready': 16222,\n",
       " 'meal': 12496,\n",
       " 'woohoo': 22245,\n",
       " 'congrats': 4381,\n",
       " 'facebook': 7060,\n",
       " 'likes': 11629,\n",
       " 'competitors': 4282,\n",
       " 'faithful': 7109,\n",
       " 'howl': 9595,\n",
       " 'every': 6871,\n",
       " 'dont': 5954,\n",
       " 'win': 22096,\n",
       " 'cunts': 4960,\n",
       " 'clearly': 3975,\n",
       " 'hello': 9195,\n",
       " 'david': 5161,\n",
       " 'schuman': 17410,\n",
       " 'nuc': 13863,\n",
       " 'american': 1019,\n",
       " 'dm': 5851,\n",
       " 'boss': 2671,\n",
       " 'stop': 19033,\n",
       " 'blaming': 2414,\n",
       " 'fall': 7117,\n",
       " 'become': 2032,\n",
       " 'cuddly': 4941,\n",
       " 'teddy': 19739,\n",
       " 'oculus': 14000,\n",
       " 'rift': 16821,\n",
       " 'adawarp': 575,\n",
       " 'voted': 21606,\n",
       " 'artistoftheyear': 1396,\n",
       " 'vote': 21601,\n",
       " 'favorite': 7216,\n",
       " 'justinbieber': 10810,\n",
       " 'preserve': 15495,\n",
       " 'recipes': 16289,\n",
       " 'memories': 12588,\n",
       " 'personal': 14845,\n",
       " 'behind': 2084,\n",
       " 'food': 7664,\n",
       " 'listen': 11696,\n",
       " 'ahh': 787,\n",
       " 'basically': 1910,\n",
       " 'eh': 6424,\n",
       " 'therefore': 19958,\n",
       " 'tell': 19771,\n",
       " 'chara': 3640,\n",
       " 'ooc': 14174,\n",
       " 'right': 16823,\n",
       " 'jabs': 10470,\n",
       " 'opportunity': 14218,\n",
       " 'daisy': 5072,\n",
       " 'actually': 562,\n",
       " 'tough': 20367,\n",
       " 'leathers': 11415,\n",
       " 'bran': 2772,\n",
       " 'think': 20005,\n",
       " 'always': 972,\n",
       " 'cool': 4526,\n",
       " 'slutbags': 18302,\n",
       " 'vag': 21296,\n",
       " 'separated': 17650,\n",
       " 'enjoy': 6660,\n",
       " 'art': 1378,\n",
       " 'sneezed': 18385,\n",
       " 'times': 20166,\n",
       " 'point': 15189,\n",
       " 'stopped': 19039,\n",
       " 'saying': 17325,\n",
       " 'bless': 2437,\n",
       " 'fell': 7292,\n",
       " 'asleep': 1447,\n",
       " 'wacky': 21643,\n",
       " 'dream': 6083,\n",
       " 'junk': 10795,\n",
       " 'msg': 13151,\n",
       " 'squad': 18777,\n",
       " 'guy': 8797,\n",
       " 'looks': 11838,\n",
       " 'milton': 12782,\n",
       " 'office': 14038,\n",
       " 'control': 4497,\n",
       " 'laughter': 11319,\n",
       " 'great': 8604,\n",
       " 'shout': 17939,\n",
       " 'mention': 12607,\n",
       " 'traveloregon': 20485,\n",
       " 'even': 6853,\n",
       " 'funny': 7980,\n",
       " 'hahahahaha': 8848,\n",
       " 'worth': 22313,\n",
       " 'happenings': 8950,\n",
       " 'mill': 12765,\n",
       " 'lowell': 11940,\n",
       " 'rushing': 17105,\n",
       " 'telling': 19773,\n",
       " 'exactly': 6898,\n",
       " 'afraid': 717,\n",
       " 'listening': 11698,\n",
       " 'bullshit': 3034,\n",
       " 'stay': 18916,\n",
       " 'relatively': 16465,\n",
       " 'healthy': 9126,\n",
       " 'culinary': 4948,\n",
       " 'traditions': 20421,\n",
       " 'odissa': 14010,\n",
       " 'cooking': 4524,\n",
       " 'cuisine': 4946,\n",
       " 'idek': 9791,\n",
       " 'watched': 21777,\n",
       " 'fear': 7241,\n",
       " 'added': 577,\n",
       " 'playlist': 15128,\n",
       " 'christmas': 3853,\n",
       " 'tree': 20507,\n",
       " 'lyrics': 12029,\n",
       " 'ride': 16805,\n",
       " 'store': 19045,\n",
       " 'reasonswhywelovereecebibby': 16261,\n",
       " 'voice': 21576,\n",
       " 'looking': 11836,\n",
       " 'person': 14842,\n",
       " 'ha': 8815,\n",
       " 'gustado': 8789,\n",
       " 'un': 20956,\n",
       " 'vi_deo': 21438,\n",
       " 'de': 5201,\n",
       " 'hearthstone': 9143,\n",
       " 'kolento': 11112,\n",
       " 'troll': 20571,\n",
       " 'failfish': 7094,\n",
       " 'moments': 12971,\n",
       " 'opieop': 14210,\n",
       " 'offering': 14035,\n",
       " 'lineups': 11664,\n",
       " 'retweets': 16713,\n",
       " 'comeon': 4201,\n",
       " 'lets': 11510,\n",
       " 'training': 20436,\n",
       " 'running': 17100,\n",
       " 'grandcanyon': 8560,\n",
       " 'decided': 5257,\n",
       " 'pack': 14449,\n",
       " 'suit': 19275,\n",
       " 'buried': 3072,\n",
       " 'fingerless': 7427,\n",
       " 'gloves': 8368,\n",
       " 'sudden': 19250,\n",
       " 'askheel': 1437,\n",
       " 'washing': 21759,\n",
       " 'fruit': 7901,\n",
       " 'veg': 21366,\n",
       " 'brush': 2957,\n",
       " 'pull': 15822,\n",
       " 'says': 17327,\n",
       " 'dissing': 5798,\n",
       " 'care': 3342,\n",
       " 'maybe': 12434,\n",
       " 'somewhere': 18505,\n",
       " 'deep': 5289,\n",
       " 'soul': 18551,\n",
       " 'lasts': 11294,\n",
       " 'ways': 21799,\n",
       " 'alone': 945,\n",
       " 'straight': 19066,\n",
       " 'awards': 1663,\n",
       " 'endorsements': 6623,\n",
       " 'mattress': 12412,\n",
       " 'company': 4264,\n",
       " 'warranty': 21747,\n",
       " 'industry': 10063,\n",
       " 'hunter': 9679,\n",
       " 'comes': 4202,\n",
       " 'puts': 15902,\n",
       " 'sliver': 18281,\n",
       " 'chain': 3588,\n",
       " 'neck': 13456,\n",
       " 'dragging': 6055,\n",
       " 'hayden': 9077,\n",
       " 'beast': 1999,\n",
       " 'mode': 12936,\n",
       " 'knicks': 11066,\n",
       " 'sl': 18213,\n",
       " 'johnson': 10685,\n",
       " 'th': 19864,\n",
       " 'spot': 18746,\n",
       " 'air': 809,\n",
       " 'future': 7995,\n",
       " 'alan': 842,\n",
       " 'silvestri': 18057,\n",
       " 'backtothefuture': 1741,\n",
       " 'page': 14467,\n",
       " 'positive': 15315,\n",
       " 'energy': 6636,\n",
       " 'elevate': 6481,\n",
       " 'college': 4149,\n",
       " 'hard': 8979,\n",
       " 'wanna': 21717,\n",
       " 'friends': 7877,\n",
       " 'family': 7135,\n",
       " 'urged': 21211,\n",
       " 'elderly': 6453,\n",
       " 'customers': 5004,\n",
       " 'cheaper': 3682,\n",
       " 'deals': 5216,\n",
       " 'nationalpumpkinday': 13396,\n",
       " 'pumpkin': 15831,\n",
       " 'sad': 17152,\n",
       " 'interviewing': 10276,\n",
       " 'rick': 16799,\n",
       " 'zeiler': 22636,\n",
       " 'owner': 14424,\n",
       " 'cold': 4128,\n",
       " 'cock': 4086,\n",
       " 'whiskey': 21996,\n",
       " 'afternoon': 729,\n",
       " 'yep': 22502,\n",
       " 'broadwayhd': 2902,\n",
       " 'streaming': 19094,\n",
       " 'service': 17686,\n",
       " 'theater': 19897,\n",
       " 'thereuas': 19962,\n",
       " 'doubt': 6001,\n",
       " 'demand': 5384,\n",
       " 'services': 17688,\n",
       " 'mum': 13206,\n",
       " 'gran': 8557,\n",
       " 'booked': 2617,\n",
       " 'bond': 2593,\n",
       " 'film': 7393,\n",
       " 'recommend': 16299,\n",
       " 'anyone': 1199,\n",
       " 'nursing': 13882,\n",
       " 'job': 10660,\n",
       " 'atlanta': 1518,\n",
       " 'ga': 8019,\n",
       " 'hiring': 9345,\n",
       " 'careerarc': 3346,\n",
       " 'im': 9881,\n",
       " 'missing': 12861,\n",
       " 'talent': 19571,\n",
       " 'reach': 16204,\n",
       " 'hype': 9721,\n",
       " 'onedirection': 14140,\n",
       " 'cared': 3343,\n",
       " 'express': 7014,\n",
       " 'freely': 7831,\n",
       " 'cookie': 4522,\n",
       " 'probably': 15596,\n",
       " 'operating': 14203,\n",
       " 'system': 19514,\n",
       " 'pdp': 14717,\n",
       " 'bell': 2116,\n",
       " 'laboratories': 11192,\n",
       " 'loves': 11931,\n",
       " 'song': 18510,\n",
       " 'carly': 3368,\n",
       " 'fx': 8013,\n",
       " 'sit': 18124,\n",
       " 'yo': 22530,\n",
       " 'lot_ua': 11885,\n",
       " 'fiber': 7356,\n",
       " 'diet': 5612,\n",
       " 'weight': 21888,\n",
       " 'loss': 11878,\n",
       " 'uo': 21164,\n",
       " 'foods': 7667,\n",
       " 'malawi': 12145,\n",
       " 'poised': 15192,\n",
       " 'introduce': 10293,\n",
       " 'road': 16893,\n",
       " 'toll': 20275,\n",
       " 'gates': 8106,\n",
       " 'major': 12123,\n",
       " 'roads': 16895,\n",
       " 'whic': 21985,\n",
       " 'fruits': 7904,\n",
       " 'vegetables': 21372,\n",
       " 'suspiciously': 19409,\n",
       " 'sexual': 17729,\n",
       " 'click': 3988,\n",
       " 'cost': 4617,\n",
       " 'entry': 6705,\n",
       " 'raining': 16084,\n",
       " 'ceremony': 3560,\n",
       " 'beautiful': 2013,\n",
       " 'drive': 6115,\n",
       " 'track': 20401,\n",
       " 'hitman': 9364,\n",
       " 'sets': 17700,\n",
       " 'ft': 7916,\n",
       " 'zanya': 22626,\n",
       " 'laurence': 11332,\n",
       " 'spectre': 18644,\n",
       " 'premiere': 15461,\n",
       " 'months': 13017,\n",
       " 'latest': 11301,\n",
       " 'instalment': 10192,\n",
       " 'literally': 11708,\n",
       " 'front': 7894,\n",
       " 'hold': 9407,\n",
       " 'thank': 19869,\n",
       " 'kind': 11008,\n",
       " 'human': 9652,\n",
       " 'mayor': 12439,\n",
       " 'noting': 13811,\n",
       " 'implementing': 9932,\n",
       " 'wifi': 22060,\n",
       " 'options': 14235,\n",
       " 'costs': 4620,\n",
       " 'tweep': 20714,\n",
       " 'followed': 7652,\n",
       " 'nobody': 13708,\n",
       " 'unfollowed': 21040,\n",
       " 'past': 14631,\n",
       " 'completion': 4294,\n",
       " ...}"
      ]
     },
     "execution_count": 125,
     "metadata": {},
     "output_type": "execute_result"
    }
   ],
   "source": [
    "tf_vec.vocabulary_"
   ]
  },
  {
   "cell_type": "code",
   "execution_count": 126,
   "metadata": {},
   "outputs": [
    {
     "data": {
      "text/plain": [
       "matrix([[0., 0., 0., ..., 0., 0., 0.],\n",
       "        [0., 0., 0., ..., 0., 0., 0.],\n",
       "        [0., 0., 0., ..., 0., 0., 0.],\n",
       "        ...,\n",
       "        [0., 0., 0., ..., 0., 0., 0.],\n",
       "        [0., 0., 0., ..., 0., 0., 0.],\n",
       "        [0., 0., 0., ..., 0., 0., 0.]])"
      ]
     },
     "execution_count": 126,
     "metadata": {},
     "output_type": "execute_result"
    }
   ],
   "source": [
    "tf_vec_ft.todense()"
   ]
  },
  {
   "cell_type": "code",
   "execution_count": 127,
   "metadata": {},
   "outputs": [
    {
     "data": {
      "text/plain": [
       "RandomForestClassifier()"
      ]
     },
     "execution_count": 127,
     "metadata": {},
     "output_type": "execute_result"
    }
   ],
   "source": [
    "rf = RandomForestClassifier()\n",
    "\n",
    "rf.fit(tf_vec_ft, y_train)"
   ]
  },
  {
   "cell_type": "code",
   "execution_count": 128,
   "metadata": {},
   "outputs": [],
   "source": [
    "# X_test"
   ]
  },
  {
   "cell_type": "code",
   "execution_count": 129,
   "metadata": {},
   "outputs": [
    {
     "data": {
      "text/plain": [
       "(3768, 22690)"
      ]
     },
     "execution_count": 129,
     "metadata": {},
     "output_type": "execute_result"
    }
   ],
   "source": [
    "tf_vec_ft_test = tf_vec.transform(X_test)\n",
    "tf_vec_ft_test.shape"
   ]
  },
  {
   "cell_type": "code",
   "execution_count": 130,
   "metadata": {},
   "outputs": [],
   "source": [
    "rf_pred = rf.predict(tf_vec_ft_test)"
   ]
  },
  {
   "cell_type": "code",
   "execution_count": 131,
   "metadata": {},
   "outputs": [
    {
     "data": {
      "text/plain": [
       "0.5270700636942676"
      ]
     },
     "execution_count": 131,
     "metadata": {},
     "output_type": "execute_result"
    }
   ],
   "source": [
    "rf.score(tf_vec_ft_test, y_test)"
   ]
  },
  {
   "cell_type": "code",
   "execution_count": null,
   "metadata": {},
   "outputs": [],
   "source": []
  },
  {
   "cell_type": "code",
   "execution_count": null,
   "metadata": {},
   "outputs": [],
   "source": []
  },
  {
   "cell_type": "code",
   "execution_count": null,
   "metadata": {},
   "outputs": [],
   "source": []
  },
  {
   "cell_type": "code",
   "execution_count": 132,
   "metadata": {},
   "outputs": [
    {
     "data": {
      "text/plain": [
       "(22690, numpy.ndarray)"
      ]
     },
     "execution_count": 132,
     "metadata": {},
     "output_type": "execute_result"
    }
   ],
   "source": [
    "tf_feat_names = tf_vec.get_feature_names() \n",
    "tf_feat_names = np.array(tf_feat_names)\n",
    "\n",
    "len(tf_feat_names), type(tf_feat_names)"
   ]
  },
  {
   "cell_type": "code",
   "execution_count": 136,
   "metadata": {
    "scrolled": true
   },
   "outputs": [
    {
     "data": {
      "text/plain": [
       "array([5.49336136e-05, 8.93282647e-06, 8.40754209e-06, ..., 1.41348616e-05, 4.39697561e-06,\n",
       "       1.59234587e-07])"
      ]
     },
     "execution_count": 136,
     "metadata": {},
     "output_type": "execute_result"
    }
   ],
   "source": [
    "feat_imp = rf.feature_importances_\n",
    "feat_imp"
   ]
  },
  {
   "cell_type": "code",
   "execution_count": 137,
   "metadata": {},
   "outputs": [],
   "source": [
    "feat_imp_10 = np.argsort(feat_imp)[-10:]"
   ]
  },
  {
   "cell_type": "code",
   "execution_count": 138,
   "metadata": {},
   "outputs": [
    {
     "data": {
      "text/plain": [
       "array([   28,  5174,  8386, 11911, 14135, 11624, 21828, 21179,  8229,  3625])"
      ]
     },
     "execution_count": 138,
     "metadata": {},
     "output_type": "execute_result"
    }
   ],
   "source": [
    "sorted_imp = np.argsort(feat_imp)[-10:]\n",
    "sorted_imp"
   ]
  },
  {
   "cell_type": "code",
   "execution_count": 139,
   "metadata": {},
   "outputs": [
    {
     "data": {
      "text/plain": [
       "array(['_u', 'day', 'go', 'love', 'one', 'like', 'weather', 'updates', 'get', 'channel'],\n",
       "      dtype='<U285')"
      ]
     },
     "execution_count": 139,
     "metadata": {},
     "output_type": "execute_result"
    }
   ],
   "source": [
    "feat_imp_words = tf_feat_names[np.argsort(feat_imp)][-10:]\n",
    "feat_imp_words"
   ]
  },
  {
   "cell_type": "code",
   "execution_count": 140,
   "metadata": {},
   "outputs": [
    {
     "data": {
      "image/png": "[encoded data removed]",
      "text/plain": [
       "<Figure size 864x576 with 1 Axes>"
      ]
     },
     "metadata": {
      "needs_background": "light"
     },
     "output_type": "display_data"
    }
   ],
   "source": [
    "# Plot the feature importances of the forest\n",
    "fig, ax = plt.subplots(figsize=(12, 8))\n",
    "\n",
    "plt.title('Feature Importances')\n",
    "plt.barh(range(len(sorted_imp)), feat_imp[sorted_imp], align='center')\n",
    "plt.yticks(range(len(sorted_imp)),feat_imp_words )\n",
    "plt.xlabel('Relative Importance')\n",
    "plt.savefig('images/feature_imp.png')\n",
    "plt.show()"
   ]
  },
  {
   "cell_type": "code",
   "execution_count": null,
   "metadata": {},
   "outputs": [],
   "source": []
  },
  {
   "cell_type": "code",
   "execution_count": 149,
   "metadata": {},
   "outputs": [
    {
     "data": {
      "text/plain": [
       "array([21471, 21472, 17406, ..., 21179,  8229,  3625])"
      ]
     },
     "execution_count": 149,
     "metadata": {},
     "output_type": "execute_result"
    }
   ],
   "source": [
    "feat_notimp_10 = np.argsort(feat_imp)[10:]\n",
    "feat_notimp_10"
   ]
  },
  {
   "cell_type": "code",
   "execution_count": 150,
   "metadata": {},
   "outputs": [
    {
     "data": {
      "text/plain": [
       "array([21471, 21472, 17406, ..., 21179,  8229,  3625])"
      ]
     },
     "execution_count": 150,
     "metadata": {},
     "output_type": "execute_result"
    }
   ],
   "source": [
    "sorted_notimp = np.argsort(feat_imp)[10:]\n",
    "sorted_notimp"
   ]
  },
  {
   "cell_type": "code",
   "execution_count": 151,
   "metadata": {},
   "outputs": [
    {
     "data": {
      "text/plain": [
       "array(['vietnam', 'vietnamese', 'schori', ..., 'updates', 'get', 'channel'], dtype='<U285')"
      ]
     },
     "execution_count": 151,
     "metadata": {},
     "output_type": "execute_result"
    }
   ],
   "source": [
    "feat_notimp_words = tf_feat_names[np.argsort(feat_imp)][10:]\n",
    "feat_notimp_words"
   ]
  },
  {
   "cell_type": "code",
   "execution_count": null,
   "metadata": {
    "scrolled": true
   },
   "outputs": [],
   "source": [
    "# # Plot the feature importances of the forest\n",
    "# fig, ax = plt.subplots(figsize=(12, 8))\n",
    "\n",
    "# plt.title('Feature Importances')\n",
    "# plt.barh(range(len(sorted_notimp)), feat_imp[sorted_notimp], align='center')\n",
    "# plt.yticks(range(len(sorted_notimp)),feat_notimp_words )\n",
    "# plt.xlabel('Relative Importance')\n",
    "# plt.savefig('images/feature_imp2.png')\n",
    "# plt.show()"
   ]
  },
  {
   "cell_type": "code",
   "execution_count": null,
   "metadata": {},
   "outputs": [],
   "source": []
  },
  {
   "cell_type": "code",
   "execution_count": null,
   "metadata": {},
   "outputs": [],
   "source": []
  },
  {
   "cell_type": "code",
   "execution_count": 153,
   "metadata": {},
   "outputs": [
    {
     "data": {
      "text/plain": [
       "array([1, 0, 2, ..., 1, 0, 2])"
      ]
     },
     "execution_count": 153,
     "metadata": {},
     "output_type": "execute_result"
    }
   ],
   "source": [
    "ytest = np.array(y_test)\n",
    "ytest"
   ]
  },
  {
   "cell_type": "code",
   "execution_count": 154,
   "metadata": {},
   "outputs": [],
   "source": [
    "y_pred = pipel4.predict(X_test)\n",
    "\n",
    "# y_pred = y_pred.astype('int')\n",
    "# y_pred[:75]"
   ]
  },
  {
   "cell_type": "code",
   "execution_count": 155,
   "metadata": {},
   "outputs": [],
   "source": [
    "# len(ytest), len(y_pred), type(ytest), type(y_pred)\n",
    "# pipel4.get_params().keys()"
   ]
  },
  {
   "cell_type": "code",
   "execution_count": 156,
   "metadata": {},
   "outputs": [
    {
     "name": "stdout",
     "output_type": "stream",
     "text": [
      "Accuracy =  0.5262738853503185\n"
     ]
    }
   ],
   "source": [
    "print('Accuracy = ', accuracy_score(ytest, y_pred))"
   ]
  },
  {
   "cell_type": "code",
   "execution_count": 157,
   "metadata": {},
   "outputs": [
    {
     "name": "stdout",
     "output_type": "stream",
     "text": [
      "Accuracy =  0.5262738853503185\n",
      "              precision    recall  f1-score   support\n",
      "\n",
      "           0       0.70      0.50      0.58      1203\n",
      "           1       0.53      0.61      0.57      1397\n",
      "           2       0.40      0.45      0.43      1168\n",
      "\n",
      "    accuracy                           0.53      3768\n",
      "   macro avg       0.55      0.52      0.53      3768\n",
      "weighted avg       0.55      0.53      0.53      3768\n",
      "\n"
     ]
    }
   ],
   "source": [
    "print('Accuracy = ', accuracy_score(y_test, y_pred))\n",
    "print(classification_report(y_test, y_pred))"
   ]
  },
  {
   "cell_type": "code",
   "execution_count": 161,
   "metadata": {},
   "outputs": [],
   "source": [
    "# print(confusion_matrix(y_test, y_pred))"
   ]
  },
  {
   "cell_type": "code",
   "execution_count": 165,
   "metadata": {},
   "outputs": [
    {
     "name": "stdout",
     "output_type": "stream",
     "text": [
      "[[605 255 343]\n",
      " [110 850 437]\n",
      " [152 488 528]]\n"
     ]
    }
   ],
   "source": [
    "print(confusion_matrix(y_test, y_pred))\n",
    "conf_matrx = confusion_matrix(y_test, y_pred)\n",
    "\n",
    "# sn.heatmap(conf_matrx)"
   ]
  },
  {
   "cell_type": "code",
   "execution_count": 164,
   "metadata": {},
   "outputs": [
    {
     "data": {
      "image/png": "[encoded data removed]",
      "text/plain": [
       "<Figure size 864x576 with 2 Axes>"
      ]
     },
     "metadata": {
      "needs_background": "light"
     },
     "output_type": "display_data"
    }
   ],
   "source": [
    "categories=['Brand','Female','Male']\n",
    "fig, ax = plt.subplots(figsize=(12,8))\n",
    "sn.heatmap(confusion_matrix(ytest, pipel4.predict(X_test)), annot=True, fmt='g', xticklabels=categories, yticklabels=categories, ax=ax)\n",
    "ax.set_title('Confusion Matrix', fontsize=20)\n",
    "ax.set_xlabel('Actual',fontsize=15)\n",
    "ax.set_ylabel('Predicted',fontsize=15)\n",
    "plt.tick_params(axis='both', which='major', labelbottom = False, bottom=False, top = False, labeltop=True)\n",
    "plt.savefig('images/base_heatmap.png')"
   ]
  },
  {
   "cell_type": "code",
   "execution_count": null,
   "metadata": {},
   "outputs": [],
   "source": []
  },
  {
   "cell_type": "code",
   "execution_count": null,
   "metadata": {},
   "outputs": [],
   "source": []
  },
  {
   "cell_type": "code",
   "execution_count": null,
   "metadata": {},
   "outputs": [],
   "source": []
  },
  {
   "cell_type": "code",
   "execution_count": null,
   "metadata": {},
   "outputs": [],
   "source": []
  },
  {
   "cell_type": "code",
   "execution_count": null,
   "metadata": {},
   "outputs": [],
   "source": []
  },
  {
   "cell_type": "code",
   "execution_count": null,
   "metadata": {},
   "outputs": [],
   "source": []
  },
  {
   "cell_type": "code",
   "execution_count": null,
   "metadata": {},
   "outputs": [],
   "source": []
  },
  {
   "cell_type": "code",
   "execution_count": null,
   "metadata": {},
   "outputs": [],
   "source": []
  },
  {
   "cell_type": "code",
   "execution_count": null,
   "metadata": {},
   "outputs": [],
   "source": []
  },
  {
   "cell_type": "code",
   "execution_count": null,
   "metadata": {},
   "outputs": [],
   "source": []
  },
  {
   "cell_type": "code",
   "execution_count": null,
   "metadata": {},
   "outputs": [],
   "source": []
  },
  {
   "cell_type": "code",
   "execution_count": null,
   "metadata": {},
   "outputs": [],
   "source": []
  },
  {
   "cell_type": "code",
   "execution_count": null,
   "metadata": {},
   "outputs": [],
   "source": []
  },
  {
   "cell_type": "code",
   "execution_count": null,
   "metadata": {},
   "outputs": [],
   "source": [
    "# # 13. Calculate the standard deviation for feature importances across all trees\n",
    "\n",
    "# n = 10 # top 10 features\n",
    "\n",
    "# #importances = forest_fit.feature_importances_[:n]\n",
    "# importances = rf.feature_importances_[:n]\n",
    "# std = np.std([tree.feature_importances_ for tree in rf.estimators_],\n",
    "#              axis=0)\n",
    "# indices = np.argsort(importances)[::-1]\n",
    "# features = list(tf_feat_names[indices])\n",
    "\n",
    "# # Print the feature ranking\n",
    "# print(\"\\n13. Feature ranking:\")\n",
    "\n",
    "# for f in range(n):\n",
    "#     print(\"%d. %s (%f)\" % (f + 1, features[f], importances[indices[f]]))\n",
    "\n",
    "# # Plot the feature importances of the forest\n",
    "# fig, ax = plt.subplots()\n",
    "\n",
    "# ax.bar(range(10), importances[indices], yerr=std[indices], color=\"r\", align=\"center\")\n",
    "# ax.set_xticks(range(10))\n",
    "# ax.set_xticklabels(features, rotation = 90)\n",
    "# ax.set_xlim([-1, 10])\n",
    "# ax.set_xlabel(\"importance\")\n",
    "# ax.set_title(\"Feature Importances\")"
   ]
  },
  {
   "cell_type": "code",
   "execution_count": null,
   "metadata": {},
   "outputs": [],
   "source": []
  },
  {
   "cell_type": "code",
   "execution_count": null,
   "metadata": {},
   "outputs": [],
   "source": []
  },
  {
   "cell_type": "code",
   "execution_count": null,
   "metadata": {},
   "outputs": [],
   "source": []
  },
  {
   "cell_type": "code",
   "execution_count": null,
   "metadata": {},
   "outputs": [],
   "source": []
  },
  {
   "cell_type": "code",
   "execution_count": null,
   "metadata": {},
   "outputs": [],
   "source": []
  },
  {
   "cell_type": "code",
   "execution_count": null,
   "metadata": {},
   "outputs": [],
   "source": []
  },
  {
   "cell_type": "code",
   "execution_count": null,
   "metadata": {},
   "outputs": [],
   "source": []
  },
  {
   "cell_type": "code",
   "execution_count": null,
   "metadata": {},
   "outputs": [],
   "source": []
  },
  {
   "cell_type": "code",
   "execution_count": null,
   "metadata": {},
   "outputs": [],
   "source": []
  },
  {
   "cell_type": "code",
   "execution_count": null,
   "metadata": {},
   "outputs": [],
   "source": []
  },
  {
   "cell_type": "code",
   "execution_count": null,
   "metadata": {},
   "outputs": [],
   "source": []
  },
  {
   "cell_type": "code",
   "execution_count": null,
   "metadata": {},
   "outputs": [],
   "source": []
  },
  {
   "cell_type": "code",
   "execution_count": null,
   "metadata": {},
   "outputs": [],
   "source": []
  },
  {
   "cell_type": "code",
   "execution_count": null,
   "metadata": {},
   "outputs": [],
   "source": []
  },
  {
   "cell_type": "code",
   "execution_count": null,
   "metadata": {},
   "outputs": [],
   "source": []
  },
  {
   "cell_type": "code",
   "execution_count": null,
   "metadata": {},
   "outputs": [],
   "source": []
  },
  {
   "cell_type": "code",
   "execution_count": null,
   "metadata": {},
   "outputs": [],
   "source": []
  },
  {
   "cell_type": "code",
   "execution_count": null,
   "metadata": {},
   "outputs": [],
   "source": []
  },
  {
   "cell_type": "code",
   "execution_count": null,
   "metadata": {},
   "outputs": [],
   "source": []
  },
  {
   "cell_type": "code",
   "execution_count": null,
   "metadata": {},
   "outputs": [],
   "source": []
  },
  {
   "cell_type": "code",
   "execution_count": null,
   "metadata": {},
   "outputs": [],
   "source": []
  },
  {
   "cell_type": "markdown",
   "metadata": {},
   "source": [
    "# pipel4 without unknown and brand"
   ]
  },
  {
   "cell_type": "code",
   "execution_count": 168,
   "metadata": {},
   "outputs": [],
   "source": [
    "df_b_uk = twitter[twitter['gender'] != 'unknown']\n",
    "# df_b_uk.info()"
   ]
  },
  {
   "cell_type": "code",
   "execution_count": 169,
   "metadata": {},
   "outputs": [],
   "source": [
    "df_b_uk = df_b_uk.reset_index()\n",
    "# df_b_uk.info()"
   ]
  },
  {
   "cell_type": "code",
   "execution_count": 170,
   "metadata": {},
   "outputs": [],
   "source": [
    "df_b_uk = df_b_uk[df_b_uk['gender'] != 'brand']\n",
    "# df_b_uk.info()"
   ]
  },
  {
   "cell_type": "code",
   "execution_count": 171,
   "metadata": {},
   "outputs": [],
   "source": [
    "df_b_uk = df_b_uk.reset_index()\n",
    "# df_b_uk.info()"
   ]
  },
  {
   "cell_type": "code",
   "execution_count": 172,
   "metadata": {},
   "outputs": [],
   "source": [
    "# new_df = twitter[twitter['gender'] != 'unknown']\n",
    "# # new_df.info()\n",
    "\n",
    "# new_df1 = new_df.reset_index()\n",
    "# # new_df1.info()\n"
   ]
  },
  {
   "cell_type": "code",
   "execution_count": 173,
   "metadata": {},
   "outputs": [],
   "source": [
    "# len(df_b_uk.gender), len(df_b_uk.text)\n",
    "\n",
    "# new_df1.text\n",
    "\n",
    "# clean_data(df_b_uk.text)"
   ]
  },
  {
   "cell_type": "code",
   "execution_count": 174,
   "metadata": {},
   "outputs": [
    {
     "name": "stderr",
     "output_type": "stream",
     "text": [
      "/home/yamasjose/anaconda3/lib/python3.7/site-packages/ipykernel_launcher.py:5: SettingWithCopyWarning: \n",
      "A value is trying to be set on a copy of a slice from a DataFrame\n",
      "\n",
      "See the caveats in the documentation: https://pandas.pydata.org/pandas-docs/stable/user_guide/indexing.html#returning-a-view-versus-a-copy\n",
      "  \"\"\"\n",
      "/home/yamasjose/anaconda3/lib/python3.7/site-packages/ipykernel_launcher.py:6: SettingWithCopyWarning: \n",
      "A value is trying to be set on a copy of a slice from a DataFrame\n",
      "\n",
      "See the caveats in the documentation: https://pandas.pydata.org/pandas-docs/stable/user_guide/indexing.html#returning-a-view-versus-a-copy\n",
      "  \n",
      "/home/yamasjose/anaconda3/lib/python3.7/site-packages/ipykernel_launcher.py:12: SettingWithCopyWarning: \n",
      "A value is trying to be set on a copy of a slice from a DataFrame\n",
      "\n",
      "See the caveats in the documentation: https://pandas.pydata.org/pandas-docs/stable/user_guide/indexing.html#returning-a-view-versus-a-copy\n",
      "  if sys.path[0] == '':\n"
     ]
    }
   ],
   "source": [
    "tweets_df_b_uk = clean_data(df_b_uk.text)"
   ]
  },
  {
   "cell_type": "code",
   "execution_count": 175,
   "metadata": {},
   "outputs": [],
   "source": [
    "X = tweets_df_b_uk\n",
    "y = df_b_uk.gender\n"
   ]
  },
  {
   "cell_type": "code",
   "execution_count": 176,
   "metadata": {},
   "outputs": [
    {
     "name": "stdout",
     "output_type": "stream",
     "text": [
      "0       male\n",
      "1       male\n",
      "2       male\n",
      "3       male\n",
      "4     female\n",
      "5     female\n",
      "6      brand\n",
      "7       male\n",
      "8     female\n",
      "9     female\n",
      "10     brand\n",
      "11     brand\n",
      "12    female\n",
      "13     brand\n",
      "14    female\n",
      "Name: gender, dtype: object\n",
      "[1 1 1 1 0 0 1 0 0 0 0 0 0 1 1 0 0 0 1 1 0 0 1 1 0]\n"
     ]
    },
    {
     "data": {
      "text/plain": [
       "numpy.ndarray"
      ]
     },
     "execution_count": 176,
     "metadata": {},
     "output_type": "execute_result"
    }
   ],
   "source": [
    "encoder = LabelEncoder()\n",
    "Y = encoder.fit_transform(y)\n",
    "# Y = Y.astype('int')\n",
    "print(classes[:15])\n",
    "print(Y[:25])\n",
    "type(Y)"
   ]
  },
  {
   "cell_type": "code",
   "execution_count": 177,
   "metadata": {},
   "outputs": [],
   "source": [
    "X_train, X_test, y_train, y_test = train_test_split(X, Y, test_size=0.2, random_state=1)\n",
    "# X_train, X_test, y_train, y_test"
   ]
  },
  {
   "cell_type": "code",
   "execution_count": null,
   "metadata": {},
   "outputs": [],
   "source": []
  },
  {
   "cell_type": "code",
   "execution_count": 178,
   "metadata": {},
   "outputs": [
    {
     "data": {
      "text/plain": [
       "Pipeline(steps=[('vect', CountVectorizer()), ('tfidf', TfidfTransformer()),\n",
       "                ('clf',\n",
       "                 RandomForestClassifier(max_depth=500, n_estimators=500))])"
      ]
     },
     "execution_count": 178,
     "metadata": {},
     "output_type": "execute_result"
    }
   ],
   "source": [
    "## right pipeline \n",
    "pipel4 = Pipeline([('vect', CountVectorizer()), \n",
    "                  ('tfidf', TfidfTransformer()),\n",
    "                  ('clf', RandomForestClassifier(n_estimators=500, max_depth=500 ))])\n",
    "\n",
    "pipel4.fit(X_train, y_train)\n"
   ]
  },
  {
   "cell_type": "code",
   "execution_count": 179,
   "metadata": {},
   "outputs": [
    {
     "data": {
      "text/plain": [
       "array([0, 1, 0, ..., 1, 1, 0])"
      ]
     },
     "execution_count": 179,
     "metadata": {},
     "output_type": "execute_result"
    }
   ],
   "source": [
    "ytest = np.array(y_test)\n",
    "ytest"
   ]
  },
  {
   "cell_type": "code",
   "execution_count": 180,
   "metadata": {},
   "outputs": [],
   "source": [
    "y_pred = pipel4.predict(X_test)\n",
    "\n",
    "y_pred = y_pred.astype('int')\n",
    "# y_pred[:75]"
   ]
  },
  {
   "cell_type": "code",
   "execution_count": 181,
   "metadata": {},
   "outputs": [],
   "source": [
    "# len(ytest), len(y_pred), type(ytest), type(y_pred)"
   ]
  },
  {
   "cell_type": "code",
   "execution_count": 182,
   "metadata": {},
   "outputs": [],
   "source": [
    "# pipel4.get_params().keys()"
   ]
  },
  {
   "cell_type": "code",
   "execution_count": 183,
   "metadata": {},
   "outputs": [
    {
     "name": "stdout",
     "output_type": "stream",
     "text": [
      "Accuracy =  0.5800697944939899\n"
     ]
    }
   ],
   "source": [
    "print('Accuracy = ', accuracy_score(y_test, y_pred))"
   ]
  },
  {
   "cell_type": "code",
   "execution_count": 184,
   "metadata": {},
   "outputs": [
    {
     "name": "stdout",
     "output_type": "stream",
     "text": [
      "Accuracy =  0.5800697944939899\n",
      "              precision    recall  f1-score   support\n",
      "\n",
      "           0       0.60      0.61      0.60      1358\n",
      "           1       0.56      0.55      0.55      1221\n",
      "\n",
      "    accuracy                           0.58      2579\n",
      "   macro avg       0.58      0.58      0.58      2579\n",
      "weighted avg       0.58      0.58      0.58      2579\n",
      "\n"
     ]
    }
   ],
   "source": [
    "print('Accuracy = ', accuracy_score(y_test, y_pred))\n",
    "print(classification_report(y_test, y_pred))"
   ]
  },
  {
   "cell_type": "code",
   "execution_count": 185,
   "metadata": {},
   "outputs": [
    {
     "name": "stdout",
     "output_type": "stream",
     "text": [
      "[[826 532]\n",
      " [551 670]]\n"
     ]
    }
   ],
   "source": [
    "print(confusion_matrix(y_test, y_pred))\n",
    "conf_matrx = confusion_matrix(y_test, y_pred)\n",
    "\n",
    "# sn.heatmap(conf_matrx)"
   ]
  },
  {
   "cell_type": "code",
   "execution_count": 196,
   "metadata": {},
   "outputs": [],
   "source": [
    "conf_matrx = confusion_matrix(ytest, y_pred)\n",
    "\n",
    "# sn.heatmap(conf_matrx)"
   ]
  },
  {
   "cell_type": "code",
   "execution_count": 197,
   "metadata": {},
   "outputs": [
    {
     "data": {
      "image/png": "[encoded data removed]",
      "text/plain": [
       "<Figure size 864x576 with 2 Axes>"
      ]
     },
     "metadata": {
      "needs_background": "light"
     },
     "output_type": "display_data"
    }
   ],
   "source": [
    "categories=['Female','Male']\n",
    "fig, ax = plt.subplots(figsize=(12,8))\n",
    "sn.heatmap(confusion_matrix(ytest, pipel4.predict(X_test)), annot=True, fmt='g', xticklabels=categories, yticklabels=categories, ax=ax)\n",
    "ax.set_title('Confusion Matrix', fontsize=20)\n",
    "ax.set_xlabel('Actual',fontsize=15)\n",
    "ax.set_ylabel('Predicted',fontsize=15)\n",
    "plt.tick_params(axis='both', which='major', labelbottom = False, bottom=False, top = False, labeltop=True)\n",
    "plt.savefig('images/base_heatmap2.png')"
   ]
  },
  {
   "cell_type": "code",
   "execution_count": null,
   "metadata": {},
   "outputs": [],
   "source": []
  },
  {
   "cell_type": "code",
   "execution_count": 188,
   "metadata": {},
   "outputs": [],
   "source": [
    "from sklearn.feature_extraction.text import TfidfVectorizer\n"
   ]
  },
  {
   "cell_type": "code",
   "execution_count": 189,
   "metadata": {},
   "outputs": [
    {
     "data": {
      "text/plain": [
       "(10315, 17548)"
      ]
     },
     "execution_count": 189,
     "metadata": {},
     "output_type": "execute_result"
    }
   ],
   "source": [
    "tf_vec = TfidfVectorizer()\n",
    "\n",
    "tf_vec_ft = tf_vec.fit_transform(X_train)\n",
    "tf_vec_ft.shape"
   ]
  },
  {
   "cell_type": "code",
   "execution_count": 190,
   "metadata": {
    "scrolled": true
   },
   "outputs": [
    {
     "data": {
      "text/plain": [
       "{'leadwithvideo': 8800,\n",
       " 'sweet': 15033,\n",
       " 'spot': 14460,\n",
       " 'online': 10920,\n",
       " 'video': 16601,\n",
       " 'length': 8885,\n",
       " 'marketing': 9509,\n",
       " 'entrepreneur': 5237,\n",
       " 'videomarketing': 16602,\n",
       " 'business': 2428,\n",
       " 'smallbu_': 14112,\n",
       " 'looking': 9166,\n",
       " 'boardgamehour': 2004,\n",
       " 'best': 1745,\n",
       " 'itsouryearjustin': 8092,\n",
       " 'hold': 7297,\n",
       " 'brings': 2263,\n",
       " 'back': 1388,\n",
       " 'many': 9463,\n",
       " 'memories': 9737,\n",
       " '_uoa': 274,\n",
       " 'students': 14790,\n",
       " 'collected': 3245,\n",
       " 'staff': 14514,\n",
       " 'way': 16877,\n",
       " 'home': 7325,\n",
       " 'fab': 5507,\n",
       " 'trip': 15912,\n",
       " 'enjoy': 5204,\n",
       " 'half': 6902,\n",
       " 'term': 15301,\n",
       " 'everyone': 5366,\n",
       " 'think': 15457,\n",
       " 'joke': 8291,\n",
       " 'lmao': 9091,\n",
       " 'competition': 3361,\n",
       " 'time': 15578,\n",
       " 'send': 13575,\n",
       " 'pictures': 11554,\n",
       " 'select': 13548,\n",
       " 'one': 10905,\n",
       " 'picture': 11551,\n",
       " 'facebook': 5516,\n",
       " 'winner': 17130,\n",
       " 'cj': 3061,\n",
       " 'man': 9416,\n",
       " 'plan': 11639,\n",
       " 'plans': 11648,\n",
       " 'always': 816,\n",
       " 'flawless': 5879,\n",
       " 'teamcj': 15223,\n",
       " 'mrpi': 10162,\n",
       " 'almost': 788,\n",
       " 'panic': 11198,\n",
       " 'attack': 1241,\n",
       " 'thinking': 15460,\n",
       " 'better': 1772,\n",
       " 'get': 6412,\n",
       " 'good': 6573,\n",
       " 'ones': 10913,\n",
       " 'taken': 15110,\n",
       " 'anne': 940,\n",
       " 'frank': 6089,\n",
       " 'hide': 7202,\n",
       " 'seek': 13534,\n",
       " 'club': 3162,\n",
       " 'quiz': 12334,\n",
       " 'team': 15219,\n",
       " 'name': 10302,\n",
       " 'yet': 17419,\n",
       " 'limits': 9011,\n",
       " 'fears': 5661,\n",
       " 'illusions': 7647,\n",
       " 'manin': 9442,\n",
       " 'quote': 12336,\n",
       " 'excuse': 5407,\n",
       " 'comfortable': 3292,\n",
       " 'little': 9068,\n",
       " 'miss': 9946,\n",
       " 'pinky': 11587,\n",
       " '_u': 20,\n",
       " 'snoring': 14193,\n",
       " 'laying': 8783,\n",
       " 'baby': 1378,\n",
       " 'done': 4654,\n",
       " 'telling': 15270,\n",
       " 'people': 11409,\n",
       " 'problems': 12035,\n",
       " 'want': 16808,\n",
       " 'involved': 8003,\n",
       " 'sad': 13221,\n",
       " 'happy': 6965,\n",
       " 'deal': 4086,\n",
       " 'like': 8990,\n",
       " 'ignoring': 7623,\n",
       " 'negative': 10414,\n",
       " 'shit': 13767,\n",
       " 'energy': 5184,\n",
       " 'respond': 12827,\n",
       " 'bookings': 2062,\n",
       " 'open': 10946,\n",
       " 'duval': 4888,\n",
       " 'county': 3670,\n",
       " 'bigdogg': 1813,\n",
       " 'ready': 12496,\n",
       " 'rock': 13039,\n",
       " 'shut': 13855,\n",
       " 'downu_': 4726,\n",
       " 'rmr': 13001,\n",
       " 'tmht': 15642,\n",
       " 'newcastle': 10473,\n",
       " 'herb': 7159,\n",
       " 'zaynnnn': 17508,\n",
       " 'likes': 8995,\n",
       " 'geordie': 6400,\n",
       " 'guuuurls': 6844,\n",
       " '_ui_': 218,\n",
       " 'grow': 6770,\n",
       " 'wind': 17113,\n",
       " 'lies': 8964,\n",
       " 'deactivate': 4080,\n",
       " 'gonna': 6569,\n",
       " 'rant': 12431,\n",
       " 'jb': 8183,\n",
       " 'haters': 7021,\n",
       " '_ua': 115,\n",
       " 'ily': 7655,\n",
       " 'stay': 14591,\n",
       " '_ue_uo': 213,\n",
       " 'friend': 6141,\n",
       " 'boy': 2149,\n",
       " 'visit': 16651,\n",
       " 'work': 17235,\n",
       " 'smoothies': 14150,\n",
       " 'waiting': 16763,\n",
       " 'ey': 5495,\n",
       " 'notice': 10669,\n",
       " 'wee': 16923,\n",
       " 'lass': 8725,\n",
       " 'hangout': 6943,\n",
       " 'michael': 9824,\n",
       " 'vaults': 16522,\n",
       " 'previous': 11984,\n",
       " 'episodes': 5249,\n",
       " 'worth': 17271,\n",
       " 'watching': 16863,\n",
       " 'cheers': 2891,\n",
       " 'jose': 8307,\n",
       " 'mourinho': 10133,\n",
       " 'charged': 2844,\n",
       " 'fa': 5506,\n",
       " 'referee': 12602,\n",
       " 'could': 3651,\n",
       " 'banned': 1489,\n",
       " 'game': 6290,\n",
       " 'decides': 4120,\n",
       " 'chelsea': 2902,\n",
       " 'future': 6240,\n",
       " 'girl': 6466,\n",
       " 'check': 2875,\n",
       " 'desk': 4299,\n",
       " 'casey': 2665,\n",
       " 'vlog': 16675,\n",
       " 'love': 9227,\n",
       " 'life': 8965,\n",
       " 'oh': 10843,\n",
       " 'god': 6539,\n",
       " 'shes': 13747,\n",
       " 'beautiful': 1619,\n",
       " 'hi': 7191,\n",
       " 'thank': 15352,\n",
       " 'nice': 10515,\n",
       " 'fave': 5636,\n",
       " 'art': 1133,\n",
       " 'even': 5348,\n",
       " 'artist': 1139,\n",
       " 'draw': 4756,\n",
       " 'aa': 339,\n",
       " 'ni': 10509,\n",
       " 'follow': 5970,\n",
       " 'please': 11685,\n",
       " 'uo': 16376,\n",
       " 'see': 13529,\n",
       " 'oliver': 10879,\n",
       " 'handshake': 6937,\n",
       " 'public': 12176,\n",
       " 'getting': 6416,\n",
       " 'real': 12499,\n",
       " 'treat': 15861,\n",
       " 'kids': 8502,\n",
       " 'also': 804,\n",
       " 'depends': 4254,\n",
       " 'mom': 10021,\n",
       " 'browns': 2310,\n",
       " 'try': 15960,\n",
       " 'trade': 15794,\n",
       " 'top': 15723,\n",
       " 'players': 11671,\n",
       " 'message': 9780,\n",
       " 'though': 15493,\n",
       " 'uiyou': 16186,\n",
       " 'donuat': 4663,\n",
       " 'need': 10400,\n",
       " 'beginning': 1667,\n",
       " 'end': 5164,\n",
       " 'siwon': 13980,\n",
       " 'least': 8826,\n",
       " 'self': 13554,\n",
       " 'titled': 15626,\n",
       " 'easy': 4944,\n",
       " 'idk': 7601,\n",
       " 'fearless': 5660,\n",
       " 'speak': 14361,\n",
       " 'red': 12578,\n",
       " 'got': 6613,\n",
       " 'relationship': 12678,\n",
       " 'financially': 5788,\n",
       " 'emotionally': 5133,\n",
       " 'imma': 7677,\n",
       " 'give': 6474,\n",
       " 'benefit': 1718,\n",
       " 'doubt': 4697,\n",
       " 'ya': 17360,\n",
       " 'bruh': 2314,\n",
       " 'fuck': 6179,\n",
       " 'school': 13408,\n",
       " 'reflection': 12615,\n",
       " 'modern': 10008,\n",
       " 'society': 14225,\n",
       " 'whole': 17056,\n",
       " 'curves': 3916,\n",
       " 'represent': 12774,\n",
       " 'world': 17253,\n",
       " 'revolves': 12908,\n",
       " 'united': 16305,\n",
       " 'crawl': 3741,\n",
       " 'ball': 1449,\n",
       " 'cry': 3857,\n",
       " 'reason': 12524,\n",
       " 'eat': 4945,\n",
       " 'junk': 8365,\n",
       " 'food': 5986,\n",
       " 'watch': 16859,\n",
       " 'movies': 10146,\n",
       " 'bother': 2108,\n",
       " 'kiwisaver': 8551,\n",
       " 'kickstart': 8496,\n",
       " 'fund': 6219,\n",
       " 'restored': 12841,\n",
       " 'birthday': 1856,\n",
       " '_uou': 319,\n",
       " 'white': 17041,\n",
       " 'girls': 6471,\n",
       " 'lovin': 9244,\n",
       " 'coca': 3195,\n",
       " 'playing': 11674,\n",
       " 'jurassic': 8366,\n",
       " 'park': 11237,\n",
       " 'operation': 10959,\n",
       " 'genesis': 6380,\n",
       " 'go': 6530,\n",
       " 'date': 4039,\n",
       " 'know': 8582,\n",
       " 'whether': 17024,\n",
       " 'old': 10869,\n",
       " 'interests': 7943,\n",
       " 'profession': 12062,\n",
       " 'garter': 6320,\n",
       " 'snakes': 14161,\n",
       " 'nerodia': 10443,\n",
       " 'tied': 15561,\n",
       " 'content': 3515,\n",
       " 'clear': 3103,\n",
       " 'bar': 1496,\n",
       " 'ever': 5356,\n",
       " 'us': 16425,\n",
       " 'shocking': 13786,\n",
       " 'mis': 9930,\n",
       " 'surprising': 14969,\n",
       " 'something': 14261,\n",
       " 'new': 10470,\n",
       " 'dope': 4676,\n",
       " 'age': 630,\n",
       " 'twelve': 16048,\n",
       " 'flicks': 5902,\n",
       " 'predecessor': 11917,\n",
       " 'spectre': 14379,\n",
       " 'followers': 5975,\n",
       " 'last': 8727,\n",
       " 'week': 16927,\n",
       " 'stats': 14585,\n",
       " 'use': 16431,\n",
       " 'growing': 6772,\n",
       " 'account': 428,\n",
       " 'firstamendment': 5824,\n",
       " 'freedoms': 6111,\n",
       " 'among': 858,\n",
       " 'important': 7704,\n",
       " 'liked': 8992,\n",
       " 'co': 3179,\n",
       " 'optional': 10985,\n",
       " 'podcast': 11719,\n",
       " 'animated': 927,\n",
       " 'privileged': 12023,\n",
       " 'strong': 14771,\n",
       " 'language': 8705,\n",
       " 'carson': 2650,\n",
       " 'said': 13242,\n",
       " 'record': 12565,\n",
       " 'interview': 7962,\n",
       " 'believe': 1691,\n",
       " 'nations': 10348,\n",
       " 'would': 17275,\n",
       " 'participation': 11252,\n",
       " 'realise': 12502,\n",
       " 'broken': 2289,\n",
       " 'cheek': 2883,\n",
       " 'say': 13352,\n",
       " 'country': 3665,\n",
       " 'lives': 9076,\n",
       " 'beyond': 1785,\n",
       " 'means': 9673,\n",
       " 'kirastase': 8537,\n",
       " 'thierry': 15445,\n",
       " 'mugler': 10191,\n",
       " 'show': 13829,\n",
       " 'decadence': 4107,\n",
       " 'scented': 13395,\n",
       " 'hair': 6890,\n",
       " 'products': 12059,\n",
       " 'express': 5480,\n",
       " 'ah': 659,\n",
       " 'thought': 15496,\n",
       " 'arguing': 1088,\n",
       " 'reverse': 12894,\n",
       " 'wrong': 17308,\n",
       " 'favorite': 5640,\n",
       " 'duo': 4878,\n",
       " 'group': 6769,\n",
       " 'pop': 11784,\n",
       " 'amas': 828,\n",
       " 'visiting': 16653,\n",
       " 'nana': 10308,\n",
       " 'told': 15680,\n",
       " 'grandpa': 6672,\n",
       " 'eloped': 5086,\n",
       " 'hampshire': 6927,\n",
       " 'married': 9525,\n",
       " 'toocute': 15712,\n",
       " 'haha': 6875,\n",
       " 'struggle': 14780,\n",
       " 'reeeeeal': 12596,\n",
       " 'first': 5823,\n",
       " 'glen': 6502,\n",
       " 'dies': 4395,\n",
       " 'taco': 15089,\n",
       " 'bell': 1698,\n",
       " 'peers': 11384,\n",
       " 'vote': 16712,\n",
       " 'delay': 4189,\n",
       " 'tax': 15181,\n",
       " 'credit': 3767,\n",
       " 'cuts': 3941,\n",
       " 'protect': 12131,\n",
       " 'lose': 9192,\n",
       " 'politics': 11750,\n",
       " 'live': 9072,\n",
       " 'well': 16964,\n",
       " 'working': 17244,\n",
       " 'tonight': 15703,\n",
       " 'pm': 11708,\n",
       " 'start': 14564,\n",
       " 'right': 12959,\n",
       " 'ask': 1171,\n",
       " 'mad': 9337,\n",
       " 'tell': 15268,\n",
       " 'dirt': 4458,\n",
       " 'nasty': 10338,\n",
       " 'rah': 12375,\n",
       " 'hilarious': 7224,\n",
       " 'remember': 12709,\n",
       " 'tweeting': 16045,\n",
       " 'hate': 7019,\n",
       " 'someone': 14259,\n",
       " 'feeling': 5686,\n",
       " 'look': 9162,\n",
       " 'feel': 5683,\n",
       " 'judge': 8333,\n",
       " 'using': 16442,\n",
       " 'vernacular': 16564,\n",
       " 'necessarily': 10390,\n",
       " 'mean': 9669,\n",
       " 'discard': 4476,\n",
       " 'kiswahili': 8545,\n",
       " 'english': 5197,\n",
       " 'complementing': 3368,\n",
       " 'two': 16072,\n",
       " 'collaboration': 3239,\n",
       " 'mitt': 9966,\n",
       " 'proud': 12141,\n",
       " 'romneycare': 13081,\n",
       " 'led': 8840,\n",
       " 'obamacare': 10758,\n",
       " 'awful': 1349,\n",
       " 'economy': 4972,\n",
       " 'stagnant': 14519,\n",
       " 'house': 7432,\n",
       " 'lords': 9184,\n",
       " 'fantastic': 5595,\n",
       " 'news': 10481,\n",
       " 'families': 5577,\n",
       " 'year': 17396,\n",
       " 'voteonedirection': 16716,\n",
       " 'ace': 438,\n",
       " 'made': 9340,\n",
       " 'word': 17226,\n",
       " 'drawing': 4759,\n",
       " 'forgot': 6027,\n",
       " 'add': 490,\n",
       " 'murder': 10215,\n",
       " 'liar': 8936,\n",
       " 'cheat': 2872,\n",
       " 'cures': 3898,\n",
       " 'fucking': 6189,\n",
       " 'solutions': 14251,\n",
       " 'come': 3284,\n",
       " 'cause': 2705,\n",
       " 'goddamn': 6540,\n",
       " 'bot': 2106,\n",
       " 'americans': 850,\n",
       " 'find': 5790,\n",
       " 'weird': 16951,\n",
       " 'fries': 6147,\n",
       " 'mayo': 9619,\n",
       " 'cos': 3629,\n",
       " 'fans': 5591,\n",
       " 'really': 12515,\n",
       " 'sensitive': 13588,\n",
       " 'drake': 4750,\n",
       " 'beat': 1611,\n",
       " 'ireland': 8030,\n",
       " 'afellay': 586,\n",
       " 'mountain': 10131,\n",
       " 'view': 16607,\n",
       " 'tomorrow': 15692,\n",
       " 'night': 10546,\n",
       " 'tweeps': 16040,\n",
       " 'followed': 5973,\n",
       " 'unfollowed': 16276,\n",
       " 'goodbye': 6575,\n",
       " 'past': 11282,\n",
       " 'day': 4058,\n",
       " 'zuckerbergs': 17545,\n",
       " 'mixing': 9972,\n",
       " 'learning': 8820,\n",
       " 'health': 7077,\n",
       " 'total': 15747,\n",
       " 'fail': 5540,\n",
       " 'funniest': 6227,\n",
       " 'walmart': 16791,\n",
       " 'sub': 14822,\n",
       " 'par': 11213,\n",
       " 'job': 8259,\n",
       " 'sorry': 14299,\n",
       " 'cbs': 2720,\n",
       " 'buying': 2451,\n",
       " 'selling': 13562,\n",
       " 'later': 8735,\n",
       " 'everydayiloveyou': 5365,\n",
       " 'forevermore': 6019,\n",
       " 'makes': 9396,\n",
       " 'pushawardslizquens': 12241,\n",
       " 'fall': 5562,\n",
       " 'sometimes': 14263,\n",
       " 'years': 17397,\n",
       " 'alive': 755,\n",
       " 'earth': 4927,\n",
       " 'guess': 6804,\n",
       " 'face': 5513,\n",
       " 'follower': 5974,\n",
       " 'sick': 13869,\n",
       " 'city': 3058,\n",
       " 'luck': 9272,\n",
       " 'finger': 5800,\n",
       " 'hahsah': 6886,\n",
       " 'harry': 7002,\n",
       " 'waved': 16872,\n",
       " 'madeintheam': 9343,\n",
       " 'moral': 10077,\n",
       " 'convo': 3556,\n",
       " 'boys': 2159,\n",
       " 'take': 15107,\n",
       " 'selfies': 13556,\n",
       " 'make': 9392,\n",
       " 'hoe': 7290,\n",
       " 'throw': 15524,\n",
       " 'party': 11264,\n",
       " 'threat': 15504,\n",
       " 'traditional': 15798,\n",
       " 'accessible': 416,\n",
       " 'must': 10244,\n",
       " 'scary': 13387,\n",
       " 'indeed': 7765,\n",
       " 'superstar': 14934,\n",
       " 'goal': 6532,\n",
       " 'dooda': 4667,\n",
       " 'trap': 15837,\n",
       " 'goin': 6549,\n",
       " 'nuts': 10730,\n",
       " '_u_o': 65,\n",
       " 'dbc': 4072,\n",
       " 'moment': 10022,\n",
       " 'chips': 2964,\n",
       " 'salsa': 13264,\n",
       " 'ruining': 13167,\n",
       " 'sent': 13592,\n",
       " 'tweet': 16041,\n",
       " 'guns': 6830,\n",
       " 'blazing': 1922,\n",
       " 'fired': 5815,\n",
       " 'side': 13872,\n",
       " 'lines': 9024,\n",
       " 'story': 14700,\n",
       " 'afternoon': 617,\n",
       " 'wonderful': 17199,\n",
       " 'friends': 6143,\n",
       " 'paul': 11323,\n",
       " 'turk': 16006,\n",
       " 'forest': 6017,\n",
       " 'cut': 3931,\n",
       " 'slack': 14039,\n",
       " 'chance': 2812,\n",
       " 'redeem': 12584,\n",
       " 'pay': 11330,\n",
       " 'meal': 9666,\n",
       " 'expected': 5442,\n",
       " 'running': 13178,\n",
       " 'month': 10059,\n",
       " 'late': 8731,\n",
       " 'thanksgiving': 15357,\n",
       " 'ken': 8453,\n",
       " 'barlow': 1514,\n",
       " 'dream': 4766,\n",
       " 'deirdre': 4187,\n",
       " 'pegging': 11388,\n",
       " 'washing': 16844,\n",
       " 'sigh': 13889,\n",
       " 'help': 7143,\n",
       " 'spread': 14471,\n",
       " 'app': 1015,\n",
       " 'scope': 13427,\n",
       " 'strongest': 14774,\n",
       " 'fighter': 5756,\n",
       " 'biggest': 1815,\n",
       " 'thread': 15502,\n",
       " 'master': 9570,\n",
       " 'seth': 13638,\n",
       " 'looks': 9168,\n",
       " 'divas': 4560,\n",
       " 'corgi': 3601,\n",
       " 'karlie': 8408,\n",
       " 'kloss': 8557,\n",
       " 'brewery': 2237,\n",
       " 'twitter': 16067,\n",
       " 'yes': 17411,\n",
       " 'feminist': 5713,\n",
       " 'agenda': 638,\n",
       " 'advancing': 551,\n",
       " 'phil': 11500,\n",
       " 'collins': 3254,\n",
       " 'air': 684,\n",
       " 'chopped': 2987,\n",
       " 'screwed': 13463,\n",
       " 'hardest': 6983,\n",
       " 'heard': 7086,\n",
       " 'broad': 2274,\n",
       " 'church': 3020,\n",
       " 'ppl': 11879,\n",
       " 'agree': 653,\n",
       " 'opinion': 10965,\n",
       " 'soo': 14281,\n",
       " 'called': 2494,\n",
       " 'office': 10827,\n",
       " 'simply': 13925,\n",
       " 'witnesses': 17164,\n",
       " 'saying': 13354,\n",
       " 'accused': 437,\n",
       " 'series': 13616,\n",
       " 'logo': 9136,\n",
       " 'purple': 12229,\n",
       " 'maple': 9468,\n",
       " 'leaf': 8801,\n",
       " 'blue': 1980,\n",
       " 'leafsnation': 8805,\n",
       " 'permanent': 11441,\n",
       " 'valencia': 16484,\n",
       " 'filter': 5776,\n",
       " 'handy': 6939,\n",
       " '_u_': 21,\n",
       " 'yiza': 17428,\n",
       " 'nosleep': 10657,\n",
       " 'cool': 3567,\n",
       " 'yellow': 17404,\n",
       " 'unless': 16324,\n",
       " 'colombian': 3258,\n",
       " 'super': 14914,\n",
       " 'pero': 11445,\n",
       " 'amarillo': 826,\n",
       " 'azul': 1371,\n",
       " 'roj': 13059,\n",
       " 'repeated': 12750,\n",
       " 'fragman': 6081,\n",
       " 'kiralkauk': 8535,\n",
       " '_u__u_': 27,\n",
       " 'secret': 13515,\n",
       " 'rewards': 12911,\n",
       " 'bright': 2252,\n",
       " 'early': 4919,\n",
       " '_uy': 336,\n",
       " 'professor': 12065,\n",
       " 'class': 3079,\n",
       " 'put': 12252,\n",
       " 'place': 11628,\n",
       " 'front': 6158,\n",
       " 'socialmedia': 14222,\n",
       " 'memes': 9733,\n",
       " 'serious': 13617,\n",
       " 'crime': 3792,\n",
       " 'fighting': 5758,\n",
       " 'whatsyoursuperpower': 17011,\n",
       " 'bigger': 1814,\n",
       " 'skyfall': 14032,\n",
       " 'via': 16582,\n",
       " 'nathan': 10343,\n",
       " 'haley': 6901,\n",
       " 'scott': 13438,\n",
       " 'goals': 6533,\n",
       " 'genuine': 6392,\n",
       " 'incredible': 7760,\n",
       " 'human': 7491,\n",
       " 'selfless': 13559,\n",
       " 'humble': 7494,\n",
       " 'mind': 9891,\n",
       " 'following': 5977,\n",
       " 'words': 17230,\n",
       " 'pandora': 11196,\n",
       " 'opens': 10954,\n",
       " 'goes': 6547,\n",
       " 'war': 16816,\n",
       " 'river': 12990,\n",
       " 'songs': 14275,\n",
       " 'wedding': 16918,\n",
       " 'rings': 12970,\n",
       " 'akhaten': 704,\n",
       " 'pet': 11471,\n",
       " 'negros': 10421,\n",
       " 'ben': 1712,\n",
       " 'puff': 12191,\n",
       " 'daddy': 3966,\n",
       " 'jordan': 8304,\n",
       " 'rich': 12935,\n",
       " 'anti': 973,\n",
       " 'black': 1887,\n",
       " 'prosperity': 12127,\n",
       " 'asses': 1190,\n",
       " 'walked': 16777,\n",
       " 'felt': 5706,\n",
       " 'head': 7058,\n",
       " 'grabbed': 6640,\n",
       " 'wasp': 16849,\n",
       " 'welcome': 16957,\n",
       " 'jesse': 8222,\n",
       " 'raw': 12467,\n",
       " 'charge': 2843,\n",
       " 'yeah': 17393,\n",
       " 'walk': 16775,\n",
       " 'forward': 6051,\n",
       " 'hp': 7456,\n",
       " 'everytime': 5370,\n",
       " 'stomps': 14672,\n",
       " 'dont': 4659,\n",
       " 'reach': 12483,\n",
       " 'kinda': 8521,\n",
       " 'wack': 16746,\n",
       " 'fast': 5615,\n",
       " 'unhealthy': 16286,\n",
       " 'icky': 7576,\n",
       " 'immoral': 7685,\n",
       " 'pretend': 11977,\n",
       " 'break': 2212,\n",
       " 'control': 3540,\n",
       " 'ammo': 856,\n",
       " 'mastercard': 9571,\n",
       " 'fashion': 5612,\n",
       " 'ss': 14501,\n",
       " 'seem': 13537,\n",
       " 'sound': 14315,\n",
       " 'funny': 6228,\n",
       " 'ryan': 13201,\n",
       " 'bird': 1851,\n",
       " 'scores': 13431,\n",
       " 'posted': 11836,\n",
       " 'cathedral': 2696,\n",
       " 'bishop': 1863,\n",
       " 'feehan': 5682,\n",
       " 'currently': 3908,\n",
       " 'situation': 13978,\n",
       " 'sleep': 14062,\n",
       " 'opportunity': 10972,\n",
       " 'dreams': 4770,\n",
       " 'become': 1636,\n",
       " 'reality_ua': 12508,\n",
       " 'congratulation': 3446,\n",
       " 'redbridge': 12580,\n",
       " 'trainees': 15808,\n",
       " 'excellent': 5392,\n",
       " 'creative': 3758,\n",
       " 'idea': 7587,\n",
       " 'kintoki': 8534,\n",
       " 'discovered': 4491,\n",
       " 'comet': 3290,\n",
       " 'favorites': 5641,\n",
       " 'booze': 2083,\n",
       " 'sugar': 14871,\n",
       " 'suggest': 14874,\n",
       " 'blogging': 1956,\n",
       " 'putting': 12256,\n",
       " 'link': 9029,\n",
       " 'blog': 1953,\n",
       " 'characters': 2842,\n",
       " 'lends': 8884,\n",
       " 'misinterpretation': 9939,\n",
       " 'buy': 2449,\n",
       " 'fly': 5941,\n",
       " 'together': 15672,\n",
       " 'number': 10715,\n",
       " 'crunching': 3848,\n",
       " 'unfollowers': 16278,\n",
       " 'bitch': 1869,\n",
       " 'niggas': 10542,\n",
       " 'fame': 5574,\n",
       " 'pussy': 12249,\n",
       " 'lame': 8688,\n",
       " 'lol': 9139,\n",
       " 'stranger': 14715,\n",
       " 'listen': 9053,\n",
       " 'walls': 16789,\n",
       " 'wish': 17147,\n",
       " 'dear': 4093,\n",
       " 'cuba': 3871,\n",
       " 'chewed': 2918,\n",
       " 'spit': 14427,\n",
       " 'beaches': 1592,\n",
       " 'itu_': 8096,\n",
       " 'wondering': 17201,\n",
       " 'danish': 4012,\n",
       " 'woke': 17185,\n",
       " 'morning': 10084,\n",
       " 'realized': 12511,\n",
       " 'fifa': 5750,\n",
       " 'tainted': 15104,\n",
       " 'part': 11249,\n",
       " 'system': 15074,\n",
       " 'pull': 12195,\n",
       " 'says': 13356,\n",
       " 'line': 9019,\n",
       " 'woman': 17191,\n",
       " 'dissing': 4541,\n",
       " 'care': 2606,\n",
       " 'hey': 7186,\n",
       " 'precious': 11914,\n",
       " 'person': 11452,\n",
       " 'big': 1810,\n",
       " 'heart': 7091,\n",
       " 'gold': 6552,\n",
       " 'pirlo': 11603,\n",
       " 'today': 15659,\n",
       " 'quite': 12332,\n",
       " 'sure': 14954,\n",
       " 'bad': 1408,\n",
       " 'mls': 9981,\n",
       " 'wants': 16812,\n",
       " 'much': 10180,\n",
       " 'pain': 11160,\n",
       " 'trolling': 15924,\n",
       " 'gunsense': 6831,\n",
       " 'arguments': 1090,\n",
       " 'may': 9616,\n",
       " 'point': 11721,\n",
       " 'europeans': 5340,\n",
       " 'deserve': 4289,\n",
       " 'agricultural': 658,\n",
       " 'policy': 11743,\n",
       " 'explainer': 5461,\n",
       " 'molecular': 10017,\n",
       " 'clock': 3140,\n",
       " 'glochidia': 6513,\n",
       " 'sort': 14303,\n",
       " 'parasites': 11226,\n",
       " 'harm': 6993,\n",
       " 'host': 7406,\n",
       " 'fish': 5830,\n",
       " 'usually': 16448,\n",
       " 'drop': 4802,\n",
       " 'form': 6030,\n",
       " 'mussel': 10242,\n",
       " 'beds': 1648,\n",
       " 'snapchat': 14164,\n",
       " 'chances': 2814,\n",
       " 'snapping': 14166,\n",
       " 'slim': 14082,\n",
       " 'personally': 11459,\n",
       " 'vehicles': 16537,\n",
       " 'proper': 12116,\n",
       " 'spawns': 14360,\n",
       " 'meh': 9714,\n",
       " 'bf': 1786,\n",
       " 'build': 2366,\n",
       " 'transforming': 15824,\n",
       " 'workbench': 17236,\n",
       " 'storage': 14691,\n",
       " 'unit': 16303,\n",
       " 'lot': 9202,\n",
       " 'space': 14340,\n",
       " 'lifehacker': 8969,\n",
       " 'lactose': 8663,\n",
       " 'free': 6107,\n",
       " 'milk': 9871,\n",
       " 'box': 2142,\n",
       " 'especially': 5301,\n",
       " 'pasta': 11283,\n",
       " '_uo': 233,\n",
       " 'ty': 16077,\n",
       " 'garages': 6306,\n",
       " 'available': 1309,\n",
       " 'spots': 14463,\n",
       " 'search': 13492,\n",
       " 'boii': 2022,\n",
       " 'wafflw': 16751,\n",
       " 'reference': 12603,\n",
       " 'count': 3657,\n",
       " 'times': 15588,\n",
       " 'selfie': 13555,\n",
       " 'sticks': 14641,\n",
       " 'selena': 13551,\n",
       " 'female': 5707,\n",
       " 'vocalist': 16682,\n",
       " 'tejanomusicawards': 15259,\n",
       " 'consecutive': 3471,\n",
       " 'album': 717,\n",
       " 'selenau_': 13553,\n",
       " 'truth': 15957,\n",
       " 'boyfriend': 2154,\n",
       " 'ur': 16416,\n",
       " 'missing': 9951,\n",
       " 'listened': 9054,\n",
       " 'adeles': 510,\n",
       " 'song': 14273,\n",
       " 'nothing': 10667,\n",
       " 'heartless': 7097,\n",
       " 'enough': 5212,\n",
       " 'coffee': 3211,\n",
       " 'manageable': 9419,\n",
       " 'learn': 8818,\n",
       " 'prophet': 12120,\n",
       " 'islam': 8056,\n",
       " 'pbuh': 11345,\n",
       " 'star': 14552,\n",
       " 'local': 9116,\n",
       " 'media': 9689,\n",
       " 'figured': 5761,\n",
       " 'clients': 3122,\n",
       " 'demand': 4220,\n",
       " 'metrics': 9797,\n",
       " 'amp': 862,\n",
       " 'tests': 15324,\n",
       " 'wazoo': 16880,\n",
       " 'proof': 12111,\n",
       " 'crap': 3732,\n",
       " 'shoveled': 13826,\n",
       " 'oops': 10941,\n",
       " 'extra': 5489,\n",
       " 'guys': 6848,\n",
       " 'sex': 13657,\n",
       " 'hurt': 7518,\n",
       " 'decent': 4116,\n",
       " 'rather': 12456,\n",
       " 'smile': 14128,\n",
       " 'without': 17159,\n",
       " 'natural': 10352,\n",
       " 'remedies': 12707,\n",
       " 'depression': 4262,\n",
       " 'anxiety': 981,\n",
       " 'swansea': 15016,\n",
       " 'pub': 12174,\n",
       " 'talk': 15122,\n",
       " 'gylfi': 6853,\n",
       " 'sigurdssonuas': 13905,\n",
       " 'tunnel': 16001,\n",
       " 'bust': 2434,\n",
       " 'swans': 15015,\n",
       " 'drive': 4789,\n",
       " 'comical': 3298,\n",
       " 'gotta': 6619,\n",
       " 'answer': 963,\n",
       " 'likely': 8994,\n",
       " 'fell': 5702,\n",
       " 'stairs': 14525,\n",
       " 'played': 11669,\n",
       " 'winning': 17133,\n",
       " 'centipede': 2757,\n",
       " 'tbh': 15196,\n",
       " 'let': 8905,\n",
       " 'scene': 13390,\n",
       " 'steamy': 14603,\n",
       " 'fair': 5548,\n",
       " 'dues': 4849,\n",
       " 'mate': 9583,\n",
       " 'opinions': 10966,\n",
       " 'keep': 8435,\n",
       " 'hand': 6929,\n",
       " 'hope': 7372,\n",
       " 'ox': 11128,\n",
       " 'proves': 12147,\n",
       " 'comes': 3289,\n",
       " 'standup': 14546,\n",
       " 'wow': 17283,\n",
       " 'fun': 6214,\n",
       " 'challenging': 2803,\n",
       " 'workout': 17245,\n",
       " 'thanks': 15356,\n",
       " 'bang': 1476,\n",
       " 'thing': 15451,\n",
       " 'mine': 9898,\n",
       " 'unions': 16300,\n",
       " 'testing': 15322,\n",
       " 'expense': 5446,\n",
       " 'ranges': 12423,\n",
       " 'classroom': 3090,\n",
       " 'ea': 4912,\n",
       " 'entered': 5221,\n",
       " 'quality': 12291,\n",
       " 'instant': 7897,\n",
       " 'win': 17110,\n",
       " 'sweepstakes': 15032,\n",
       " 'repetition': 12753,\n",
       " 'mother': 10110,\n",
       " 'father': 5625,\n",
       " 'action': 466,\n",
       " 'architect': 1068,\n",
       " 'accomplishment': 425,\n",
       " 'cute': 3933,\n",
       " 'away': 1339,\n",
       " '_u_ua': 93,\n",
       " 'olaf': 10866,\n",
       " 'zombie': 17530,\n",
       " 'apocalypse': 1006,\n",
       " 'talkingdead': 15127,\n",
       " 'somehow': 14258,\n",
       " 'ended': 5166,\n",
       " 'feet': 5693,\n",
       " 'mlb': 9978,\n",
       " 'commissioner': 3321,\n",
       " 'things': 15452,\n",
       " 'never': 10467,\n",
       " 'hearaeabout': 7085,\n",
       " 'signs': 13904,\n",
       " 'koi': 8600,\n",
       " 'strology': 14770,\n",
       " 'aries': 1095,\n",
       " 'reassurance': 12530,\n",
       " 'ok': 10857,\n",
       " 'tru': 15935,\n",
       " 'curry': 3910,\n",
       " 'chef': 2900,\n",
       " 'anyways': 996,\n",
       " 'hyped': 7543,\n",
       " 'evening': 5349,\n",
       " 'leaving': 8831,\n",
       " 'watchdogs': 16860,\n",
       " 'defender': 4161,\n",
       " 'eyes': 5504,\n",
       " 'ovens': 11097,\n",
       " 'complicated': 3375,\n",
       " 'smokin_ua_uaa': 14144,\n",
       " 'inside': 7872,\n",
       " 'surface': 14957,\n",
       " 'book': 2057,\n",
       " 'microsoftuas': 9834,\n",
       " 'next': 10493,\n",
       " 'painting': 11168,\n",
       " 'teacher': 15210,\n",
       " 'minute': 9922,\n",
       " 'nap': 10315,\n",
       " 'honesty': 7346,\n",
       " 'making': 9398,\n",
       " '_uaa': 156,\n",
       " 'jhopes': 8239,\n",
       " 'mixtape': 9973,\n",
       " 'bc': 1579,\n",
       " ...}"
      ]
     },
     "execution_count": 190,
     "metadata": {},
     "output_type": "execute_result"
    }
   ],
   "source": [
    "tf_vec.vocabulary_"
   ]
  },
  {
   "cell_type": "code",
   "execution_count": 191,
   "metadata": {},
   "outputs": [
    {
     "data": {
      "text/plain": [
       "matrix([[0., 0., 0., ..., 0., 0., 0.],\n",
       "        [0., 0., 0., ..., 0., 0., 0.],\n",
       "        [0., 0., 0., ..., 0., 0., 0.],\n",
       "        ...,\n",
       "        [0., 0., 0., ..., 0., 0., 0.],\n",
       "        [0., 0., 0., ..., 0., 0., 0.],\n",
       "        [0., 0., 0., ..., 0., 0., 0.]])"
      ]
     },
     "execution_count": 191,
     "metadata": {},
     "output_type": "execute_result"
    }
   ],
   "source": [
    "tf_vec_ft.todense()"
   ]
  },
  {
   "cell_type": "code",
   "execution_count": 192,
   "metadata": {},
   "outputs": [
    {
     "data": {
      "text/plain": [
       "RandomForestClassifier()"
      ]
     },
     "execution_count": 192,
     "metadata": {},
     "output_type": "execute_result"
    }
   ],
   "source": [
    "rf = RandomForestClassifier()\n",
    "\n",
    "rf.fit(tf_vec_ft, y_train)"
   ]
  },
  {
   "cell_type": "code",
   "execution_count": 193,
   "metadata": {},
   "outputs": [
    {
     "data": {
      "text/plain": [
       "(2579, 17548)"
      ]
     },
     "execution_count": 193,
     "metadata": {},
     "output_type": "execute_result"
    }
   ],
   "source": [
    "tf_vec_ft_test = tf_vec.transform(X_test)\n",
    "tf_vec_ft_test.shape"
   ]
  },
  {
   "cell_type": "code",
   "execution_count": 194,
   "metadata": {},
   "outputs": [],
   "source": [
    "rf_pred = rf.predict(tf_vec_ft_test)"
   ]
  },
  {
   "cell_type": "code",
   "execution_count": 195,
   "metadata": {},
   "outputs": [
    {
     "data": {
      "text/plain": [
       "0.5812330360604886"
      ]
     },
     "execution_count": 195,
     "metadata": {},
     "output_type": "execute_result"
    }
   ],
   "source": [
    "rf.score(tf_vec_ft_test, y_test)"
   ]
  },
  {
   "cell_type": "code",
   "execution_count": null,
   "metadata": {},
   "outputs": [],
   "source": []
  },
  {
   "cell_type": "code",
   "execution_count": null,
   "metadata": {},
   "outputs": [],
   "source": []
  },
  {
   "cell_type": "code",
   "execution_count": null,
   "metadata": {},
   "outputs": [],
   "source": []
  },
  {
   "cell_type": "code",
   "execution_count": null,
   "metadata": {},
   "outputs": [],
   "source": []
  },
  {
   "cell_type": "code",
   "execution_count": null,
   "metadata": {},
   "outputs": [],
   "source": []
  },
  {
   "cell_type": "code",
   "execution_count": null,
   "metadata": {},
   "outputs": [],
   "source": []
  },
  {
   "cell_type": "code",
   "execution_count": null,
   "metadata": {},
   "outputs": [],
   "source": []
  }
 ],
 "metadata": {
  "kernelspec": {
   "display_name": "Python 3",
   "language": "python",
   "name": "python3"
  },
  "language_info": {
   "codemirror_mode": {
    "name": "ipython",
    "version": 3
   },
   "file_extension": ".py",
   "mimetype": "text/x-python",
   "name": "python",
   "nbconvert_exporter": "python",
   "pygments_lexer": "ipython3",
   "version": "3.7.9"
  }
 },
 "nbformat": 4,
 "nbformat_minor": 4
}
