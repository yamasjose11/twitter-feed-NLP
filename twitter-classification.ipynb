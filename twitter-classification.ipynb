{
 "cells": [
  {
   "cell_type": "code",
   "execution_count": 1,
   "metadata": {},
   "outputs": [
    {
     "name": "stderr",
     "output_type": "stream",
     "text": [
      "[nltk_data] Downloading package wordnet to\n",
      "[nltk_data]     /home/yamasjose/nltk_data...\n",
      "[nltk_data]   Package wordnet is already up-to-date!\n",
      "[nltk_data] Downloading package stopwords to\n",
      "[nltk_data]     /home/yamasjose/nltk_data...\n",
      "[nltk_data]   Package stopwords is already up-to-date!\n",
      "[nltk_data] Downloading package punkt to /home/yamasjose/nltk_data...\n",
      "[nltk_data]   Package punkt is already up-to-date!\n"
     ]
    },
    {
     "data": {
      "application/javascript": [
       "IPython.notebook.set_autosave_interval(120000)"
      ]
     },
     "metadata": {},
     "output_type": "display_data"
    },
    {
     "name": "stdout",
     "output_type": "stream",
     "text": [
      "Autosaving every 120 seconds\n"
     ]
    }
   ],
   "source": [
    "import unicodedata\n",
    "import pandas as pd\n",
    "import numpy as np\n",
    "import string\n",
    "import sys\n",
    "import re\n",
    "import sklearn\n",
    "import nltk\n",
    "\n",
    "from nltk import FreqDist\n",
    "from nltk.util import ngrams\n",
    "from nltk.tokenize import sent_tokenize\n",
    "from nltk.tokenize import word_tokenize\n",
    "from nltk.corpus import stopwords\n",
    "from nltk.stem.snowball import  SnowballStemmer\n",
    "from nltk.stem import WordNetLemmatizer\n",
    "from nltk.stem.porter import PorterStemmer\n",
    "from nltk.stem.snowball import SnowballStemmer\n",
    "\n",
    "from sklearn import model_selection\n",
    "from sklearn.preprocessing import LabelEncoder\n",
    "from sklearn.ensemble import RandomForestClassifier\n",
    "from sklearn.metrics import confusion_matrix, classification_report, accuracy_score, plot_roc_curve, roc_curve, auc, f1_score, precision_score, recall_score\n",
    "from sklearn.feature_extraction.text import CountVectorizer, TfidfVectorizer, TfidfTransformer\n",
    "from sklearn.model_selection import train_test_split, cross_val_score, GridSearchCV\n",
    "from sklearn.pipeline import Pipeline\n",
    "from sklearn.ensemble import RandomForestClassifier\n",
    "from sklearn.feature_selection import SelectKBest, chi2\n",
    "\n",
    "import seaborn as sn\n",
    "import matplotlib.pyplot as plt\n",
    "%matplotlib inline\n",
    "\n",
    "nltk.download('wordnet')\n",
    "nltk.download('stopwords')\n",
    "nltk.download('punkt')\n",
    "\n",
    "np.set_printoptions(linewidth=100)\n",
    "%autosave 120"
   ]
  },
  {
   "cell_type": "markdown",
   "metadata": {},
   "source": [
    "###  Importing Data"
   ]
  },
  {
   "cell_type": "code",
   "execution_count": 2,
   "metadata": {},
   "outputs": [],
   "source": [
    "# # Importing the Data on Google Colab\n",
    "# from google.colab import files\n",
    "\n",
    "# uploaded = files.upload()\n",
    "\n",
    "# twitter = pd.read_csv('gender-classifier-DFE-791531.csv', encoding='latin-1' )"
   ]
  },
  {
   "cell_type": "code",
   "execution_count": 3,
   "metadata": {},
   "outputs": [],
   "source": [
    "twitter = pd.read_csv('data/gender-classifier-DFE-791531.csv', encoding='latin-1' )"
   ]
  },
  {
   "cell_type": "markdown",
   "metadata": {},
   "source": [
    "The dataset contains the following fields:\n",
    "\n",
    "**unit_id:** a unique id for user\n",
    "\n",
    "**golden:** whether the user was included in the gold standard for the model; TRUE or FALSE\n",
    "\n",
    "**unit_state:** state of the observation; one of finalized (for contributor-judged) or golden (for gold standard observations)\n",
    "\n",
    "**trusted_judgments:** number of trusted judgments (int); always 3 for non-golden, and what may be a unique id for gold standard observations\n",
    "\n",
    "**last_judgment_at:** date and time of last contributor judgment; blank for gold standard observations\n",
    "\n",
    "**gender:** one of male, female, or brand (for non-human profiles)\n",
    "\n",
    "**gender:confidence:** a float representing confidence in the provided gender\n",
    "\n",
    "**profile_yn:** \"no\" here seems to mean that the profile was meant to be part of the dataset but was not available when contributors went to judge it\n",
    "\n",
    "**profile_yn:confidence:** confidence in the existence/non-existence of the profile\n",
    "\n",
    "**created:** date and time when the profile was created\n",
    "\n",
    "**description:** the user's profile description\n",
    "\n",
    "**fav_number:** number of tweets the user has favorited\n",
    "\n",
    "**gender_gold:** if the profile is golden, what is the gender?\n",
    "\n",
    "**link_color:** the link color on the profile, as a hex value\n",
    "\n",
    "**name:** the user's name\n",
    "\n",
    "**profile_yn_gold:** whether the profile y/n value is golden\n",
    "\n",
    "**profileimage:** a link to the profile image\n",
    "\n",
    "**retweet_count:** number of times the user has retweeted (or possibly, been retweeted)\n",
    "\n",
    "**sidebar_color:** color of the profile sidebar, as a hex value\n",
    "\n",
    "**text:** text of a random one of the user's tweets\n",
    "\n",
    "**tweet_coord:** if the user has location turned on, the coordinates as a string with the format \"[latitude, longitude]\"\n",
    "\n",
    "**tweet_count:** number of tweets that the user has posted\n",
    "\n",
    "**tweet_created:** when the random tweet (in the text column) was created\n",
    "\n",
    "**tweet_id:** the tweet id of the random tweet\n",
    "\n",
    "**tweet_location:** location of the tweet; seems to not be particularly normalized\n",
    "\n",
    "**user_timezone:** the timezone of the user"
   ]
  },
  {
   "cell_type": "code",
   "execution_count": 4,
   "metadata": {},
   "outputs": [
    {
     "data": {
      "text/html": [
       "<div>\n",
       "<style scoped>\n",
       "    .dataframe tbody tr th:only-of-type {\n",
       "        vertical-align: middle;\n",
       "    }\n",
       "\n",
       "    .dataframe tbody tr th {\n",
       "        vertical-align: top;\n",
       "    }\n",
       "\n",
       "    .dataframe thead th {\n",
       "        text-align: right;\n",
       "    }\n",
       "</style>\n",
       "<table border=\"1\" class=\"dataframe\">\n",
       "  <thead>\n",
       "    <tr style=\"text-align: right;\">\n",
       "      <th></th>\n",
       "      <th>_unit_id</th>\n",
       "      <th>_golden</th>\n",
       "      <th>_unit_state</th>\n",
       "      <th>_trusted_judgments</th>\n",
       "      <th>_last_judgment_at</th>\n",
       "      <th>gender</th>\n",
       "      <th>gender:confidence</th>\n",
       "      <th>profile_yn</th>\n",
       "      <th>profile_yn:confidence</th>\n",
       "      <th>created</th>\n",
       "      <th>description</th>\n",
       "      <th>fav_number</th>\n",
       "      <th>gender_gold</th>\n",
       "      <th>link_color</th>\n",
       "      <th>name</th>\n",
       "      <th>profile_yn_gold</th>\n",
       "      <th>profileimage</th>\n",
       "      <th>retweet_count</th>\n",
       "      <th>sidebar_color</th>\n",
       "      <th>text</th>\n",
       "      <th>tweet_coord</th>\n",
       "      <th>tweet_count</th>\n",
       "      <th>tweet_created</th>\n",
       "      <th>tweet_id</th>\n",
       "      <th>tweet_location</th>\n",
       "      <th>user_timezone</th>\n",
       "    </tr>\n",
       "  </thead>\n",
       "  <tbody>\n",
       "    <tr>\n",
       "      <th>0</th>\n",
       "      <td>815719226</td>\n",
       "      <td>False</td>\n",
       "      <td>finalized</td>\n",
       "      <td>3</td>\n",
       "      <td>10/26/15 23:24</td>\n",
       "      <td>male</td>\n",
       "      <td>1.0000</td>\n",
       "      <td>yes</td>\n",
       "      <td>1.0</td>\n",
       "      <td>12/5/13 1:48</td>\n",
       "      <td>i sing my own rhythm.</td>\n",
       "      <td>0</td>\n",
       "      <td>NaN</td>\n",
       "      <td>08C2C2</td>\n",
       "      <td>sheezy0</td>\n",
       "      <td>NaN</td>\n",
       "      <td>https://pbs.twimg.com/profile_images/414342229...</td>\n",
       "      <td>0</td>\n",
       "      <td>FFFFFF</td>\n",
       "      <td>Robbie E Responds To Critics After Win Against...</td>\n",
       "      <td>NaN</td>\n",
       "      <td>110964</td>\n",
       "      <td>10/26/15 12:40</td>\n",
       "      <td>6.587300e+17</td>\n",
       "      <td>main; @Kan1shk3</td>\n",
       "      <td>Chennai</td>\n",
       "    </tr>\n",
       "    <tr>\n",
       "      <th>1</th>\n",
       "      <td>815719227</td>\n",
       "      <td>False</td>\n",
       "      <td>finalized</td>\n",
       "      <td>3</td>\n",
       "      <td>10/26/15 23:30</td>\n",
       "      <td>male</td>\n",
       "      <td>1.0000</td>\n",
       "      <td>yes</td>\n",
       "      <td>1.0</td>\n",
       "      <td>10/1/12 13:51</td>\n",
       "      <td>I'm the author of novels filled with family dr...</td>\n",
       "      <td>68</td>\n",
       "      <td>NaN</td>\n",
       "      <td>0084B4</td>\n",
       "      <td>DavdBurnett</td>\n",
       "      <td>NaN</td>\n",
       "      <td>https://pbs.twimg.com/profile_images/539604221...</td>\n",
       "      <td>0</td>\n",
       "      <td>C0DEED</td>\n",
       "      <td>ÛÏIt felt like they were my friends and I was...</td>\n",
       "      <td>NaN</td>\n",
       "      <td>7471</td>\n",
       "      <td>10/26/15 12:40</td>\n",
       "      <td>6.587300e+17</td>\n",
       "      <td>NaN</td>\n",
       "      <td>Eastern Time (US &amp; Canada)</td>\n",
       "    </tr>\n",
       "    <tr>\n",
       "      <th>2</th>\n",
       "      <td>815719228</td>\n",
       "      <td>False</td>\n",
       "      <td>finalized</td>\n",
       "      <td>3</td>\n",
       "      <td>10/26/15 23:33</td>\n",
       "      <td>male</td>\n",
       "      <td>0.6625</td>\n",
       "      <td>yes</td>\n",
       "      <td>1.0</td>\n",
       "      <td>11/28/14 11:30</td>\n",
       "      <td>louis whining and squealing and all</td>\n",
       "      <td>7696</td>\n",
       "      <td>NaN</td>\n",
       "      <td>ABB8C2</td>\n",
       "      <td>lwtprettylaugh</td>\n",
       "      <td>NaN</td>\n",
       "      <td>https://pbs.twimg.com/profile_images/657330418...</td>\n",
       "      <td>1</td>\n",
       "      <td>C0DEED</td>\n",
       "      <td>i absolutely adore when louis starts the songs...</td>\n",
       "      <td>NaN</td>\n",
       "      <td>5617</td>\n",
       "      <td>10/26/15 12:40</td>\n",
       "      <td>6.587300e+17</td>\n",
       "      <td>clcncl</td>\n",
       "      <td>Belgrade</td>\n",
       "    </tr>\n",
       "    <tr>\n",
       "      <th>3</th>\n",
       "      <td>815719229</td>\n",
       "      <td>False</td>\n",
       "      <td>finalized</td>\n",
       "      <td>3</td>\n",
       "      <td>10/26/15 23:10</td>\n",
       "      <td>male</td>\n",
       "      <td>1.0000</td>\n",
       "      <td>yes</td>\n",
       "      <td>1.0</td>\n",
       "      <td>6/11/09 22:39</td>\n",
       "      <td>Mobile guy.  49ers, Shazam, Google, Kleiner Pe...</td>\n",
       "      <td>202</td>\n",
       "      <td>NaN</td>\n",
       "      <td>0084B4</td>\n",
       "      <td>douggarland</td>\n",
       "      <td>NaN</td>\n",
       "      <td>https://pbs.twimg.com/profile_images/259703936...</td>\n",
       "      <td>0</td>\n",
       "      <td>C0DEED</td>\n",
       "      <td>Hi @JordanSpieth - Looking at the url - do you...</td>\n",
       "      <td>NaN</td>\n",
       "      <td>1693</td>\n",
       "      <td>10/26/15 12:40</td>\n",
       "      <td>6.587300e+17</td>\n",
       "      <td>Palo Alto, CA</td>\n",
       "      <td>Pacific Time (US &amp; Canada)</td>\n",
       "    </tr>\n",
       "    <tr>\n",
       "      <th>4</th>\n",
       "      <td>815719230</td>\n",
       "      <td>False</td>\n",
       "      <td>finalized</td>\n",
       "      <td>3</td>\n",
       "      <td>10/27/15 1:15</td>\n",
       "      <td>female</td>\n",
       "      <td>1.0000</td>\n",
       "      <td>yes</td>\n",
       "      <td>1.0</td>\n",
       "      <td>4/16/14 13:23</td>\n",
       "      <td>Ricky Wilson The Best FRONTMAN/Kaiser Chiefs T...</td>\n",
       "      <td>37318</td>\n",
       "      <td>NaN</td>\n",
       "      <td>3B94D9</td>\n",
       "      <td>WilfordGemma</td>\n",
       "      <td>NaN</td>\n",
       "      <td>https://pbs.twimg.com/profile_images/564094871...</td>\n",
       "      <td>0</td>\n",
       "      <td>0</td>\n",
       "      <td>Watching Neighbours on Sky+ catching up with t...</td>\n",
       "      <td>NaN</td>\n",
       "      <td>31462</td>\n",
       "      <td>10/26/15 12:40</td>\n",
       "      <td>6.587300e+17</td>\n",
       "      <td>NaN</td>\n",
       "      <td>NaN</td>\n",
       "    </tr>\n",
       "  </tbody>\n",
       "</table>\n",
       "</div>"
      ],
      "text/plain": [
       "    _unit_id  _golden _unit_state  _trusted_judgments _last_judgment_at  \\\n",
       "0  815719226    False   finalized                   3    10/26/15 23:24   \n",
       "1  815719227    False   finalized                   3    10/26/15 23:30   \n",
       "2  815719228    False   finalized                   3    10/26/15 23:33   \n",
       "3  815719229    False   finalized                   3    10/26/15 23:10   \n",
       "4  815719230    False   finalized                   3     10/27/15 1:15   \n",
       "\n",
       "   gender  gender:confidence profile_yn  profile_yn:confidence  \\\n",
       "0    male             1.0000        yes                    1.0   \n",
       "1    male             1.0000        yes                    1.0   \n",
       "2    male             0.6625        yes                    1.0   \n",
       "3    male             1.0000        yes                    1.0   \n",
       "4  female             1.0000        yes                    1.0   \n",
       "\n",
       "          created                                        description  \\\n",
       "0    12/5/13 1:48                              i sing my own rhythm.   \n",
       "1   10/1/12 13:51  I'm the author of novels filled with family dr...   \n",
       "2  11/28/14 11:30                louis whining and squealing and all   \n",
       "3   6/11/09 22:39  Mobile guy.  49ers, Shazam, Google, Kleiner Pe...   \n",
       "4   4/16/14 13:23  Ricky Wilson The Best FRONTMAN/Kaiser Chiefs T...   \n",
       "\n",
       "   fav_number gender_gold link_color            name profile_yn_gold  \\\n",
       "0           0         NaN     08C2C2         sheezy0             NaN   \n",
       "1          68         NaN     0084B4     DavdBurnett             NaN   \n",
       "2        7696         NaN     ABB8C2  lwtprettylaugh             NaN   \n",
       "3         202         NaN     0084B4     douggarland             NaN   \n",
       "4       37318         NaN     3B94D9    WilfordGemma             NaN   \n",
       "\n",
       "                                        profileimage  retweet_count  \\\n",
       "0  https://pbs.twimg.com/profile_images/414342229...              0   \n",
       "1  https://pbs.twimg.com/profile_images/539604221...              0   \n",
       "2  https://pbs.twimg.com/profile_images/657330418...              1   \n",
       "3  https://pbs.twimg.com/profile_images/259703936...              0   \n",
       "4  https://pbs.twimg.com/profile_images/564094871...              0   \n",
       "\n",
       "  sidebar_color                                               text  \\\n",
       "0        FFFFFF  Robbie E Responds To Critics After Win Against...   \n",
       "1        C0DEED  ÛÏIt felt like they were my friends and I was...   \n",
       "2        C0DEED  i absolutely adore when louis starts the songs...   \n",
       "3        C0DEED  Hi @JordanSpieth - Looking at the url - do you...   \n",
       "4             0  Watching Neighbours on Sky+ catching up with t...   \n",
       "\n",
       "  tweet_coord  tweet_count   tweet_created      tweet_id   tweet_location  \\\n",
       "0         NaN       110964  10/26/15 12:40  6.587300e+17  main; @Kan1shk3   \n",
       "1         NaN         7471  10/26/15 12:40  6.587300e+17              NaN   \n",
       "2         NaN         5617  10/26/15 12:40  6.587300e+17           clcncl   \n",
       "3         NaN         1693  10/26/15 12:40  6.587300e+17    Palo Alto, CA   \n",
       "4         NaN        31462  10/26/15 12:40  6.587300e+17              NaN   \n",
       "\n",
       "                user_timezone  \n",
       "0                     Chennai  \n",
       "1  Eastern Time (US & Canada)  \n",
       "2                    Belgrade  \n",
       "3  Pacific Time (US & Canada)  \n",
       "4                         NaN  "
      ]
     },
     "execution_count": 4,
     "metadata": {},
     "output_type": "execute_result"
    }
   ],
   "source": [
    "pd.set_option('display.max_columns', None)\n",
    "\n",
    "twitter.head()"
   ]
  },
  {
   "cell_type": "code",
   "execution_count": 5,
   "metadata": {},
   "outputs": [
    {
     "name": "stdout",
     "output_type": "stream",
     "text": [
      "<class 'pandas.core.frame.DataFrame'>\n",
      "RangeIndex: 20050 entries, 0 to 20049\n",
      "Data columns (total 26 columns):\n",
      " #   Column                 Non-Null Count  Dtype  \n",
      "---  ------                 --------------  -----  \n",
      " 0   _unit_id               20050 non-null  int64  \n",
      " 1   _golden                20050 non-null  bool   \n",
      " 2   _unit_state            20050 non-null  object \n",
      " 3   _trusted_judgments     20050 non-null  int64  \n",
      " 4   _last_judgment_at      20000 non-null  object \n",
      " 5   gender                 19953 non-null  object \n",
      " 6   gender:confidence      20024 non-null  float64\n",
      " 7   profile_yn             20050 non-null  object \n",
      " 8   profile_yn:confidence  20050 non-null  float64\n",
      " 9   created                20050 non-null  object \n",
      " 10  description            16306 non-null  object \n",
      " 11  fav_number             20050 non-null  int64  \n",
      " 12  gender_gold            50 non-null     object \n",
      " 13  link_color             20050 non-null  object \n",
      " 14  name                   20050 non-null  object \n",
      " 15  profile_yn_gold        50 non-null     object \n",
      " 16  profileimage           20050 non-null  object \n",
      " 17  retweet_count          20050 non-null  int64  \n",
      " 18  sidebar_color          20050 non-null  object \n",
      " 19  text                   20050 non-null  object \n",
      " 20  tweet_coord            159 non-null    object \n",
      " 21  tweet_count            20050 non-null  int64  \n",
      " 22  tweet_created          20050 non-null  object \n",
      " 23  tweet_id               20050 non-null  float64\n",
      " 24  tweet_location         12566 non-null  object \n",
      " 25  user_timezone          12252 non-null  object \n",
      "dtypes: bool(1), float64(3), int64(5), object(17)\n",
      "memory usage: 3.8+ MB\n"
     ]
    }
   ],
   "source": [
    "twitter.info()"
   ]
  },
  {
   "cell_type": "code",
   "execution_count": null,
   "metadata": {},
   "outputs": [],
   "source": []
  },
  {
   "cell_type": "markdown",
   "metadata": {},
   "source": [
    "## Data Analysis\n"
   ]
  },
  {
   "cell_type": "code",
   "execution_count": 6,
   "metadata": {},
   "outputs": [],
   "source": [
    "twitter = twitter.drop(['_golden', '_unit_state', '_trusted_judgments', 'profile_yn', 'gender_gold', 'profile_yn_gold', 'tweet_coord', 'tweet_location', 'user_timezone'], axis = 1) \n",
    "# clean_df"
   ]
  },
  {
   "cell_type": "code",
   "execution_count": 7,
   "metadata": {},
   "outputs": [
    {
     "name": "stdout",
     "output_type": "stream",
     "text": [
      "<class 'pandas.core.frame.DataFrame'>\n",
      "RangeIndex: 20050 entries, 0 to 20049\n",
      "Data columns (total 17 columns):\n",
      " #   Column                 Non-Null Count  Dtype  \n",
      "---  ------                 --------------  -----  \n",
      " 0   _unit_id               20050 non-null  int64  \n",
      " 1   _last_judgment_at      20000 non-null  object \n",
      " 2   gender                 19953 non-null  object \n",
      " 3   gender:confidence      20024 non-null  float64\n",
      " 4   profile_yn:confidence  20050 non-null  float64\n",
      " 5   created                20050 non-null  object \n",
      " 6   description            16306 non-null  object \n",
      " 7   fav_number             20050 non-null  int64  \n",
      " 8   link_color             20050 non-null  object \n",
      " 9   name                   20050 non-null  object \n",
      " 10  profileimage           20050 non-null  object \n",
      " 11  retweet_count          20050 non-null  int64  \n",
      " 12  sidebar_color          20050 non-null  object \n",
      " 13  text                   20050 non-null  object \n",
      " 14  tweet_count            20050 non-null  int64  \n",
      " 15  tweet_created          20050 non-null  object \n",
      " 16  tweet_id               20050 non-null  float64\n",
      "dtypes: float64(3), int64(4), object(10)\n",
      "memory usage: 2.6+ MB\n"
     ]
    }
   ],
   "source": [
    "twitter.info()"
   ]
  },
  {
   "cell_type": "code",
   "execution_count": 8,
   "metadata": {},
   "outputs": [],
   "source": [
    "# fill in missing data\n",
    "twitter.fillna(value = 'unknown',  \n",
    "          inplace = True) "
   ]
  },
  {
   "cell_type": "code",
   "execution_count": 9,
   "metadata": {},
   "outputs": [],
   "source": [
    "# twitter.info()"
   ]
  },
  {
   "cell_type": "code",
   "execution_count": 10,
   "metadata": {},
   "outputs": [
    {
     "data": {
      "text/plain": [
       "female     6700\n",
       "male       6194\n",
       "brand      5942\n",
       "unknown    1214\n",
       "Name: gender, dtype: int64"
      ]
     },
     "execution_count": 10,
     "metadata": {},
     "output_type": "execute_result"
    }
   ],
   "source": [
    "twitter.gender.value_counts()"
   ]
  },
  {
   "cell_type": "markdown",
   "metadata": {},
   "source": [
    "## NLP Pipeline \n",
    "\n",
    "Below is a to do list when converting text into vector form: \n",
    "\n",
    "**Clean text and Create a Bag of Words (BoW)**\n",
    ">1. Lowercase the text\n",
    "2. Tokenize \n",
    "3. Strip out punctuation or undesirable text\n",
    "4. Remove Stopwords \n",
    "5. Stemming or Lemmatizing\n",
    "6. Compute N-Grams\n",
    "7. Use this to create BoW\n",
    "\n",
    "**Vectorize BoW**\n",
    ">8. Term Frequencies\n",
    "9. Document Frequencies\n",
    "10. TF-IDF\n",
    "11. Normalize vectors\n",
    "\n"
   ]
  },
  {
   "cell_type": "code",
   "execution_count": 11,
   "metadata": {},
   "outputs": [
    {
     "name": "stdout",
     "output_type": "stream",
     "text": [
      "female     6700\n",
      "male       6194\n",
      "brand      5942\n",
      "unknown    1214\n",
      "Name: gender, dtype: int64\n"
     ]
    }
   ],
   "source": [
    "classes = twitter['gender']\n",
    "print(classes.value_counts())"
   ]
  },
  {
   "cell_type": "code",
   "execution_count": 12,
   "metadata": {},
   "outputs": [
    {
     "data": {
      "image/png": "[encoded data removed]",
      "text/plain": [
       "<Figure size 432x288 with 1 Axes>"
      ]
     },
     "metadata": {
      "needs_background": "light"
     },
     "output_type": "display_data"
    }
   ],
   "source": [
    "# tweets per gender per data\n",
    "twitter.groupby('gender').text.count().plot.bar(ylim=0)\n",
    "plt.xlabel('Gender* Classes', size=13)\n",
    "plt.ylabel('Count', size=13)\n",
    "plt.title(\"Gender Count Bar Plot\", size=14)\n",
    "plt.show()"
   ]
  },
  {
   "cell_type": "code",
   "execution_count": 13,
   "metadata": {},
   "outputs": [
    {
     "name": "stdout",
     "output_type": "stream",
     "text": [
      "[2 2 2 2 1 1 0 2 1 1 0 0 1 0 1]\n"
     ]
    }
   ],
   "source": [
    "encoder = LabelEncoder()\n",
    "Y = encoder.fit_transform(classes)\n",
    "\n",
    "# print(classes[:15])\n",
    "print(Y[:15])"
   ]
  },
  {
   "cell_type": "code",
   "execution_count": 14,
   "metadata": {},
   "outputs": [
    {
     "data": {
      "text/plain": [
       "0     Robbie E Responds To Critics After Win Against...\n",
       "1     ÛÏIt felt like they were my friends and I was...\n",
       "2     i absolutely adore when louis starts the songs...\n",
       "3     Hi @JordanSpieth - Looking at the url - do you...\n",
       "4     Watching Neighbours on Sky+ catching up with t...\n",
       "5     Ive seen people on the train with lamps, chair...\n",
       "6     @BpackEngineer Thank you for your patience whi...\n",
       "7     Gala Bingo clubs bought for å£241m: The UK's l...\n",
       "8     @_Aphmau_ the pic defines all mcd fangirls/fan...\n",
       "9     @Evielady just how lovely is the tree this yea...\n",
       "10    how are you taking care of yourself? https://t...\n",
       "11    MTG Deals 1x Rank-Up-Magic - The Seventh One -...\n",
       "12    Just put my ass on the line for you and this i...\n",
       "13    https://t.co/z4sbWUugd8 What the Nation Will B...\n",
       "14    will i even need sound effects for the diviner...\n",
       "Name: text, dtype: object"
      ]
     },
     "execution_count": 14,
     "metadata": {},
     "output_type": "execute_result"
    }
   ],
   "source": [
    "twitter.text[:15]"
   ]
  },
  {
   "cell_type": "code",
   "execution_count": 15,
   "metadata": {},
   "outputs": [
    {
     "data": {
      "text/plain": [
       "0        Robbie E Responds To Critics After Win Against...\n",
       "1        ÛÏIt felt like they were my friends and I was...\n",
       "2        i absolutely adore when louis starts the songs...\n",
       "3        Hi @JordanSpieth - Looking at the url - do you...\n",
       "4        Watching Neighbours on Sky+ catching up with t...\n",
       "                               ...                        \n",
       "20045    @lookupondeath ...Fine, and I'll drink tea too...\n",
       "20046    Greg Hardy you a good player and all but don't...\n",
       "20047    You can miss people and still never want to se...\n",
       "20048    @bitemyapp i had noticed your tendency to pee ...\n",
       "20049    I think for my APUSH creative project I'm goin...\n",
       "Name: text, Length: 20050, dtype: object"
      ]
     },
     "execution_count": 15,
     "metadata": {},
     "output_type": "execute_result"
    }
   ],
   "source": [
    "tweets = twitter.text\n",
    "tweets"
   ]
  },
  {
   "cell_type": "markdown",
   "metadata": {},
   "source": [
    "###   Text Processing"
   ]
  },
  {
   "cell_type": "code",
   "execution_count": 16,
   "metadata": {},
   "outputs": [
    {
     "data": {
      "text/plain": [
       "'!\"#$%&\\'()*+,-./:;<=>?@[\\\\]^_`{|}~'"
      ]
     },
     "execution_count": 16,
     "metadata": {},
     "output_type": "execute_result"
    }
   ],
   "source": [
    "pt = string.punctuation\n",
    "pt"
   ]
  },
  {
   "cell_type": "code",
   "execution_count": 17,
   "metadata": {},
   "outputs": [],
   "source": [
    "# # removing @s and links\n",
    "# for i,doc in enumerate(tweets):\n",
    "#     tweets[i] = re.sub(r\"(?:\\@|https?\\://)\\S+\", \"\", doc)\n",
    "#     tweets[i] = \" \".join(tweets[i].split())\n",
    "# # tweets[:15]\n",
    "\n",
    "# # We will analyze not using emojis and re iterate through the same data with emojis\n",
    "\n",
    "# # let's start by removing emojis and other special characters\n",
    "# for i,doc in enumerate(tweets):\n",
    "#     tweets[i] = unicodedata.normalize('NFKD', doc).encode('ASCII', 'ignore').decode('utf8')\n",
    "\n",
    "# # tweets, len(tweets)\n",
    "\n",
    "# # clean punctuation\n",
    "# tweets = tweets.str.replace(r'[^\\w\\d\\s]', ' ')\n",
    "# # clean_tweets[:20]\n",
    "\n",
    "# clean numbers\n",
    "# tweets = tweets.str.replace(r'\\d+(\\.\\d+)?', ' ')\n",
    "# tweets[:20]\n",
    "\n",
    "# clean whitespaces\n",
    "# tweets = tweets.str.replace(r'\\s+', ' ')\n",
    "# tweets[:20]\n",
    "\n",
    "# clean extra whitespaces\n",
    "# tweets = tweets.str.replace(r'^\\s+|\\s+?$', '')\n",
    "# tweets[:20]\n",
    "\n",
    "# lower\n",
    "# tweets = tweets.str.lower()\n",
    "# tweets[:20]"
   ]
  },
  {
   "cell_type": "code",
   "execution_count": 18,
   "metadata": {},
   "outputs": [],
   "source": [
    "def clean_data(tweets):\n",
    "\n",
    "#     # removing @s and links\n",
    "#     for i,doc in enumerate(tweets):\n",
    "#         tweets[i] = re.sub(r\"(?:\\@|https?\\://)\\S+\", \"\", doc)\n",
    "#         tweets[i] = \" \".join(tweets[i].split())\n",
    "\n",
    "#     ### We will analyze not using emojis and re iterate through the same data with emojis\n",
    "\n",
    "#     # let's start by removing emojis and other special characters\n",
    "#     for i,doc in enumerate(tweets):\n",
    "#         tweets[i] = unicodedata.normalize('NFKD', doc).encode('ASCII', 'ignore').decode('utf8')\n",
    "\n",
    "    # removing @s and links\n",
    "    tweets = tweets.str.replace(r\"(?:\\@|https?\\://)\\S+\", '')\n",
    "    \n",
    "    ## let's start by removing emojis and other special characters\n",
    "    #tweets = unicodedata.normalize('NFKD', tweets).encode('ASCII', 'ignore').decode('utf8')\n",
    "        \n",
    "    # clean punctuation\n",
    "    tweets = tweets.str.replace(r'[^\\w\\d\\s]', ' ')\n",
    "\n",
    "    # clean numbers\n",
    "    tweets = tweets.str.replace(r'\\d+(\\.\\d+)?', ' ')\n",
    "    \n",
    "    # remove underscores \n",
    "    #tweets1 = tweets1.str.replace(r'[^_',  '')\n",
    "    tweets = tweets.str.replace(r\"(\\.\\d+)_\\d+\", ' ')\n",
    "    \n",
    "    # clean whitespaces\n",
    "    tweets = tweets.str.replace(r'\\s+', ' ')\n",
    "\n",
    "    # clean extra whitespaces\n",
    "    tweets = tweets.str.replace(r'^\\s+|\\s+?$', '')\n",
    "    \n",
    "    # lowercase text\n",
    "    tweets = tweets.str.lower()\n",
    "    \n",
    "    # remove stop words\n",
    "    stop_words = set(stopwords.words('english'))\n",
    "    tweets = tweets.apply(lambda x: ' '.join(word for word in x.split() if word not in stop_words))\n",
    "    \n",
    "    \n",
    "    return tweets"
   ]
  },
  {
   "cell_type": "code",
   "execution_count": 19,
   "metadata": {},
   "outputs": [],
   "source": [
    "df = twitter[twitter['gender'] != 'unknown']\n",
    "# df.info()\n",
    "\n",
    "df = df.reset_index()\n",
    "# df.info()"
   ]
  },
  {
   "cell_type": "code",
   "execution_count": 20,
   "metadata": {},
   "outputs": [],
   "source": [
    "# Applying text processing\n",
    "# tweets = tweets.apply(clean_data)\n",
    "tweets_df = clean_data(df.text)"
   ]
  },
  {
   "cell_type": "code",
   "execution_count": 21,
   "metadata": {},
   "outputs": [
    {
     "data": {
      "text/plain": [
       "0     robbie responds critics win eddie edwards worl...\n",
       "1     ûïit felt like friends living story û retired ian\n",
       "2     absolutely adore louis starts songs hits hard ...\n",
       "3        hi looking url use typically see advanced user\n",
       "4     watching neighbours sky catching neighbs xxx _...\n",
       "5            ive seen people train lamps chairs tvs etc\n",
       "6                        thank patience take care issue\n",
       "7     gala bingo clubs bought å uk largest high stre...\n",
       "8      pic defines mcd fangirls fanboys mcd shippers xd\n",
       "9     lovely tree year never seen gorgeous autumn co...\n",
       "10                             taking care fitfluential\n",
       "11    mtg deals x rank magic seventh one prio en sec...\n",
       "12                                   put ass line repay\n",
       "13        nation talking wednesday gop debates business\n",
       "14             even need sound effects diviners tonight\n",
       "Name: text, dtype: object"
      ]
     },
     "execution_count": 21,
     "metadata": {},
     "output_type": "execute_result"
    }
   ],
   "source": [
    "# remove stop words\n",
    "extras = ['a', 'e', 'i', 'o', 'u', 'https']\n",
    "stop_words = set(stopwords.words('english'))\n",
    "stop_words.update(extras)\n",
    "\n",
    "# Applying the removal of stop words\n",
    "tweets_df = tweets_df.apply(lambda x: ' '.join(word for word in x.split() if word not in stop_words))\n",
    "tweets_df[:15]"
   ]
  },
  {
   "cell_type": "markdown",
   "metadata": {},
   "source": [
    "### Stemming and/ or Lemmatizing"
   ]
  },
  {
   "cell_type": "code",
   "execution_count": 22,
   "metadata": {},
   "outputs": [],
   "source": [
    "# SnowballStemmer\n",
    "def stem(text):\n",
    "  stemmer = SnowballStemmer('english')\n",
    "  return ''.join([stemmer.stem(word) for word in text])\n",
    "\n",
    "# Lemmatizing\n",
    "def lem(text):\n",
    "  lemmatizer = WordNetLemmatizer()\n",
    "  return ''.join([lemmatizer.lemmatize(word) for word in text])"
   ]
  },
  {
   "cell_type": "code",
   "execution_count": 23,
   "metadata": {},
   "outputs": [],
   "source": [
    "text_stem = tweets_df.apply(stem)"
   ]
  },
  {
   "cell_type": "code",
   "execution_count": 24,
   "metadata": {},
   "outputs": [],
   "source": [
    "text_lem = tweets_df.apply(lem)"
   ]
  },
  {
   "cell_type": "markdown",
   "metadata": {},
   "source": [
    "### Creating a Bag of Words (BoW)"
   ]
  },
  {
   "cell_type": "code",
   "execution_count": 25,
   "metadata": {},
   "outputs": [],
   "source": [
    "class0_df = twitter[twitter.gender != 'male'].reset_index()\n",
    "class1_df = twitter[twitter.gender != 'female'].reset_index()\n",
    "class2_df = twitter[twitter.gender != 'brand'].reset_index()\n",
    "class3_df = twitter[twitter.gender != 'unknown'].reset_index()"
   ]
  },
  {
   "cell_type": "code",
   "execution_count": 26,
   "metadata": {},
   "outputs": [
    {
     "name": "stderr",
     "output_type": "stream",
     "text": [
      "/home/yamasjose/anaconda3/lib/python3.7/site-packages/ipykernel_launcher.py:1: UserWarning: Pandas doesn't allow columns to be created via a new attribute name - see https://pandas.pydata.org/pandas-docs/stable/indexing.html#attribute-access\n",
      "  \"\"\"Entry point for launching an IPython kernel.\n",
      "/home/yamasjose/anaconda3/lib/python3.7/site-packages/ipykernel_launcher.py:2: UserWarning: Pandas doesn't allow columns to be created via a new attribute name - see https://pandas.pydata.org/pandas-docs/stable/indexing.html#attribute-access\n",
      "  \n",
      "/home/yamasjose/anaconda3/lib/python3.7/site-packages/ipykernel_launcher.py:3: UserWarning: Pandas doesn't allow columns to be created via a new attribute name - see https://pandas.pydata.org/pandas-docs/stable/indexing.html#attribute-access\n",
      "  This is separate from the ipykernel package so we can avoid doing imports until\n",
      "/home/yamasjose/anaconda3/lib/python3.7/site-packages/ipykernel_launcher.py:4: UserWarning: Pandas doesn't allow columns to be created via a new attribute name - see https://pandas.pydata.org/pandas-docs/stable/indexing.html#attribute-access\n",
      "  after removing the cwd from sys.path.\n"
     ]
    }
   ],
   "source": [
    "class0_df.transcript_lem = class0_df.text.apply(lem)\n",
    "class1_df.transcript_lem = class1_df.text.apply(lem)\n",
    "class2_df.transcript_lem = class2_df.text.apply(lem)\n",
    "class3_df.transcript_lem = class3_df.text.apply(lem)"
   ]
  },
  {
   "cell_type": "code",
   "execution_count": 27,
   "metadata": {},
   "outputs": [],
   "source": [
    "# # Creating a Bag of Words\n",
    "\n",
    "bow_df, class0_bow, class1_bow, class2_bow, class3_bow = [], [], [], [], []\n",
    "\n",
    "for trans in text_stem:\n",
    "    words = word_tokenize(trans)\n",
    "    for w in words:\n",
    "        bow_df.append(w)\n",
    "bow_df = nltk.FreqDist(bow_df)\n",
    "\n",
    "for trans0 in class0_df.transcript_lem:\n",
    "    words0 = word_tokenize(trans0)\n",
    "    for w0 in words0:\n",
    "        class0_bow.append(w0)\n",
    "class0_bow = nltk.FreqDist(class0_bow)\n",
    "\n",
    "for trans1 in class1_df.transcript_lem:\n",
    "    words1 = word_tokenize(trans1)\n",
    "    for w1 in words1:\n",
    "        class1_bow.append(w1)\n",
    "class1_bow = nltk.FreqDist(class1_bow)\n",
    "\n",
    "for trans2 in class2_df.transcript_lem:\n",
    "    words2 = word_tokenize(trans2)\n",
    "    for w2 in words2:\n",
    "        class2_bow.append(w2)\n",
    "class2_bow = nltk.FreqDist(class2_bow)\n",
    "\n",
    "for trans3 in class3_df.transcript_lem:\n",
    "    words3 = word_tokenize(trans3)\n",
    "    for w3 in words3:\n",
    "        class3_bow.append(w3)\n",
    "class3_bow = nltk.FreqDist(class3_bow)\n"
   ]
  },
  {
   "cell_type": "code",
   "execution_count": 28,
   "metadata": {},
   "outputs": [
    {
     "name": "stdout",
     "output_type": "stream",
     "text": [
      "Bag of Words Count for all: 25245\n",
      "Most Frequent Words for all: [('weather', 2307), ('get', 2027), ('_ù', 1440), ('channel', 1183), ('updates', 1155), ('like', 957), ('one', 753), ('û_', 716), ('love', 680), ('new', 673)]\n",
      "\n",
      "\n",
      "Bag of Words Count for Class 0: 40200\n",
      "Most Frequent Words for Class 0: [(':', 8607), ('and', 7758), ('the', 7524), ('https', 6457), ('.', 6101), ('#', 5625), ('@', 5346), ('I', 4099), (',', 3947), ('to', 3887)]\n",
      "\n",
      "\n",
      "Bag of Words Count for Class 1: 40869\n",
      "Most Frequent Words for Class 1: [(':', 8534), ('the', 7736), ('and', 7093), ('.', 6656), ('https', 6371), ('@', 6226), ('#', 5293), (',', 4342), ('to', 3613), ('I', 3062)]\n",
      "\n",
      "\n",
      "Bag of Words Count for Class 2: 39555\n",
      "Most Frequent Words for Class 2: [('the', 8988), ('and', 8743), ('@', 7244), ('.', 6471), (':', 5975), ('I', 5550), ('https', 4449), ('to', 4415), (',', 4275), ('#', 4077)]\n",
      "\n",
      "\n",
      "Bag of Words Count for Class 3: 51319\n",
      "Most Frequent Words for Class 3: [('the', 11158), (':', 10877), ('and', 10867), ('.', 8627), ('@', 8526), ('https', 8154), ('#', 6992), ('I', 5844), (',', 5697), ('to', 5506)]\n"
     ]
    }
   ],
   "source": [
    "# B.O.W - For all Corpus\n",
    "print('Bag of Words Count for all: {}'.format(len(bow_df)))\n",
    "print('Most Frequent Words for all: {}'.format((bow_df.most_common(10))))\n",
    "print('\\n')\n",
    "# B.O.W - Class 0\n",
    "print('Bag of Words Count for Class 0: {}'.format(len(class0_bow)))\n",
    "print('Most Frequent Words for Class 0: {}'.format((class0_bow.most_common(10))))\n",
    "print('\\n')\n",
    "# B.O.W - Class 1\n",
    "print('Bag of Words Count for Class 1: {}'.format(len(class1_bow)))\n",
    "print('Most Frequent Words for Class 1: {}'.format((class1_bow.most_common(10))))\n",
    "print('\\n')\n",
    "# B.O.W - Class 2\n",
    "print('Bag of Words Count for Class 2: {}'.format(len(class2_bow)))\n",
    "print('Most Frequent Words for Class 2: {}'.format((class2_bow.most_common(10))))\n",
    "print('\\n')\n",
    "# B.O.W - Class 3\n",
    "print('Bag of Words Count for Class 3: {}'.format(len(class3_bow)))\n",
    "print('Most Frequent Words for Class 3: {}'.format((class3_bow.most_common(10))))"
   ]
  },
  {
   "cell_type": "code",
   "execution_count": 29,
   "metadata": {},
   "outputs": [
    {
     "data": {
      "image/png": "[encoded data removed]",
      "text/plain": [
       "<Figure size 576x504 with 1 Axes>"
      ]
     },
     "metadata": {
      "needs_background": "light"
     },
     "output_type": "display_data"
    }
   ],
   "source": [
    "# Getting Most Common Words n - Histogram\n",
    "n = 15\n",
    "most_bow = list(zip(*bow_df.most_common(n)))\n",
    "\n",
    "fig, ax = plt.subplots(figsize=(8,7))\n",
    "plt.barh(most_bow[0], most_bow[1])\n",
    "plt.title('Most Common Words', size=20)\n",
    "plt.xlabel('Word Count', size=15)\n",
    "plt.ylabel('Most Common Words', size=15)\n",
    "plt.xticks(size=12, rotation=0)\n",
    "plt.yticks(size=12, rotation=0)\n",
    "plt.show()"
   ]
  },
  {
   "cell_type": "code",
   "execution_count": null,
   "metadata": {},
   "outputs": [],
   "source": []
  },
  {
   "cell_type": "markdown",
   "metadata": {},
   "source": [
    "## Machine Learning Pipeline using Random Forest Classifier\n",
    "* Removing Unknown Gender Class from dataframe"
   ]
  },
  {
   "cell_type": "code",
   "execution_count": 30,
   "metadata": {},
   "outputs": [],
   "source": [
    "new_df = twitter[twitter['gender'] != 'unknown']\n",
    "new_df = new_df.reset_index()\n",
    "# new_df1.info()"
   ]
  },
  {
   "cell_type": "code",
   "execution_count": 31,
   "metadata": {},
   "outputs": [],
   "source": [
    "# Text Processing without unknown class \n",
    "tweets_df = clean_data(new_df.text)\n",
    "text_stem = tweets_df.apply(stem)"
   ]
  },
  {
   "cell_type": "code",
   "execution_count": 32,
   "metadata": {},
   "outputs": [
    {
     "data": {
      "text/plain": [
       "(18836, 18836)"
      ]
     },
     "execution_count": 32,
     "metadata": {},
     "output_type": "execute_result"
    }
   ],
   "source": [
    "len(new_df.gender), len(text_stem)"
   ]
  },
  {
   "cell_type": "code",
   "execution_count": 33,
   "metadata": {},
   "outputs": [],
   "source": [
    "X = text_lem\n",
    "y = new_df.gender\n",
    "# X, y"
   ]
  },
  {
   "cell_type": "code",
   "execution_count": 34,
   "metadata": {},
   "outputs": [],
   "source": [
    "encoder = LabelEncoder()\n",
    "Y = encoder.fit_transform(y)\n",
    "\n",
    "# Y = Y.astype('int')\n",
    "# print(Y[:30])"
   ]
  },
  {
   "cell_type": "code",
   "execution_count": 35,
   "metadata": {},
   "outputs": [],
   "source": [
    "X_train, X_test, y_train, y_test = train_test_split(X, Y, test_size=0.2, random_state=1)\n",
    "# X_train, X_test, y_train, y_test"
   ]
  },
  {
   "cell_type": "code",
   "execution_count": 36,
   "metadata": {},
   "outputs": [
    {
     "data": {
      "text/plain": [
       "Pipeline(steps=[('vect', CountVectorizer()), ('tfidf', TfidfTransformer()),\n",
       "                ('clf', RandomForestClassifier())])"
      ]
     },
     "execution_count": 36,
     "metadata": {},
     "output_type": "execute_result"
    }
   ],
   "source": [
    "## ## Pipeline Build - tfdifvectorizer use\n",
    "pipe = Pipeline([ ('vect', CountVectorizer()),\n",
    "                  ('tfidf', TfidfTransformer()),\n",
    "                  ('clf', RandomForestClassifier())])\n",
    "\n",
    "pipe.fit(X_train, y_train)\n"
   ]
  },
  {
   "cell_type": "code",
   "execution_count": 37,
   "metadata": {},
   "outputs": [
    {
     "data": {
      "text/plain": [
       "(15068, 22243)"
      ]
     },
     "execution_count": 37,
     "metadata": {},
     "output_type": "execute_result"
    }
   ],
   "source": [
    "tf_vec = TfidfVectorizer()\n",
    "tf_vec_ft = tf_vec.fit_transform(X_train)\n",
    "tf_vec_ft.shape"
   ]
  },
  {
   "cell_type": "code",
   "execution_count": 38,
   "metadata": {
    "scrolled": true
   },
   "outputs": [
    {
     "data": {
      "text/plain": [
       "{'ever': 6610,\n",
       " 'go': 8107,\n",
       " 'youtube': 21865,\n",
       " 'watch': 21102,\n",
       " 'music': 12845,\n",
       " 'video': 20793,\n",
       " 'hours': 9259,\n",
       " 'later': 10942,\n",
       " 'find': 7151,\n",
       " 'watching': 21106,\n",
       " 'tutorial': 20148,\n",
       " 'talk': 19071,\n",
       " 'giraffes': 8024,\n",
       " 'going': 8134,\n",
       " 'need': 13063,\n",
       " 'young': 21854,\n",
       " 'priest': 15096,\n",
       " 'old': 13674,\n",
       " 'winchesters': 21413,\n",
       " 'reasons': 15803,\n",
       " 'possesedbaby': 14878,\n",
       " 'orphan': 13876,\n",
       " 'drug': 5904,\n",
       " 'interpretive': 9936,\n",
       " 'rule': 16616,\n",
       " 'struck': 18648,\n",
       " 'district': 5583,\n",
       " 'court': 4463,\n",
       " 'hhs': 8958,\n",
       " 'hrsa': 9299,\n",
       " 'lose': 11498,\n",
       " 'overwrought': 13990,\n",
       " 'media': 12147,\n",
       " 'scare': 16891,\n",
       " 'campaigns': 3042,\n",
       " 'internet': 9928,\n",
       " 'really': 15789,\n",
       " 'enjoyed': 6411,\n",
       " 'redoaks': 15885,\n",
       " 'took': 19771,\n",
       " 'back': 1555,\n",
       " 'awesome': 1506,\n",
       " 'decade': 5020,\n",
       " 'big': 2087,\n",
       " 'hair': 8567,\n",
       " 'short': 17443,\n",
       " 'shorts': 17450,\n",
       " 'least': 11054,\n",
       " 'fave': 6950,\n",
       " 'self': 17118,\n",
       " 'titled': 19672,\n",
       " 'easy': 6066,\n",
       " 'idk': 9486,\n",
       " 'fearless': 6983,\n",
       " 'speak': 18133,\n",
       " 'red': 15867,\n",
       " 'got': 8207,\n",
       " 'car': 3123,\n",
       " 'smell': 17843,\n",
       " 'foulest': 7493,\n",
       " 'stench': 18456,\n",
       " 'smells': 17845,\n",
       " 'like': 11258,\n",
       " 'cross': 4647,\n",
       " 'dead': 4981,\n",
       " 'fish': 7206,\n",
       " 'someone': 18013,\n",
       " 'serious': 17201,\n",
       " 'case': 3217,\n",
       " 'diarrhea': 5362,\n",
       " 'one': 13718,\n",
       " 'days': 4957,\n",
       " 'flash': 7257,\n",
       " 'get': 7952,\n",
       " 'put': 15446,\n",
       " 'bear': 1819,\n",
       " 'jail': 10152,\n",
       " 'connect': 4179,\n",
       " 'pc': 14276,\n",
       " 'tv': 20152,\n",
       " 'amp': 886,\n",
       " 'free': 7552,\n",
       " 'movies': 12732,\n",
       " 'andåêmore': 938,\n",
       " 'playing': 14688,\n",
       " 'new': 13157,\n",
       " 'daily': 4846,\n",
       " 'fantasy': 6898,\n",
       " 'leagues': 11031,\n",
       " 'come': 3990,\n",
       " 'join': 10338,\n",
       " 'dog': 5656,\n",
       " 'walked': 21011,\n",
       " 'chip': 3595,\n",
       " 'shop': 17433,\n",
       " 'eaten': 6069,\n",
       " 'onto': 13749,\n",
       " 'ironing': 10036,\n",
       " 'standardmonday': 18362,\n",
       " 'womenswork': 21534,\n",
       " 'changing': 3425,\n",
       " 'pissed': 14601,\n",
       " 'doha': 5667,\n",
       " 'map': 11859,\n",
       " 'play': 14680,\n",
       " 'game': 7780,\n",
       " 'weather': 21155,\n",
       " 'updates': 20526,\n",
       " 'channel': 3426,\n",
       " 'broke': 2729,\n",
       " 'feed': 7003,\n",
       " 'cat': 3233,\n",
       " 'noodles': 13343,\n",
       " 'rest': 16201,\n",
       " 'year': 21782,\n",
       " '_ù': 58,\n",
       " 'â_ù': 21997,\n",
       " 'innovation': 9810,\n",
       " 'fund': 7693,\n",
       " 'billion': 2122,\n",
       " 'annual': 1000,\n",
       " 'budget': 2810,\n",
       " 'well': 21230,\n",
       " 'ottawa': 13905,\n",
       " 'spends': 18175,\n",
       " 'programs': 15208,\n",
       " 'ppl': 14940,\n",
       " 'annually': 1001,\n",
       " 'naylorreport': 13017,\n",
       " 'conducted': 4139,\n",
       " 'study': 18665,\n",
       " 'enjoying': 6412,\n",
       " 'life': 11225,\n",
       " 'living': 11361,\n",
       " 'longer': 11452,\n",
       " 'could': 4427,\n",
       " 'lead': 11014,\n",
       " 'higher': 8977,\n",
       " 'rate': 15709,\n",
       " 'cancer': 3055,\n",
       " 'maidstone': 11725,\n",
       " 'united': 20429,\n",
       " 'gillingham': 8004,\n",
       " 'dover': 5779,\n",
       " 'athletic': 1352,\n",
       " 'learn': 11044,\n",
       " 'face': 6801,\n",
       " 'round': 16563,\n",
       " 'fa': 6793,\n",
       " 'cup': 4747,\n",
       " 'maidst': 11724,\n",
       " 'gfc': 7962,\n",
       " 'lost': 11506,\n",
       " 'videos': 20797,\n",
       " 'pics': 14532,\n",
       " 'fireplace': 7188,\n",
       " 'tomo': 19745,\n",
       " 'sofa': 17974,\n",
       " 'arriving': 1211,\n",
       " 'next': 13188,\n",
       " 'couple': 4452,\n",
       " 'weeks': 21203,\n",
       " 'happyhome': 8672,\n",
       " 'thanks': 19366,\n",
       " 'motivational': 12695,\n",
       " 'monday': 12588,\n",
       " 'worse': 21614,\n",
       " 'dagenham': 4840,\n",
       " 'redbridge': 15870,\n",
       " 'leave': 11057,\n",
       " 'tower': 19841,\n",
       " 'last': 10935,\n",
       " 'night': 13250,\n",
       " 'started': 18393,\n",
       " 'dancing': 4876,\n",
       " 'calling': 3009,\n",
       " 'black': 2197,\n",
       " 'writers': 21657,\n",
       " 'lovers': 11556,\n",
       " 'books': 2440,\n",
       " 'york': 21840,\n",
       " 'city': 3709,\n",
       " 'tri': 19984,\n",
       " 'state': 18405,\n",
       " 'area': 1152,\n",
       " 'blkoutqueen': 2278,\n",
       " 'true': 20053,\n",
       " 'journalism': 10376,\n",
       " 'view': 20804,\n",
       " 'report': 16113,\n",
       " 'angles': 958,\n",
       " 'especially': 6536,\n",
       " 'outlets': 13930,\n",
       " 'gushing': 8495,\n",
       " 'making': 11763,\n",
       " 'sweet': 18958,\n",
       " 'love': 11537,\n",
       " 'baby': 1545,\n",
       " 'ahead': 636,\n",
       " 'take': 19056,\n",
       " 'let': 11147,\n",
       " 'naked': 12932,\n",
       " 'è_ùõ_': 22070,\n",
       " 'hell': 8893,\n",
       " 'october': 13582,\n",
       " 'halloween': 8590,\n",
       " 'already': 802,\n",
       " 'weekend': 21194,\n",
       " 'run': 16624,\n",
       " 'across': 402,\n",
       " 'campus': 3047,\n",
       " 'speed': 18163,\n",
       " 'sound': 18068,\n",
       " 'class': 3739,\n",
       " 'time': 19623,\n",
       " '_ùªî_ùªî_ùªî': 130,\n",
       " 'beef': 1877,\n",
       " 'lobbyists': 11402,\n",
       " 'scream': 16991,\n",
       " 'bloody': 2304,\n",
       " 'murder': 12825,\n",
       " 'propaganada': 15249,\n",
       " 'offensive': 13612,\n",
       " 'kate': 10510,\n",
       " 'harris': 8719,\n",
       " 'spoke': 18232,\n",
       " 'word': 21567,\n",
       " 'portland': 14857,\n",
       " 'week': 21191,\n",
       " 'able': 289,\n",
       " 'lines': 11296,\n",
       " 'post': 14885,\n",
       " 'event': 6605,\n",
       " 'email': 6278,\n",
       " 'record': 15850,\n",
       " 'hit': 9051,\n",
       " 'clips': 3810,\n",
       " 'pretty': 15076,\n",
       " 'alright': 805,\n",
       " 'team': 19191,\n",
       " 'intrested': 9960,\n",
       " 'gateway': 7832,\n",
       " 'teams': 19201,\n",
       " 'artist': 1232,\n",
       " 'amas': 835,\n",
       " 'counting': 4442,\n",
       " 'fingers': 7166,\n",
       " 'vincent': 20822,\n",
       " 'photog': 14487,\n",
       " 'follow': 7384,\n",
       " 'way': 21124,\n",
       " 'words': 21572,\n",
       " 'lmao': 11377,\n",
       " 'sorry': 18052,\n",
       " 'fun': 7688,\n",
       " 'dudes': 5944,\n",
       " 'wearing': 21152,\n",
       " 'coats': 3867,\n",
       " 'popped': 14825,\n",
       " 'bit': 2172,\n",
       " 'know': 10732,\n",
       " 'ýã': 22242,\n",
       " 'deepest': 5069,\n",
       " 'fucking': 7658,\n",
       " 'shit': 17404,\n",
       " 'read': 15759,\n",
       " 'entire': 6442,\n",
       " 'cri': 4601,\n",
       " 'marquei': 11926,\n",
       " 'como': 4053,\n",
       " 'visto': 20866,\n",
       " 'walking': 21015,\n",
       " 'jss': 10395,\n",
       " 'bancodeseries': 1652,\n",
       " 'deal': 4987,\n",
       " 'sometimes': 18016,\n",
       " 'gives': 8041,\n",
       " 'respect': 16184,\n",
       " 'everydayiloveyou': 6620,\n",
       " 'forevermore': 7441,\n",
       " 'makes': 11759,\n",
       " 'pushawardslizquens': 15432,\n",
       " 'buy': 2940,\n",
       " 'sell': 17127,\n",
       " 'signal': 17551,\n",
       " 'eur': 6586,\n",
       " 'aud': 1408,\n",
       " 'pair': 14053,\n",
       " 'identified': 9473,\n",
       " 'listed': 11328,\n",
       " 'money': 12599,\n",
       " 'senators': 17145,\n",
       " 'congressmen': 4178,\n",
       " 'must': 12863,\n",
       " 'bernie': 2005,\n",
       " 'sanders': 16774,\n",
       " 'want': 21048,\n",
       " 'votes': 20941,\n",
       " 'catching': 3241,\n",
       " 'tfifriday': 19352,\n",
       " 'see': 17091,\n",
       " 'macklemore': 11675,\n",
       " 'live': 11351,\n",
       " 'badly': 1587,\n",
       " 'wow': 21632,\n",
       " 'match': 11999,\n",
       " 'boy': 2547,\n",
       " 'rafa': 15599,\n",
       " 'fought': 7491,\n",
       " 'kept': 10579,\n",
       " 'nerve': 13118,\n",
       " 'rosol': 16547,\n",
       " 'answers': 1012,\n",
       " 'end': 6362,\n",
       " 'low': 11563,\n",
       " 'light': 11246,\n",
       " 'photography': 14493,\n",
       " 'best': 2016,\n",
       " 'man': 11798,\n",
       " 'insane': 9819,\n",
       " 'legit': 11100,\n",
       " 'zahir': 21909,\n",
       " 'ud': 20261,\n",
       " 'din': 5424,\n",
       " 'active': 411,\n",
       " 'member': 12194,\n",
       " 'muslim': 12858,\n",
       " 'conference': 4144,\n",
       " 'peerzada': 14320,\n",
       " 'tayab': 19157,\n",
       " 'shah': 17285,\n",
       " 'many': 11856,\n",
       " 'others': 13895,\n",
       " 'dismayed': 5537,\n",
       " 'better': 2045,\n",
       " 'club': 3835,\n",
       " 'attached': 1372,\n",
       " 'course': 4461,\n",
       " 'top': 19783,\n",
       " 'try': 20073,\n",
       " 'thru': 19557,\n",
       " 'pray': 14968,\n",
       " 'rent': 16078,\n",
       " 'moscone': 12673,\n",
       " 'permit': 14395,\n",
       " 'shut': 17505,\n",
       " 'street': 18598,\n",
       " 'different': 5395,\n",
       " 'buildings': 2830,\n",
       " 'fill': 7123,\n",
       " 'people': 14353,\n",
       " 'gala': 7768,\n",
       " 'bingo': 2135,\n",
       " 'clubs': 3837,\n",
       " 'bought': 2509,\n",
       " 'uk': 20287,\n",
       " 'largest': 10923,\n",
       " 'high': 8976,\n",
       " 'operator': 13788,\n",
       " 'taken': 19059,\n",
       " 'û_': 22131,\n",
       " 'jake': 10157,\n",
       " 'kilroy': 10650,\n",
       " 'yawn': 21769,\n",
       " 'check': 3489,\n",
       " 'phone': 14483,\n",
       " 'babbled': 1540,\n",
       " 'incessantly': 9654,\n",
       " 'mysteries': 12901,\n",
       " 'initiated': 9789,\n",
       " 'knocking': 10726,\n",
       " 'ky': 10822,\n",
       " 'never': 13152,\n",
       " 'nice': 13211,\n",
       " 'folks': 7381,\n",
       " 'odd': 13587,\n",
       " 'imaikalani': 9564,\n",
       " 'devault': 5311,\n",
       " 'maui': 12035,\n",
       " 'summer': 18789,\n",
       " 'school': 16931,\n",
       " 'appear': 1081,\n",
       " 'surf': 18869,\n",
       " 'liked': 11259,\n",
       " 'josh': 10368,\n",
       " 'daniel': 4884,\n",
       " 'takes': 19061,\n",
       " 'taylor': 19160,\n",
       " 'swift': 18967,\n",
       " 'smash': 17837,\n",
       " 'judges': 10403,\n",
       " 'houses': 9268,\n",
       " 'factor': 6815,\n",
       " 'blue': 2319,\n",
       " 'fingerprint': 7165,\n",
       " 'wine': 21423,\n",
       " 'bottle': 2503,\n",
       " 'stopper': 18543,\n",
       " 'prizmatic': 15141,\n",
       " 'usdwhy': 20575,\n",
       " 'use': 20576,\n",
       " 'cork': 4362,\n",
       " 'wh': 21268,\n",
       " 'etsy': 6579,\n",
       " 'etsybot': 6580,\n",
       " 'deletes': 5128,\n",
       " 'dvr': 6007,\n",
       " 'recording': 15853,\n",
       " 'twd': 20162,\n",
       " 'bad': 1580,\n",
       " 'cable': 2965,\n",
       " 'box': 2540,\n",
       " 'marvin': 11952,\n",
       " 'gaye': 7851,\n",
       " 'gave': 7843,\n",
       " 'key': 10587,\n",
       " 'door': 5734,\n",
       " 'open': 13770,\n",
       " 'admit': 486,\n",
       " 'edition': 6123,\n",
       " 'examines': 6645,\n",
       " 'data': 4922,\n",
       " 'reporting': 16118,\n",
       " 'requirements': 16147,\n",
       " 'cybersecurity': 4815,\n",
       " 'risks': 16394,\n",
       " 'likewise': 11264,\n",
       " 'challenges': 3399,\n",
       " 'th': 19357,\n",
       " 'adventure': 516,\n",
       " '_ùªî_ùªî_ù': 129,\n",
       " 'äè': 22038,\n",
       " 'photo': 14485,\n",
       " 'happiness': 8663,\n",
       " '_tag': 42,\n",
       " 'friend_ùôà': 7602,\n",
       " 'dogs': 5663,\n",
       " 'coming': 4013,\n",
       " 'soon': 18034,\n",
       " 'awh': 1511,\n",
       " 'omg': 13704,\n",
       " 'say': 16856,\n",
       " 'bitch': 2173,\n",
       " 'tried': 20002,\n",
       " 'still': 18493,\n",
       " 'failed': 6835,\n",
       " 'winter': 21443,\n",
       " 'grind': 8369,\n",
       " 'brings': 2690,\n",
       " 'shyne': 17515,\n",
       " 'finally': 7143,\n",
       " 'breaking': 2629,\n",
       " 'away': 1500,\n",
       " 'daytime': 4962,\n",
       " 'stigma': 18491,\n",
       " 'wish': 21463,\n",
       " 'damn': 4866,\n",
       " 'eat': 6068,\n",
       " 'bacon': 1577,\n",
       " 'opened': 13773,\n",
       " 'dads': 4839,\n",
       " 'house': 9260,\n",
       " 'little': 11346,\n",
       " 'sister': 17642,\n",
       " 'ran': 15657,\n",
       " 'towards': 19838,\n",
       " 'screaming': 16994,\n",
       " 'naya': 13016,\n",
       " 'told': 19731,\n",
       " 'much': 12776,\n",
       " 'missed': 12465,\n",
       " 'cookies': 4313,\n",
       " 'look': 11459,\n",
       " 'amazing': 839,\n",
       " 'yeah': 21779,\n",
       " 'draw': 5835,\n",
       " 'line': 11290,\n",
       " 'dolphin': 5682,\n",
       " 'starving': 18402,\n",
       " 'make': 11751,\n",
       " 'believe': 1930,\n",
       " 'overthrow': 13981,\n",
       " 'heart': 8835,\n",
       " 'beats': 1836,\n",
       " 'leading': 11018,\n",
       " 'purpose': 15418,\n",
       " 'developing': 5315,\n",
       " 'servant': 17208,\n",
       " 'leaders': 11016,\n",
       " 'tomorrow': 19746,\n",
       " 'business': 2912,\n",
       " 'talkradio': 19078,\n",
       " 'mujtaba': 12793,\n",
       " 'stories': 18551,\n",
       " 'via': 20770,\n",
       " 'biz': 2188,\n",
       " 'advisor': 534,\n",
       " 'help': 8902,\n",
       " 'middle': 12332,\n",
       " 'market': 11905,\n",
       " 'succeed': 18735,\n",
       " 'rsm': 16588,\n",
       " 'gauntlet': 7841,\n",
       " 'mess': 12259,\n",
       " 'around': 1198,\n",
       " 'thumb': 19568,\n",
       " 'namibia': 12942,\n",
       " 'fuck': 7647,\n",
       " 'wake': 20996,\n",
       " 'crocodile': 4634,\n",
       " 'boyfriend': 2554,\n",
       " 'ones': 13731,\n",
       " 'held': 8890,\n",
       " 'oh': 13642,\n",
       " 'please': 14701,\n",
       " 'publicrelations': 15350,\n",
       " 'information': 9767,\n",
       " 'happy': 8665,\n",
       " 'imma': 9573,\n",
       " 'keep': 10546,\n",
       " 'gonna': 8155,\n",
       " 'lucky': 11601,\n",
       " 'penny': 14345,\n",
       " 'ñó': 22111,\n",
       " 'ñ_': 22106,\n",
       " 'rockin': 16465,\n",
       " 'cupcake': 4748,\n",
       " 'earrings': 6046,\n",
       " 'hot': 9238,\n",
       " 'pink': 14571,\n",
       " 'sassy': 16807,\n",
       " 'etsyshops': 6583,\n",
       " 'cupcakes': 4749,\n",
       " 'asked': 1275,\n",
       " 'vitamins': 20875,\n",
       " 'prenatal': 15020,\n",
       " 'yes': 21803,\n",
       " 'ah': 628,\n",
       " 'thought': 19521,\n",
       " 'arguing': 1165,\n",
       " 'reverse': 16269,\n",
       " 'wrong': 21663,\n",
       " 'skulking': 17716,\n",
       " 'gin': 8011,\n",
       " 'tonic': 19758,\n",
       " 'follower': 7388,\n",
       " 'day': 4953,\n",
       " 'stats': 18416,\n",
       " 'growing': 8409,\n",
       " 'account': 357,\n",
       " 'supposed': 18858,\n",
       " 'move': 12724,\n",
       " 'things': 19476,\n",
       " 'everyone': 6622,\n",
       " 'everything': 6625,\n",
       " 'constant': 4218,\n",
       " 'reminder': 16050,\n",
       " 'poor': 14817,\n",
       " 'woman': 21529,\n",
       " 'god': 8123,\n",
       " 'came': 3026,\n",
       " 'home': 9132,\n",
       " 'tuesday': 20097,\n",
       " 'wtf': 21674,\n",
       " 'enough': 6417,\n",
       " 'squirting': 18300,\n",
       " 'spooning': 18246,\n",
       " 'fiddling': 7100,\n",
       " 'cheeky': 3499,\n",
       " 'dinner': 5432,\n",
       " 'date': 4928,\n",
       " 'fvck': 7732,\n",
       " 'fvcking': 7733,\n",
       " 'noisy': 13319,\n",
       " 'christian': 3645,\n",
       " 'non': 13333,\n",
       " 'religious': 16028,\n",
       " 'unitarian': 20428,\n",
       " 'scottish': 16974,\n",
       " 'poet': 14743,\n",
       " 'james': 10163,\n",
       " 'beattie': 1837,\n",
       " 'tragic': 19884,\n",
       " 'wife': 21373,\n",
       " 'sons': 18031,\n",
       " 'died': 5381,\n",
       " 'early': 6038,\n",
       " 'outcry': 13915,\n",
       " 'slave': 17751,\n",
       " 'trade': 19867,\n",
       " 'metal': 12270,\n",
       " 'scarce': 16890,\n",
       " 'oscars': 13885,\n",
       " 'given': 8040,\n",
       " 'world': 21598,\n",
       " 'war': 21055,\n",
       " 'ii': 9518,\n",
       " 'made': 11686,\n",
       " 'wood': 21548,\n",
       " 'rita': 16396,\n",
       " 'ora': 13821,\n",
       " 'recalls': 15817,\n",
       " 'journey': 10379,\n",
       " 'refugee': 15930,\n",
       " 'becoming': 1860,\n",
       " 'biggest': 2095,\n",
       " 'stars': 18390,\n",
       " 'raspberry': 15703,\n",
       " 'tech': 19216,\n",
       " 'pi': 14511,\n",
       " 'raspbian': 15704,\n",
       " 'install': 9857,\n",
       " 'lxde': 11637,\n",
       " 'rasbian': 15700,\n",
       " 'lx': 11636,\n",
       " 'girl': 8025,\n",
       " 'feels': 7018,\n",
       " 'esto': 6561,\n",
       " 'gusta': 8497,\n",
       " '_ù_': 59,\n",
       " 'build': 2827,\n",
       " 'transforming': 19908,\n",
       " 'workbench': 21577,\n",
       " 'desk': 5267,\n",
       " 'storage': 18547,\n",
       " 'unit': 20427,\n",
       " 'ûªt': 22150,\n",
       " 'lot': 11510,\n",
       " 'space': 18100,\n",
       " 'lifehacker': 11231,\n",
       " 'website': 21171,\n",
       " 'brochure': 2721,\n",
       " 'full': 7682,\n",
       " 'errors': 6518,\n",
       " 'remember': 16043,\n",
       " 'written': 21662,\n",
       " 'proofreader': 15246,\n",
       " 'moved': 12726,\n",
       " 'cut': 4793,\n",
       " 'grass': 8298,\n",
       " 'primerealstate': 15103,\n",
       " 'votegeoff': 20936,\n",
       " 'votechange': 20934,\n",
       " 'taxpayers': 19156,\n",
       " 'paid': 14041,\n",
       " 'public': 15344,\n",
       " 'records': 15854,\n",
       " 'tuition': 20103,\n",
       " 'used': 20577,\n",
       " 'expenses': 6718,\n",
       " 'according': 356,\n",
       " 'unc': 20328,\n",
       " 'nah': 12923,\n",
       " 'guys': 8509,\n",
       " 'nothing': 13396,\n",
       " 'annoyed': 996,\n",
       " 'interview': 9942,\n",
       " 'contact': 4237,\n",
       " 'interviewer': 9945,\n",
       " 'sexy': 17261,\n",
       " 'asian': 1269,\n",
       " 'london': 11446,\n",
       " 'keyes': 10589,\n",
       " 'wears': 21153,\n",
       " 'lingerie': 11300,\n",
       " 'work': 21576,\n",
       " 'without': 21484,\n",
       " 'getting': 7959,\n",
       " 'mad': 11682,\n",
       " 'emì': 6349,\n",
       " 'tiì': 19680,\n",
       " 'nalrì': 12934,\n",
       " 'adshì': 503,\n",
       " 'might': 12349,\n",
       " 'attending': 1388,\n",
       " 'dying': 6015,\n",
       " 'inside': 9830,\n",
       " 'sign': 17550,\n",
       " 'series': 17199,\n",
       " 'children': 3573,\n",
       " 'deaf': 4986,\n",
       " 'hearing': 8833,\n",
       " 'set': 17223,\n",
       " 'comprises': 4100,\n",
       " 'ready': 15766,\n",
       " 'meal': 12114,\n",
       " 'woohoo': 21554,\n",
       " 'congrats': 4172,\n",
       " 'facebook': 6802,\n",
       " 'likes': 11263,\n",
       " 'competitors': 4076,\n",
       " 'faithful': 6851,\n",
       " 'howl': 9284,\n",
       " 'every': 6616,\n",
       " 'dont': 5718,\n",
       " 'win': 21410,\n",
       " 'cunts': 4745,\n",
       " 'clearly': 3771,\n",
       " 'hello': 8896,\n",
       " 'david': 4940,\n",
       " 'schuman': 16943,\n",
       " 'nuc': 13455,\n",
       " 'american': 867,\n",
       " 'dm': 5619,\n",
       " 'boss': 2489,\n",
       " 'stop': 18537,\n",
       " 'blaming': 2233,\n",
       " 'fall': 6859,\n",
       " 'become': 1858,\n",
       " 'cuddly': 4726,\n",
       " 'teddy': 19234,\n",
       " 'oculus': 13586,\n",
       " 'rift': 16357,\n",
       " 'adawarp': 438,\n",
       " 'voted': 20935,\n",
       " 'artistoftheyear': 1238,\n",
       " 'vote': 20930,\n",
       " 'favorite': 6955,\n",
       " 'justinbieber': 10459,\n",
       " 'preserve': 15050,\n",
       " 'recipes': 15831,\n",
       " 'memories': 12204,\n",
       " 'personal': 14408,\n",
       " 'behind': 1908,\n",
       " 'food': 7399,\n",
       " 'listen': 11329,\n",
       " 'ahh': 637,\n",
       " 'basically': 1738,\n",
       " 'eh': 6177,\n",
       " 'therefore': 19437,\n",
       " 'tell': 19265,\n",
       " 'chara': 3441,\n",
       " 'ooc': 13755,\n",
       " 'right': 16359,\n",
       " 'jabs': 10125,\n",
       " 'opportunity': 13798,\n",
       " 'daisy': 4852,\n",
       " 'actually': 425,\n",
       " 'tough': 19825,\n",
       " 'leathers': 11056,\n",
       " 'bran': 2589,\n",
       " 'think': 19479,\n",
       " 'always': 821,\n",
       " 'cool': 4316,\n",
       " 'slutbags': 17819,\n",
       " 'vag': 20629,\n",
       " 'separated': 17178,\n",
       " 'enjoy': 6409,\n",
       " 'art': 1220,\n",
       " 'sneezed': 17902,\n",
       " 'times': 19635,\n",
       " 'point': 14749,\n",
       " 'stopped': 18542,\n",
       " 'saying': 16858,\n",
       " 'bless': 2256,\n",
       " 'fell': 7031,\n",
       " 'asleep': 1287,\n",
       " 'wacky': 20973,\n",
       " 'dream': 5845,\n",
       " 'junk': 10444,\n",
       " 'msg': 12756,\n",
       " 'squad': 18287,\n",
       " 'guy': 8506,\n",
       " 'looks': 11465,\n",
       " 'milton': 12392,\n",
       " 'office': 13619,\n",
       " 'control': 4287,\n",
       " 'laughter': 10961,\n",
       " 'great': 8316,\n",
       " 'shout': 17461,\n",
       " 'mention': 12223,\n",
       " 'traveloregon': 19941,\n",
       " 'even': 6600,\n",
       " 'funny': 7706,\n",
       " 'hahahahaha': 8557,\n",
       " 'worth': 21619,\n",
       " 'happenings': 8657,\n",
       " 'mill': 12375,\n",
       " 'lowell': 11565,\n",
       " 'rushing': 16636,\n",
       " 'telling': 19267,\n",
       " 'exactly': 6641,\n",
       " 'afraid': 567,\n",
       " 'listening': 11331,\n",
       " 'bullshit': 2846,\n",
       " 'stay': 18421,\n",
       " 'relatively': 16007,\n",
       " 'healthy': 8828,\n",
       " 'culinary': 4733,\n",
       " 'traditions': 19878,\n",
       " 'odissa': 13596,\n",
       " 'cooking': 4314,\n",
       " 'cuisine': 4731,\n",
       " 'idek': 9471,\n",
       " 'watched': 21104,\n",
       " 'fear': 6980,\n",
       " 'added': 440,\n",
       " 'playlist': 14689,\n",
       " 'christmas': 3651,\n",
       " 'tree': 19963,\n",
       " 'lyrics': 11653,\n",
       " 'ride': 16341,\n",
       " 'store': 18548,\n",
       " 'reasonswhywelovereecebibby': 15804,\n",
       " 'voice': 20904,\n",
       " 'looking': 11463,\n",
       " 'person': 14405,\n",
       " 'ha': 8524,\n",
       " 'gustado': 8498,\n",
       " 'un': 20313,\n",
       " 'vì_deo': 20969,\n",
       " 'de': 4978,\n",
       " 'hearthstone': 8844,\n",
       " 'kolento': 10757,\n",
       " 'troll': 20026,\n",
       " 'failfish': 6836,\n",
       " 'moments': 12579,\n",
       " 'opieop': 13790,\n",
       " 'offering': 13616,\n",
       " 'lineups': 11298,\n",
       " 'retweets': 16252,\n",
       " 'comeon': 3995,\n",
       " 'lets': 11150,\n",
       " 'training': 19892,\n",
       " 'running': 16631,\n",
       " 'grandcanyon': 8273,\n",
       " 'decided': 5033,\n",
       " 'pack': 14021,\n",
       " 'suit': 18775,\n",
       " 'buried': 2884,\n",
       " 'fingerless': 7164,\n",
       " 'gloves': 8089,\n",
       " 'sudden': 18750,\n",
       " 'askheel': 1277,\n",
       " 'washing': 21087,\n",
       " 'fruit': 7627,\n",
       " 'veg': 20699,\n",
       " 'brush': 2772,\n",
       " 'pull': 15370,\n",
       " 'says': 16860,\n",
       " 'dissing': 5567,\n",
       " 'care': 3144,\n",
       " 'maybe': 12052,\n",
       " 'somewhere': 18019,\n",
       " 'deep': 5065,\n",
       " 'soul': 18063,\n",
       " 'lasts': 10937,\n",
       " 'ways': 21126,\n",
       " 'alone': 794,\n",
       " 'straight': 18569,\n",
       " 'awards': 1497,\n",
       " 'endorsements': 6374,\n",
       " 'mattress': 12030,\n",
       " 'company': 4058,\n",
       " 'warranty': 21075,\n",
       " 'industry': 9734,\n",
       " 'hunter': 9368,\n",
       " 'comes': 3996,\n",
       " 'puts': 15449,\n",
       " 'sliver': 17800,\n",
       " 'chain': 3390,\n",
       " 'neck': 13054,\n",
       " 'dragging': 5818,\n",
       " 'hayden': 8780,\n",
       " 'beast': 1827,\n",
       " 'mode': 12544,\n",
       " 'knicks': 10713,\n",
       " 'sl': 17732,\n",
       " 'johnson': 10336,\n",
       " 'spot': 18256,\n",
       " 'air': 659,\n",
       " 'future': 7721,\n",
       " 'alan': 692,\n",
       " 'silvestri': 17578,\n",
       " 'backtothefuture': 1572,\n",
       " 'page': 14039,\n",
       " 'positive': 14874,\n",
       " 'energy': 6386,\n",
       " 'elevate': 6234,\n",
       " 'college': 3944,\n",
       " 'hard': 8685,\n",
       " 'wanna': 21046,\n",
       " 'friends': 7604,\n",
       " 'family': 6877,\n",
       " 'urged': 20557,\n",
       " 'elderly': 6206,\n",
       " 'customers': 4789,\n",
       " 'cheaper': 3482,\n",
       " 'deals': 4992,\n",
       " 'nationalpumpkinday': 12995,\n",
       " 'pumpkin': 15379,\n",
       " 'sad': 16686,\n",
       " 'interviewing': 9947,\n",
       " 'rick': 16335,\n",
       " 'zeiler': 21923,\n",
       " 'owner': 13996,\n",
       " 'cold': 3923,\n",
       " 'cock': 3881,\n",
       " 'whiskey': 21312,\n",
       " 'afternoon': 579,\n",
       " 'yep': 21801,\n",
       " 'broadwayhd': 2719,\n",
       " 'streaming': 18596,\n",
       " 'service': 17215,\n",
       " 'theater': 19381,\n",
       " 'ûªs': 22149,\n",
       " 'doubt': 5765,\n",
       " 'demand': 5158,\n",
       " 'services': 17217,\n",
       " 'mum': 12809,\n",
       " 'gran': 8270,\n",
       " 'booked': 2435,\n",
       " 'bond': 2411,\n",
       " 'film': 7130,\n",
       " 'recommend': 15841,\n",
       " 'anyone': 1045,\n",
       " 'nursing': 13473,\n",
       " 'job': 10313,\n",
       " 'atlanta': 1356,\n",
       " 'ga': 7746,\n",
       " 'hiring': 9037,\n",
       " 'careerarc': 3148,\n",
       " 'im': 9554,\n",
       " 'missing': 12470,\n",
       " 'talent': 19067,\n",
       " 'reach': 15749,\n",
       " 'hype': 9410,\n",
       " 'onedirection': 13723,\n",
       " 'cared': 3145,\n",
       " 'express': 6756,\n",
       " 'freely': 7561,\n",
       " 'cookie': 4312,\n",
       " 'probably': 15148,\n",
       " 'operating': 13783,\n",
       " 'system': 19011,\n",
       " 'pdp': 14282,\n",
       " 'bell': 1939,\n",
       " 'laboratories': 10837,\n",
       " 'loves': 11557,\n",
       " 'song': 18024,\n",
       " 'carly': 3170,\n",
       " 'fx': 7739,\n",
       " 'sit': 17644,\n",
       " 'yo': 21829,\n",
       " 'lot_ùª': 11512,\n",
       " 'fiber': 7093,\n",
       " 'diet': 5385,\n",
       " 'weight': 21212,\n",
       " 'loss': 11504,\n",
       " 'ûò': 22218,\n",
       " 'foods': 7402,\n",
       " 'malawi': 11769,\n",
       " 'poised': 14752,\n",
       " 'introduce': 9964,\n",
       " 'road': 16427,\n",
       " 'toll': 19736,\n",
       " 'gates': 7831,\n",
       " 'major': 11747,\n",
       " 'roads': 16429,\n",
       " 'whic': 21301,\n",
       " 'fruits': 7630,\n",
       " 'vegetables': 20705,\n",
       " 'suspiciously': 18908,\n",
       " 'sexual': 17256,\n",
       " 'click': 3784,\n",
       " 'cost': 4407,\n",
       " 'entry': 6454,\n",
       " 'raining': 15629,\n",
       " 'ceremony': 3362,\n",
       " 'beautiful': 1841,\n",
       " 'drive': 5875,\n",
       " 'track': 19859,\n",
       " 'ð¼': 22105,\n",
       " 'hitman': 9055,\n",
       " 'sets': 17228,\n",
       " 'ft': 7642,\n",
       " 'zanya': 21913,\n",
       " 'laurence': 10974,\n",
       " 'spectre': 18155,\n",
       " 'premiere': 15016,\n",
       " 'months': 12625,\n",
       " 'latest': 10944,\n",
       " 'instalment': 9863,\n",
       " 'literally': 11340,\n",
       " 'front': 7620,\n",
       " 'hold': 9098,\n",
       " 'thank': 19362,\n",
       " 'kind': 10655,\n",
       " 'human': 9341,\n",
       " 'mayor': 12057,\n",
       " 'noting': 13405,\n",
       " 'implementing': 9605,\n",
       " 'wifi': 21374,\n",
       " 'options': 13815,\n",
       " 'costs': 4410,\n",
       " 'tweep': 20166,\n",
       " 'followed': 7387,\n",
       " 'nobody': 13302,\n",
       " 'unfollowed': 20397,\n",
       " 'past': 14199,\n",
       " ...}"
      ]
     },
     "execution_count": 38,
     "metadata": {},
     "output_type": "execute_result"
    }
   ],
   "source": [
    "tf_vec.vocabulary_"
   ]
  },
  {
   "cell_type": "code",
   "execution_count": 39,
   "metadata": {},
   "outputs": [
    {
     "data": {
      "text/plain": [
       "matrix([[0., 0., 0., ..., 0., 0., 0.],\n",
       "        [0., 0., 0., ..., 0., 0., 0.],\n",
       "        [0., 0., 0., ..., 0., 0., 0.],\n",
       "        ...,\n",
       "        [0., 0., 0., ..., 0., 0., 0.],\n",
       "        [0., 0., 0., ..., 0., 0., 0.],\n",
       "        [0., 0., 0., ..., 0., 0., 0.]])"
      ]
     },
     "execution_count": 39,
     "metadata": {},
     "output_type": "execute_result"
    }
   ],
   "source": [
    "tf_vec_ft.todense()"
   ]
  },
  {
   "cell_type": "code",
   "execution_count": 40,
   "metadata": {},
   "outputs": [
    {
     "data": {
      "text/plain": [
       "RandomForestClassifier()"
      ]
     },
     "execution_count": 40,
     "metadata": {},
     "output_type": "execute_result"
    }
   ],
   "source": [
    "rf = RandomForestClassifier()\n",
    "\n",
    "rf.fit(tf_vec_ft, y_train)"
   ]
  },
  {
   "cell_type": "code",
   "execution_count": 41,
   "metadata": {},
   "outputs": [
    {
     "data": {
      "text/plain": [
       "(3768, 22243)"
      ]
     },
     "execution_count": 41,
     "metadata": {},
     "output_type": "execute_result"
    }
   ],
   "source": [
    "tf_vec_ft_test = tf_vec.transform(X_test)\n",
    "tf_vec_ft_test.shape"
   ]
  },
  {
   "cell_type": "code",
   "execution_count": 42,
   "metadata": {},
   "outputs": [],
   "source": [
    "rf_pred = rf.predict(tf_vec_ft_test)"
   ]
  },
  {
   "cell_type": "code",
   "execution_count": 43,
   "metadata": {},
   "outputs": [
    {
     "data": {
      "text/plain": [
       "0.5352972399150743"
      ]
     },
     "execution_count": 43,
     "metadata": {},
     "output_type": "execute_result"
    }
   ],
   "source": [
    "rf.score(tf_vec_ft_test, y_test)"
   ]
  },
  {
   "cell_type": "code",
   "execution_count": 44,
   "metadata": {},
   "outputs": [],
   "source": [
    "tf_feat_names = tf_vec.get_feature_names() \n",
    "tf_feat_names = np.array(tf_feat_names)\n",
    "\n",
    "# len(tf_feat_names), type(tf_feat_names)"
   ]
  },
  {
   "cell_type": "code",
   "execution_count": 45,
   "metadata": {
    "scrolled": true
   },
   "outputs": [
    {
     "data": {
      "text/plain": [
       "array([5.77071784e-05, 5.14250500e-07, 2.13376416e-06, ..., 5.71874455e-06, 9.57748873e-06,\n",
       "       4.63346754e-06])"
      ]
     },
     "execution_count": 45,
     "metadata": {},
     "output_type": "execute_result"
    }
   ],
   "source": [
    "feat_imp = rf.feature_importances_\n",
    "feat_imp"
   ]
  },
  {
   "cell_type": "code",
   "execution_count": 46,
   "metadata": {},
   "outputs": [],
   "source": [
    "feat_imp_10 = np.argsort(feat_imp)[-10:]"
   ]
  },
  {
   "cell_type": "code",
   "execution_count": 47,
   "metadata": {},
   "outputs": [
    {
     "data": {
      "text/plain": [
       "array([ 8107, 11537, 13718, 22131, 11258, 20526,    58,  3426,  7952, 21155])"
      ]
     },
     "execution_count": 47,
     "metadata": {},
     "output_type": "execute_result"
    }
   ],
   "source": [
    "sorted_imp = np.argsort(feat_imp)[-10:]\n",
    "sorted_imp"
   ]
  },
  {
   "cell_type": "code",
   "execution_count": 48,
   "metadata": {},
   "outputs": [
    {
     "data": {
      "text/plain": [
       "array(['go', 'love', 'one', 'û_', 'like', 'updates', '_ù', 'channel', 'get', 'weather'],\n",
       "      dtype='<U89')"
      ]
     },
     "execution_count": 48,
     "metadata": {},
     "output_type": "execute_result"
    }
   ],
   "source": [
    "feat_imp_words = tf_feat_names[np.argsort(feat_imp)][-10:]\n",
    "feat_imp_words"
   ]
  },
  {
   "cell_type": "code",
   "execution_count": 49,
   "metadata": {},
   "outputs": [
    {
     "data": {
      "image/png": "[encoded data removed]",
      "text/plain": [
       "<Figure size 864x576 with 1 Axes>"
      ]
     },
     "metadata": {
      "needs_background": "light"
     },
     "output_type": "display_data"
    }
   ],
   "source": [
    "# Plot the feature importances of the forest\n",
    "fig, ax = plt.subplots(figsize=(12, 8))\n",
    "\n",
    "plt.title('Feature Importances', size=15)\n",
    "plt.barh(range(len(sorted_imp)), feat_imp[sorted_imp], align='center')\n",
    "plt.yticks(range(len(sorted_imp)),feat_imp_words )\n",
    "plt.xlabel('Relative Importance', size=14)\n",
    "plt.ylabel('Features', size=14)\n",
    "plt.savefig('images/feature_imp.png')\n",
    "plt.show()"
   ]
  },
  {
   "cell_type": "code",
   "execution_count": 50,
   "metadata": {},
   "outputs": [
    {
     "data": {
      "text/plain": [
       "array([1, 0, 2, ..., 1, 0, 2])"
      ]
     },
     "execution_count": 50,
     "metadata": {},
     "output_type": "execute_result"
    }
   ],
   "source": [
    "ytest = np.array(y_test)\n",
    "ytest"
   ]
  },
  {
   "cell_type": "code",
   "execution_count": 51,
   "metadata": {},
   "outputs": [],
   "source": [
    "y_pred = pipe.predict(X_test)\n",
    "\n",
    "# y_pred = y_pred.astype('int')\n",
    "# y_pred[:75]"
   ]
  },
  {
   "cell_type": "code",
   "execution_count": 52,
   "metadata": {},
   "outputs": [],
   "source": [
    "# len(ytest), len(y_pred), type(ytest), type(y_pred)\n",
    "# pipel4.get_params().keys()"
   ]
  },
  {
   "cell_type": "code",
   "execution_count": 53,
   "metadata": {},
   "outputs": [
    {
     "name": "stdout",
     "output_type": "stream",
     "text": [
      "Accuracy =  0.5342356687898089\n",
      "              precision    recall  f1-score   support\n",
      "\n",
      "           0       0.66      0.54      0.59      1203\n",
      "           1       0.54      0.62      0.58      1397\n",
      "           2       0.42      0.43      0.43      1168\n",
      "\n",
      "    accuracy                           0.53      3768\n",
      "   macro avg       0.54      0.53      0.53      3768\n",
      "weighted avg       0.54      0.53      0.54      3768\n",
      "\n"
     ]
    }
   ],
   "source": [
    "print('Accuracy = ', accuracy_score(y_test, y_pred))\n",
    "print(classification_report(y_test, y_pred))"
   ]
  },
  {
   "cell_type": "code",
   "execution_count": 54,
   "metadata": {},
   "outputs": [],
   "source": [
    "# print(confusion_matrix(y_test, y_pred))"
   ]
  },
  {
   "cell_type": "code",
   "execution_count": 55,
   "metadata": {},
   "outputs": [
    {
     "name": "stdout",
     "output_type": "stream",
     "text": [
      "[[650 263 290]\n",
      " [141 862 394]\n",
      " [195 472 501]]\n"
     ]
    }
   ],
   "source": [
    "print(confusion_matrix(y_test, y_pred))\n",
    "conf_matrx = confusion_matrix(y_test, y_pred)\n",
    "\n",
    "# sn.heatmap(conf_matrx)"
   ]
  },
  {
   "cell_type": "code",
   "execution_count": 56,
   "metadata": {},
   "outputs": [
    {
     "data": {
      "image/png": "[encoded data removed]",
      "text/plain": [
       "<Figure size 864x576 with 2 Axes>"
      ]
     },
     "metadata": {
      "needs_background": "light"
     },
     "output_type": "display_data"
    }
   ],
   "source": [
    "categories=['Brand','Female','Male']\n",
    "fig, ax = plt.subplots(figsize=(12,8))\n",
    "sn.heatmap(confusion_matrix(ytest, pipe.predict(X_test)), annot=True, fmt='g', xticklabels=categories, yticklabels=categories, ax=ax)\n",
    "ax.set_title('Confusion Matrix', fontsize=20)\n",
    "ax.set_xlabel('Actual',fontsize=15)\n",
    "ax.set_ylabel('Predicted',fontsize=15)\n",
    "plt.tick_params(axis='both', which='major', labelbottom = False, bottom=False, top = False, labeltop=True)\n",
    "plt.savefig('images/base_heatmap.png')"
   ]
  },
  {
   "cell_type": "code",
   "execution_count": null,
   "metadata": {},
   "outputs": [],
   "source": []
  },
  {
   "cell_type": "markdown",
   "metadata": {},
   "source": [
    "## Machine Learning Pipeline using Random Forest Classifier\n",
    "* Removing Unknown and Brand Gender Class from dataframe"
   ]
  },
  {
   "cell_type": "code",
   "execution_count": 57,
   "metadata": {},
   "outputs": [],
   "source": [
    "# Remove Unknown Class - Gender\n",
    "new_df2 = twitter[twitter['gender'] != 'unknown']\n",
    "new_df2 = new_df2.reset_index()\n",
    "# new_df2.info()"
   ]
  },
  {
   "cell_type": "code",
   "execution_count": 58,
   "metadata": {},
   "outputs": [],
   "source": [
    "# Remove Brand Class - Gender\n",
    "new_df2 = new_df2[new_df2['gender'] != 'brand']\n",
    "new_df2 = new_df2.reset_index()\n",
    "\n",
    "# df_b_uk.info()"
   ]
  },
  {
   "cell_type": "code",
   "execution_count": 59,
   "metadata": {},
   "outputs": [],
   "source": [
    "# Text Processing without unknown class \n",
    "tweets_df2 = clean_data(new_df2.text)\n",
    "text_stem2 = tweets_df2.apply(stem)\n"
   ]
  },
  {
   "cell_type": "code",
   "execution_count": 60,
   "metadata": {},
   "outputs": [
    {
     "data": {
      "text/plain": [
       "(12894, 12894)"
      ]
     },
     "execution_count": 60,
     "metadata": {},
     "output_type": "execute_result"
    }
   ],
   "source": [
    "len(new_df2.gender), len(text_stem2)"
   ]
  },
  {
   "cell_type": "code",
   "execution_count": 61,
   "metadata": {},
   "outputs": [],
   "source": [
    "X = text_stem2\n",
    "Y = new_df2.gender"
   ]
  },
  {
   "cell_type": "code",
   "execution_count": 62,
   "metadata": {},
   "outputs": [
    {
     "name": "stdout",
     "output_type": "stream",
     "text": [
      "[1 1 1 1 0 0 1 0 0 0 0 0 0 1 1 0 0 0 1 1 0 0 1 1 0]\n"
     ]
    }
   ],
   "source": [
    "encoder = LabelEncoder()\n",
    "Y = encoder.fit_transform(Y)\n",
    "# # Y = Y.astype('int')\n",
    "# print(classes[:15])\n",
    "print(Y[:25])"
   ]
  },
  {
   "cell_type": "code",
   "execution_count": 63,
   "metadata": {},
   "outputs": [],
   "source": [
    "X_train, X_test, Y_train, Y_test = train_test_split(X, Y, test_size=0.2, random_state=1)\n",
    "# X_train, X_test, y_train, y_test"
   ]
  },
  {
   "cell_type": "code",
   "execution_count": 64,
   "metadata": {},
   "outputs": [
    {
     "data": {
      "text/plain": [
       "Pipeline(steps=[('vect', CountVectorizer()), ('tfidf', TfidfTransformer()),\n",
       "                ('clf', RandomForestClassifier())])"
      ]
     },
     "execution_count": 64,
     "metadata": {},
     "output_type": "execute_result"
    }
   ],
   "source": [
    "## Pipeline Build \n",
    "pipeline_bi = Pipeline([('vect', CountVectorizer()), \n",
    "                  ('tfidf', TfidfTransformer()),\n",
    "                  ('clf', RandomForestClassifier())])\n",
    "\n",
    "pipeline_bi.fit(X_train, Y_train)"
   ]
  },
  {
   "cell_type": "code",
   "execution_count": 65,
   "metadata": {},
   "outputs": [
    {
     "data": {
      "text/plain": [
       "array([0, 1, 0, ..., 1, 1, 0])"
      ]
     },
     "execution_count": 65,
     "metadata": {},
     "output_type": "execute_result"
    }
   ],
   "source": [
    "Ytest = np.array(Y_test)\n",
    "Ytest"
   ]
  },
  {
   "cell_type": "code",
   "execution_count": 66,
   "metadata": {},
   "outputs": [],
   "source": [
    "Y_pred = pipeline_bi.predict(X_test)\n",
    "\n",
    "Y_pred = Y_pred.astype('int')\n",
    "# Y_pred[:75]"
   ]
  },
  {
   "cell_type": "code",
   "execution_count": 67,
   "metadata": {},
   "outputs": [
    {
     "name": "stdout",
     "output_type": "stream",
     "text": [
      "Accuracy =  0.5773555641721597\n",
      "              precision    recall  f1-score   support\n",
      "\n",
      "           0       0.59      0.66      0.62      1358\n",
      "           1       0.56      0.49      0.52      1221\n",
      "\n",
      "    accuracy                           0.58      2579\n",
      "   macro avg       0.58      0.57      0.57      2579\n",
      "weighted avg       0.58      0.58      0.57      2579\n",
      "\n"
     ]
    }
   ],
   "source": [
    "print('Accuracy = ', accuracy_score(Y_test, Y_pred))\n",
    "print(classification_report(Y_test, Y_pred))"
   ]
  },
  {
   "cell_type": "code",
   "execution_count": 68,
   "metadata": {},
   "outputs": [
    {
     "name": "stdout",
     "output_type": "stream",
     "text": [
      "[[894 464]\n",
      " [626 595]]\n"
     ]
    }
   ],
   "source": [
    "print(confusion_matrix(Y_test, Y_pred))\n",
    "conf_matrx = confusion_matrix(Y_test, Y_pred)\n",
    "\n",
    "# sn.heatmap(conf_matrx)"
   ]
  },
  {
   "cell_type": "code",
   "execution_count": 69,
   "metadata": {},
   "outputs": [],
   "source": [
    "conf_matrx = confusion_matrix(Ytest, Y_pred)\n",
    "\n",
    "# sn.heatmap(conf_matrx)"
   ]
  },
  {
   "cell_type": "code",
   "execution_count": 70,
   "metadata": {},
   "outputs": [
    {
     "data": {
      "image/png": "[encoded data removed]",
      "text/plain": [
       "<Figure size 864x576 with 2 Axes>"
      ]
     },
     "metadata": {
      "needs_background": "light"
     },
     "output_type": "display_data"
    }
   ],
   "source": [
    "categories=['Female','Male']\n",
    "fig, ax = plt.subplots(figsize=(12,8))\n",
    "sn.heatmap(confusion_matrix(Ytest, pipeline_bi.predict(X_test)), annot=True, fmt='g', xticklabels=categories, yticklabels=categories, ax=ax)\n",
    "ax.set_title('Confusion Matrix', fontsize=20)\n",
    "ax.set_xlabel('Actual',fontsize=15)\n",
    "ax.set_ylabel('Predicted',fontsize=15)\n",
    "plt.tick_params(axis='both', which='major', labelbottom = False, bottom=False, top = False, labeltop=True)\n",
    "plt.savefig('images/base_heatmap2.png')"
   ]
  },
  {
   "cell_type": "code",
   "execution_count": 71,
   "metadata": {},
   "outputs": [
    {
     "data": {
      "text/plain": [
       "(10315, 17247)"
      ]
     },
     "execution_count": 71,
     "metadata": {},
     "output_type": "execute_result"
    }
   ],
   "source": [
    "tf_vec = TfidfVectorizer()\n",
    "\n",
    "tf_vec_ft = tf_vec.fit_transform(X_train)\n",
    "tf_vec_ft.shape"
   ]
  },
  {
   "cell_type": "code",
   "execution_count": 72,
   "metadata": {
    "scrolled": true
   },
   "outputs": [],
   "source": [
    "# tf_vec.vocabulary_"
   ]
  },
  {
   "cell_type": "code",
   "execution_count": 73,
   "metadata": {},
   "outputs": [
    {
     "data": {
      "text/plain": [
       "matrix([[0., 0., 0., ..., 0., 0., 0.],\n",
       "        [0., 0., 0., ..., 0., 0., 0.],\n",
       "        [0., 0., 0., ..., 0., 0., 0.],\n",
       "        ...,\n",
       "        [0., 0., 0., ..., 0., 0., 0.],\n",
       "        [0., 0., 0., ..., 0., 0., 0.],\n",
       "        [0., 0., 0., ..., 0., 0., 0.]])"
      ]
     },
     "execution_count": 73,
     "metadata": {},
     "output_type": "execute_result"
    }
   ],
   "source": [
    "tf_vec_ft.todense()"
   ]
  },
  {
   "cell_type": "code",
   "execution_count": 74,
   "metadata": {},
   "outputs": [
    {
     "data": {
      "text/plain": [
       "RandomForestClassifier()"
      ]
     },
     "execution_count": 74,
     "metadata": {},
     "output_type": "execute_result"
    }
   ],
   "source": [
    "rf = RandomForestClassifier()\n",
    "\n",
    "rf.fit(tf_vec_ft, Y_train)"
   ]
  },
  {
   "cell_type": "code",
   "execution_count": 75,
   "metadata": {},
   "outputs": [
    {
     "data": {
      "text/plain": [
       "(2579, 17247)"
      ]
     },
     "execution_count": 75,
     "metadata": {},
     "output_type": "execute_result"
    }
   ],
   "source": [
    "tf_vec_ft_test = tf_vec.transform(X_test)\n",
    "tf_vec_ft_test.shape"
   ]
  },
  {
   "cell_type": "code",
   "execution_count": 76,
   "metadata": {},
   "outputs": [],
   "source": [
    "# tf_vec_ft_test"
   ]
  },
  {
   "cell_type": "code",
   "execution_count": 77,
   "metadata": {},
   "outputs": [],
   "source": [
    "rf_pred = rf.predict(tf_vec_ft_test)"
   ]
  },
  {
   "cell_type": "code",
   "execution_count": 78,
   "metadata": {},
   "outputs": [
    {
     "data": {
      "text/plain": [
       "0.5874369910818147"
      ]
     },
     "execution_count": 78,
     "metadata": {},
     "output_type": "execute_result"
    }
   ],
   "source": [
    "rf.score(tf_vec_ft_test, Y_test)"
   ]
  },
  {
   "cell_type": "code",
   "execution_count": 79,
   "metadata": {},
   "outputs": [
    {
     "data": {
      "text/plain": [
       "(17247, numpy.ndarray)"
      ]
     },
     "execution_count": 79,
     "metadata": {},
     "output_type": "execute_result"
    }
   ],
   "source": [
    "tf_feat_names = tf_vec.get_feature_names() \n",
    "tf_feat_names = np.array(tf_feat_names)\n",
    "\n",
    "len(tf_feat_names), type(tf_feat_names)"
   ]
  },
  {
   "cell_type": "code",
   "execution_count": 80,
   "metadata": {
    "scrolled": true
   },
   "outputs": [
    {
     "data": {
      "text/plain": [
       "array([7.90221410e-05, 7.97925281e-07, 1.05557645e-06, ..., 3.94405787e-05, 2.88236916e-05,\n",
       "       8.44151235e-06])"
      ]
     },
     "execution_count": 80,
     "metadata": {},
     "output_type": "execute_result"
    }
   ],
   "source": [
    "feat_imp = rf.feature_importances_\n",
    "feat_imp"
   ]
  },
  {
   "cell_type": "code",
   "execution_count": 81,
   "metadata": {},
   "outputs": [],
   "source": [
    "feat_imp_10 = np.argsort(feat_imp)[-15:]"
   ]
  },
  {
   "cell_type": "code",
   "execution_count": 82,
   "metadata": {},
   "outputs": [
    {
     "data": {
      "text/plain": [
       "array([10182,  1587, 16342,  3876,  6358, 15204,  6082,  8322, 10609,  6317, 11102,  8959,  8725,\n",
       "        6202,    46])"
      ]
     },
     "execution_count": 82,
     "metadata": {},
     "output_type": "execute_result"
    }
   ],
   "source": [
    "sorted_imp = np.argsort(feat_imp)[-15:]\n",
    "sorted_imp"
   ]
  },
  {
   "cell_type": "code",
   "execution_count": 83,
   "metadata": {},
   "outputs": [
    {
     "data": {
      "text/plain": [
       "array(['new', 'best', 'want', 'day', 'good', 'time', 'game', 'know', 'one', 'go', 'people', 'love',\n",
       "       'like', 'get', '_ù'], dtype='<U89')"
      ]
     },
     "execution_count": 83,
     "metadata": {},
     "output_type": "execute_result"
    }
   ],
   "source": [
    "feat_imp_words = tf_feat_names[np.argsort(feat_imp)][-15:]\n",
    "feat_imp_words"
   ]
  },
  {
   "cell_type": "code",
   "execution_count": 84,
   "metadata": {},
   "outputs": [
    {
     "data": {
      "image/png": "[encoded data removed]",
      "text/plain": [
       "<Figure size 864x576 with 1 Axes>"
      ]
     },
     "metadata": {
      "needs_background": "light"
     },
     "output_type": "display_data"
    }
   ],
   "source": [
    "# Plot the feature importances of the forest\n",
    "fig, ax = plt.subplots(figsize=(12, 8))\n",
    "\n",
    "plt.title('Feature Importances', size=15)\n",
    "plt.barh(range(len(sorted_imp)), feat_imp[sorted_imp], align='center')\n",
    "plt.yticks(range(len(sorted_imp)),feat_imp_words )\n",
    "plt.xlabel('Relative Importance', size=14)\n",
    "plt.ylabel('Features', size=14)\n",
    "plt.savefig('images/feature_imp3.png')\n",
    "plt.show()"
   ]
  },
  {
   "cell_type": "code",
   "execution_count": null,
   "metadata": {},
   "outputs": [],
   "source": []
  },
  {
   "cell_type": "markdown",
   "metadata": {},
   "source": [
    "## Data Analysis Using other M.L Models\n",
    "* Binary Classification for 'Male' and 'Female' Only"
   ]
  },
  {
   "cell_type": "code",
   "execution_count": 85,
   "metadata": {},
   "outputs": [],
   "source": [
    "from sklearn.linear_model import LogisticRegression\n",
    "from sklearn.ensemble import RandomForestClassifier\n",
    "from sklearn.ensemble import GradientBoostingClassifier\n",
    "from sklearn.svm import SVC\n",
    "from sklearn.naive_bayes import BernoulliNB,MultinomialNB, GaussianNB\n",
    "# from xgboost import XGBClassifier\n",
    "# from lightgbm import LGBMClassifier"
   ]
  },
  {
   "cell_type": "code",
   "execution_count": 86,
   "metadata": {},
   "outputs": [],
   "source": [
    "x = text_stem2\n",
    "Y = new_df2.gender\n",
    "\n",
    "tfidf = TfidfVectorizer()\n",
    "x = tfidf.fit_transform(x)\n",
    "\n",
    "x_train, x_test, Y_train, Y_test = train_test_split(x, Y, test_size = 0.2)"
   ]
  },
  {
   "cell_type": "code",
   "execution_count": 87,
   "metadata": {},
   "outputs": [],
   "source": [
    "## List of ML Algorithms/ Model Classifiers\n",
    "models = [LogisticRegression(),\n",
    "          RandomForestClassifier(),\n",
    "          GradientBoostingClassifier(),\n",
    "          BernoulliNB() ]"
   ]
  },
  {
   "cell_type": "code",
   "execution_count": 88,
   "metadata": {},
   "outputs": [
    {
     "name": "stdout",
     "output_type": "stream",
     "text": [
      "LogisticRegression\n",
      "Accuracy : 0.5893757270259791\n",
      "              precision    recall  f1-score   support\n",
      "\n",
      "      female       0.62      0.61      0.62      1393\n",
      "        male       0.55      0.57      0.56      1186\n",
      "\n",
      "    accuracy                           0.59      2579\n",
      "   macro avg       0.59      0.59      0.59      2579\n",
      "weighted avg       0.59      0.59      0.59      2579\n",
      "\n",
      "[[847 546]\n",
      " [513 673]]\n",
      "------------------------------------------------------------\n",
      "RandomForestClassifier\n",
      "Accuracy : 0.5955796820473052\n",
      "              precision    recall  f1-score   support\n",
      "\n",
      "      female       0.63      0.62      0.62      1393\n",
      "        male       0.56      0.57      0.57      1186\n",
      "\n",
      "    accuracy                           0.60      2579\n",
      "   macro avg       0.59      0.59      0.59      2579\n",
      "weighted avg       0.60      0.60      0.60      2579\n",
      "\n",
      "[[857 536]\n",
      " [507 679]]\n",
      "------------------------------------------------------------\n",
      "GradientBoostingClassifier\n",
      "Accuracy : 0.550601008142691\n",
      "              precision    recall  f1-score   support\n",
      "\n",
      "      female       0.63      0.40      0.49      1393\n",
      "        male       0.51      0.73      0.60      1186\n",
      "\n",
      "    accuracy                           0.55      2579\n",
      "   macro avg       0.57      0.56      0.54      2579\n",
      "weighted avg       0.58      0.55      0.54      2579\n",
      "\n",
      "[[555 838]\n",
      " [321 865]]\n",
      "------------------------------------------------------------\n",
      "BernoulliNB\n",
      "Accuracy : 0.6114773167894533\n",
      "              precision    recall  f1-score   support\n",
      "\n",
      "      female       0.62      0.74      0.67      1393\n",
      "        male       0.60      0.46      0.52      1186\n",
      "\n",
      "    accuracy                           0.61      2579\n",
      "   macro avg       0.61      0.60      0.60      2579\n",
      "weighted avg       0.61      0.61      0.60      2579\n",
      "\n",
      "[[1035  358]\n",
      " [ 644  542]]\n",
      "------------------------------------------------------------\n"
     ]
    }
   ],
   "source": [
    "for model in models:\n",
    "    model.fit(x_train,Y_train)\n",
    "    Y_pred = model.predict(x_test)\n",
    "    proba = model.predict_proba(x_test)\n",
    "    score = accuracy_score(Y_test,Y_pred)\n",
    "    bin_clf_rep = classification_report(Y_test,Y_pred, zero_division=1)\n",
    "    name = str(model)\n",
    "    print(name[0:name.find(\"(\")])\n",
    "    print(\"Accuracy :\", score)\n",
    "    print(bin_clf_rep)\n",
    "    print(confusion_matrix(Y_test,Y_pred))\n",
    "    print(\"------------------------------------------------------------\")"
   ]
  },
  {
   "cell_type": "code",
   "execution_count": 89,
   "metadata": {},
   "outputs": [
    {
     "data": {
      "image/png": "[encoded data removed]",
      "text/plain": [
       "<Figure size 432x288 with 1 Axes>"
      ]
     },
     "metadata": {
      "needs_background": "light"
     },
     "output_type": "display_data"
    }
   ],
   "source": [
    "fig, ax = plt.subplots()\n",
    "\n",
    "model_rf = RandomForestClassifier().fit(x_train, Y_train)\n",
    "model_lr = LogisticRegression().fit(x_train, Y_train)\n",
    "model_svm = SVC().fit(x_train, Y_train)\n",
    "model_gnb = GaussianNB().fit(x_train.todense(), Y_train)\n",
    "model_mnb = MultinomialNB().fit(x_train.todense(), Y_train)\n",
    "\n",
    "plot_roc_curve(model_rf, x_test, Y_test, ax=ax, name='Random_Forest')\n",
    "plot_roc_curve(model_lr, x_test, Y_test, ax=ax, name='Logistic_Regression')\n",
    "plot_roc_curve(model_svm, x_test, Y_test, ax=ax, name='SVM')\n",
    "plot_roc_curve(model_gnb, x_test.todense(), Y_test, ax=ax, name='GaussianNB')\n",
    "plot_roc_curve(model_mnb, x_test.todense(), Y_test, ax=ax, name='MultinomialNB')\n",
    "plt.show()"
   ]
  },
  {
   "cell_type": "code",
   "execution_count": null,
   "metadata": {},
   "outputs": [],
   "source": []
  }
 ],
 "metadata": {
  "kernelspec": {
   "display_name": "Python 3",
   "language": "python",
   "name": "python3"
  },
  "language_info": {
   "codemirror_mode": {
    "name": "ipython",
    "version": 3
   },
   "file_extension": ".py",
   "mimetype": "text/x-python",
   "name": "python",
   "nbconvert_exporter": "python",
   "pygments_lexer": "ipython3",
   "version": "3.7.9"
  }
 },
 "nbformat": 4,
 "nbformat_minor": 4
}
